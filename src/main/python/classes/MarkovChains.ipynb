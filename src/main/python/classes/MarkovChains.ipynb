{
  "nbformat": 4,
  "nbformat_minor": 0,
  "metadata": {
    "colab": {
      "provenance": [],
      "collapsed_sections": [],
      "include_colab_link": true
    },
    "kernelspec": {
      "name": "python3",
      "display_name": "Python 3"
    },
    "language_info": {
      "name": "python"
    }
  },
  "cells": [
    {
      "cell_type": "markdown",
      "metadata": {
        "id": "view-in-github",
        "colab_type": "text"
      },
      "source": [
        "<a href=\"https://colab.research.google.com/github/johnreyes96/modeling-and-simulation/blob/master/src/main/python/classes/MarkovChains.ipynb\" target=\"_parent\"><img src=\"https://colab.research.google.com/assets/colab-badge.svg\" alt=\"Open In Colab\"/></a>"
      ]
    },
    {
      "cell_type": "markdown",
      "source": [
        "# 1° algorithm"
      ],
      "metadata": {
        "id": "XG6bBAxwyiXp"
      }
    },
    {
      "cell_type": "code",
      "execution_count": null,
      "metadata": {
        "id": "59HNoVNvmFSH",
        "colab": {
          "base_uri": "https://localhost:8080/"
        },
        "outputId": "93674bb6-5e0d-46ec-838b-0d7f89589dd5"
      },
      "outputs": [
        {
          "output_type": "stream",
          "name": "stdout",
          "text": [
            "All is gonna be okay, you should move on!! ;)\n",
            "Start state: Sleep\n",
            "Possible states: ['Sleep', 'Mix', 'Play']\n",
            "End state after 2 days: Play\n",
            "Probability of the possible sequence of states: 0.18\n",
            "\n",
            "Start state: Sleep\n",
            "Possible states: ['Sleep', 'Play', 'Mix', 'Play', 'Mix', 'Play', 'Mix']\n",
            "End state after 6 days: Mix\n",
            "Probability of the possible sequence of states: 0.006173999999999998\n",
            "\n"
          ]
        }
      ],
      "source": [
        "import numpy as np\n",
        "import random as rm\n",
        "\n",
        "states = [\"Sleep\", \"Play\", \"Mix\"] # The statespace\n",
        "transitionName = [[\"SS\", \"SP\", \"SM\"], [\"PS\", \"PP\", \"PM\"], [\"MS\", \"MP\", \"MM\"]] # Possible sequences of events\n",
        "transitionMatrix = [[0.5, 0.3, 0.2], [0.7, 0.2, 0.1], [0.3, 0.6, 0.1]] # Probabilities matrix (transition matrix)\n",
        "\n",
        "if sum(transitionMatrix[0]) + sum(transitionMatrix[1]) + sum(transitionMatrix[1]) != 3:\n",
        "    print(\"Somewhere, something went wrong. Transition matrix, perhaps?\")\n",
        "else: print(\"All is gonna be okay, you should move on!! ;)\")\n",
        "\n",
        "# A function that implements the Markov model to forecast the state/mood.\n",
        "def activity_forecast(days):\n",
        "    # Choose the starting state\n",
        "    activityToday = \"Sleep\"\n",
        "    print(\"Start state: \" + activityToday)\n",
        "    # Shall store the sequence of states taken. So, this only has the starting state for now.\n",
        "    activityList = [activityToday]\n",
        "    i = 0\n",
        "    # To calculate the probability of the activityList\n",
        "    prob = 1\n",
        "    while i != days:\n",
        "        if activityToday == \"Sleep\":\n",
        "            change = np.random.choice(transitionName[0],replace=True,p=transitionMatrix[0])\n",
        "            if change == \"SS\":\n",
        "                prob = prob * 0.2\n",
        "                activityList.append(\"Sleep\")\n",
        "                pass\n",
        "            elif change == \"SM\":\n",
        "                prob = prob * 0.6\n",
        "                activityToday = \"Mix\"\n",
        "                activityList.append(\"Mix\")\n",
        "            else:\n",
        "                prob = prob * 0.2\n",
        "                activityToday = \"Play\"\n",
        "                activityList.append(\"Play\")\n",
        "        elif activityToday == \"Mix\":\n",
        "            change = np.random.choice(transitionName[1],replace=True,p=transitionMatrix[1])\n",
        "            if change == \"MM\":\n",
        "                prob = prob * 0.5\n",
        "                activityList.append(\"Mix\")\n",
        "                pass\n",
        "            elif change == \"MS\":\n",
        "                prob = prob * 0.2\n",
        "                activityToday = \"Sleep\"\n",
        "                activityList.append(\"Sleep\")\n",
        "            else:\n",
        "                prob = prob * 0.3\n",
        "                activityToday = \"Play\"\n",
        "                activityList.append(\"Play\")\n",
        "        elif activityToday == \"Play\":\n",
        "            change = np.random.choice(transitionName[2],replace=True,p=transitionMatrix[2])\n",
        "            if change == \"PP\":\n",
        "                prob = prob * 0.1\n",
        "                activityList.append(\"Play\")\n",
        "                pass\n",
        "            elif change == \"PS\":\n",
        "                prob = prob * 0.2\n",
        "                activityToday = \"Play\"\n",
        "                activityList.append(\"Play\")\n",
        "            else:\n",
        "                prob = prob * 0.7\n",
        "                activityToday = \"Mix\"\n",
        "                activityList.append(\"Mix\")\n",
        "        i += 1  \n",
        "    print(\"Possible states: \" + str(activityList))\n",
        "    print(\"End state after \"+ str(days) + \" days: \" + activityToday)\n",
        "    print(\"Probability of the possible sequence of states: \" + str(prob))\n",
        "    print(\"\")\n",
        "\n",
        "# Function that forecasts the possible state for the next 2 days\n",
        "activity_forecast(2)\n",
        "activity_forecast(6)"
      ]
    },
    {
      "cell_type": "markdown",
      "source": [
        "# 2° algorithm"
      ],
      "metadata": {
        "id": "rD2T7acoyo8K"
      }
    },
    {
      "cell_type": "code",
      "source": [
        "\n",
        "# The statespace\n",
        "states = [\"Sleep\",\"Icecream\",\"Run\"]\n",
        "\n",
        "# Possible sequences of events\n",
        "transitionName = [[\"SS\",\"SR\",\"SI\"],[\"RS\",\"RR\",\"RI\"],[\"IS\",\"IR\",\"II\"]]\n",
        "\n",
        "# Probabilities matrix (transition matrix)\n",
        "transitionMatrix = [[0.2,0.6,0.2],[0.1,0.6,0.3],[0.2,0.7,0.1]]\n",
        "\n",
        "\n",
        "if sum(transitionMatrix[0]) + sum(transitionMatrix[1]) + sum(transitionMatrix[1]) != 3:\n",
        "    print(\"Somewhere, something went wrong. Transition matrix, perhaps?\")\n",
        "else: print(\"All is gonna be okay, you should move on!! ;)\")\n",
        "\n",
        "def activity_forecast(days):\n",
        "    # Choose the starting state\n",
        "    activityToday = \"Sleep\"\n",
        "    activityList = [activityToday]\n",
        "    i = 0\n",
        "    prob = 1\n",
        "    while i != days:\n",
        "        if activityToday == \"Sleep\":\n",
        "            change = np.random.choice(transitionName[0],replace=True,p=transitionMatrix[0])\n",
        "            if change == \"SS\":\n",
        "                prob = prob * 0.2\n",
        "                activityList.append(\"Sleep\")\n",
        "                pass\n",
        "            elif change == \"SR\":\n",
        "                prob = prob * 0.6\n",
        "                activityToday = \"Run\"\n",
        "                activityList.append(\"Run\")\n",
        "            else:\n",
        "                prob = prob * 0.2\n",
        "                activityToday = \"Icecream\"\n",
        "                activityList.append(\"Icecream\")\n",
        "        elif activityToday == \"Run\":\n",
        "            change = np.random.choice(transitionName[1],replace=True,p=transitionMatrix[1])\n",
        "            if change == \"RR\":\n",
        "                prob = prob * 0.5\n",
        "                activityList.append(\"Run\")\n",
        "                pass\n",
        "            elif change == \"RS\":\n",
        "                prob = prob * 0.2\n",
        "                activityToday = \"Sleep\"\n",
        "                activityList.append(\"Sleep\")\n",
        "            else:\n",
        "                prob = prob * 0.3\n",
        "                activityToday = \"Icecream\"\n",
        "                activityList.append(\"Icecream\")\n",
        "        elif activityToday == \"Icecream\":\n",
        "            change = np.random.choice(transitionName[2],replace=True,p=transitionMatrix[2])\n",
        "            if change == \"II\":\n",
        "                prob = prob * 0.1\n",
        "                activityList.append(\"Icecream\")\n",
        "                pass\n",
        "            elif change == \"IS\":\n",
        "                prob = prob * 0.2\n",
        "                activityToday = \"Sleep\"\n",
        "                activityList.append(\"Sleep\")\n",
        "            else:\n",
        "                prob = prob * 0.7\n",
        "                activityToday = \"Run\"\n",
        "                activityList.append(\"Run\")\n",
        "        i += 1    \n",
        "    return activityList\n",
        "\n",
        "# To save every activityList\n",
        "list_activity = []\n",
        "count = 0\n",
        "\n",
        "# `Range` starts from the first count up until but excluding the last count\n",
        "for iterations in range(1,10000):\n",
        "        list_activity.append(activity_forecast(2))\n",
        "\n",
        "# Check out all the `activityList` we collected    \n",
        "#print(list_activity)\n",
        "\n",
        "# Iterate through the list to get a count of all activities ending in state:'Run'\n",
        "for smaller_list in list_activity:\n",
        "    if(smaller_list[2] == \"Run\"):\n",
        "        count += 1\n",
        "\n",
        "# Calculate the probability of starting from state:'Sleep' and ending at state:'Run'\n",
        "percentage = (count/10000) * 100\n",
        "print(\"The probability of starting at state:'Sleep' and ending at state:'Run'= \" + str(percentage) + \"%\")\n"
      ],
      "metadata": {
        "colab": {
          "base_uri": "https://localhost:8080/"
        },
        "id": "-5NaTPYJscC0",
        "outputId": "fa94f9ac-8b84-41d5-94bf-197fc4fd360f"
      },
      "execution_count": null,
      "outputs": [
        {
          "output_type": "stream",
          "name": "stdout",
          "text": [
            "All is gonna be okay, you should move on!! ;)\n",
            "The probability of starting at state:'Sleep' and ending at state:'Run'= 62.18%\n"
          ]
        }
      ]
    },
    {
      "cell_type": "markdown",
      "source": [
        "# 3° algorithm"
      ],
      "metadata": {
        "id": "p7MQxBfkvYOp"
      }
    },
    {
      "cell_type": "code",
      "source": [
        "import numpy as np\n",
        "import pandas as pd\n",
        "import random\n",
        "import matplotlib.pyplot as plt\n",
        "\n",
        "#matplotlib parameters\n",
        "plt.rcParams[\"figure.figsize\"] = (12, 8)\n",
        "plt.rcParams.update({'font.size': 14})\n",
        "\n",
        "mc_example = {'NYC': [.25,0,.75,1],\n",
        "              'Paris': [.25,.25,0,0],\n",
        "              'Cairo': [.25,.25,.25,0],\n",
        "              'Seoul': [.25,.5,0,0]}\n",
        "\n",
        "mc = pd.DataFrame(data = mc_example, index = ['NYC', 'Paris', 'Cairo', 'Seoul'])\n",
        "\n",
        "travel_sim = []\n",
        "travel_sim.append(mc.iloc[0].index[0])\n",
        "city = np.random.choice(mc.iloc[0].index, p = mc.iloc[0])\n",
        "travel_sim.append(city)\n",
        "\n",
        "while len(travel_sim) < 25:\n",
        "  city = np.random.choice(mc.iloc[mc.index.get_loc(city)].index, p = mc.iloc[mc.index.get_loc(city)])\n",
        "  travel_sim.append(city)"
      ],
      "metadata": {
        "id": "hNTOzp8wvYlw"
      },
      "execution_count": null,
      "outputs": []
    },
    {
      "cell_type": "code",
      "source": [
        "travel_sim"
      ],
      "metadata": {
        "colab": {
          "base_uri": "https://localhost:8080/"
        },
        "id": "QEeT9k8NvtZo",
        "outputId": "134d4d1b-5b4b-4173-8122-df4f6ea248ef"
      },
      "execution_count": null,
      "outputs": [
        {
          "output_type": "execute_result",
          "data": {
            "text/plain": [
              "['NYC',\n",
              " 'Cairo',\n",
              " 'NYC',\n",
              " 'Seoul',\n",
              " 'NYC',\n",
              " 'Cairo',\n",
              " 'NYC',\n",
              " 'Cairo',\n",
              " 'NYC',\n",
              " 'Seoul',\n",
              " 'NYC',\n",
              " 'Paris',\n",
              " 'Cairo',\n",
              " 'NYC',\n",
              " 'Cairo',\n",
              " 'Cairo',\n",
              " 'NYC',\n",
              " 'Seoul',\n",
              " 'NYC',\n",
              " 'Paris',\n",
              " 'Seoul',\n",
              " 'NYC',\n",
              " 'Paris',\n",
              " 'Seoul',\n",
              " 'NYC']"
            ]
          },
          "metadata": {},
          "execution_count": 13
        }
      ]
    },
    {
      "cell_type": "code",
      "source": [
        "mc"
      ],
      "metadata": {
        "colab": {
          "base_uri": "https://localhost:8080/",
          "height": 175
        },
        "id": "XhNk6qiFvv7e",
        "outputId": "d8675ba7-1173-4783-9d65-cd08f7d0ccfc"
      },
      "execution_count": null,
      "outputs": [
        {
          "output_type": "execute_result",
          "data": {
            "text/plain": [
              "        NYC  Paris  Cairo  Seoul\n",
              "NYC    0.25   0.25   0.25   0.25\n",
              "Paris  0.00   0.25   0.25   0.50\n",
              "Cairo  0.75   0.00   0.25   0.00\n",
              "Seoul  1.00   0.00   0.00   0.00"
            ],
            "text/html": [
              "\n",
              "  <div id=\"df-4e7d8ba3-957b-4f2a-b10f-6c8f418493b1\">\n",
              "    <div class=\"colab-df-container\">\n",
              "      <div>\n",
              "<style scoped>\n",
              "    .dataframe tbody tr th:only-of-type {\n",
              "        vertical-align: middle;\n",
              "    }\n",
              "\n",
              "    .dataframe tbody tr th {\n",
              "        vertical-align: top;\n",
              "    }\n",
              "\n",
              "    .dataframe thead th {\n",
              "        text-align: right;\n",
              "    }\n",
              "</style>\n",
              "<table border=\"1\" class=\"dataframe\">\n",
              "  <thead>\n",
              "    <tr style=\"text-align: right;\">\n",
              "      <th></th>\n",
              "      <th>NYC</th>\n",
              "      <th>Paris</th>\n",
              "      <th>Cairo</th>\n",
              "      <th>Seoul</th>\n",
              "    </tr>\n",
              "  </thead>\n",
              "  <tbody>\n",
              "    <tr>\n",
              "      <th>NYC</th>\n",
              "      <td>0.25</td>\n",
              "      <td>0.25</td>\n",
              "      <td>0.25</td>\n",
              "      <td>0.25</td>\n",
              "    </tr>\n",
              "    <tr>\n",
              "      <th>Paris</th>\n",
              "      <td>0.00</td>\n",
              "      <td>0.25</td>\n",
              "      <td>0.25</td>\n",
              "      <td>0.50</td>\n",
              "    </tr>\n",
              "    <tr>\n",
              "      <th>Cairo</th>\n",
              "      <td>0.75</td>\n",
              "      <td>0.00</td>\n",
              "      <td>0.25</td>\n",
              "      <td>0.00</td>\n",
              "    </tr>\n",
              "    <tr>\n",
              "      <th>Seoul</th>\n",
              "      <td>1.00</td>\n",
              "      <td>0.00</td>\n",
              "      <td>0.00</td>\n",
              "      <td>0.00</td>\n",
              "    </tr>\n",
              "  </tbody>\n",
              "</table>\n",
              "</div>\n",
              "      <button class=\"colab-df-convert\" onclick=\"convertToInteractive('df-4e7d8ba3-957b-4f2a-b10f-6c8f418493b1')\"\n",
              "              title=\"Convert this dataframe to an interactive table.\"\n",
              "              style=\"display:none;\">\n",
              "        \n",
              "  <svg xmlns=\"http://www.w3.org/2000/svg\" height=\"24px\"viewBox=\"0 0 24 24\"\n",
              "       width=\"24px\">\n",
              "    <path d=\"M0 0h24v24H0V0z\" fill=\"none\"/>\n",
              "    <path d=\"M18.56 5.44l.94 2.06.94-2.06 2.06-.94-2.06-.94-.94-2.06-.94 2.06-2.06.94zm-11 1L8.5 8.5l.94-2.06 2.06-.94-2.06-.94L8.5 2.5l-.94 2.06-2.06.94zm10 10l.94 2.06.94-2.06 2.06-.94-2.06-.94-.94-2.06-.94 2.06-2.06.94z\"/><path d=\"M17.41 7.96l-1.37-1.37c-.4-.4-.92-.59-1.43-.59-.52 0-1.04.2-1.43.59L10.3 9.45l-7.72 7.72c-.78.78-.78 2.05 0 2.83L4 21.41c.39.39.9.59 1.41.59.51 0 1.02-.2 1.41-.59l7.78-7.78 2.81-2.81c.8-.78.8-2.07 0-2.86zM5.41 20L4 18.59l7.72-7.72 1.47 1.35L5.41 20z\"/>\n",
              "  </svg>\n",
              "      </button>\n",
              "      \n",
              "  <style>\n",
              "    .colab-df-container {\n",
              "      display:flex;\n",
              "      flex-wrap:wrap;\n",
              "      gap: 12px;\n",
              "    }\n",
              "\n",
              "    .colab-df-convert {\n",
              "      background-color: #E8F0FE;\n",
              "      border: none;\n",
              "      border-radius: 50%;\n",
              "      cursor: pointer;\n",
              "      display: none;\n",
              "      fill: #1967D2;\n",
              "      height: 32px;\n",
              "      padding: 0 0 0 0;\n",
              "      width: 32px;\n",
              "    }\n",
              "\n",
              "    .colab-df-convert:hover {\n",
              "      background-color: #E2EBFA;\n",
              "      box-shadow: 0px 1px 2px rgba(60, 64, 67, 0.3), 0px 1px 3px 1px rgba(60, 64, 67, 0.15);\n",
              "      fill: #174EA6;\n",
              "    }\n",
              "\n",
              "    [theme=dark] .colab-df-convert {\n",
              "      background-color: #3B4455;\n",
              "      fill: #D2E3FC;\n",
              "    }\n",
              "\n",
              "    [theme=dark] .colab-df-convert:hover {\n",
              "      background-color: #434B5C;\n",
              "      box-shadow: 0px 1px 3px 1px rgba(0, 0, 0, 0.15);\n",
              "      filter: drop-shadow(0px 1px 2px rgba(0, 0, 0, 0.3));\n",
              "      fill: #FFFFFF;\n",
              "    }\n",
              "  </style>\n",
              "\n",
              "      <script>\n",
              "        const buttonEl =\n",
              "          document.querySelector('#df-4e7d8ba3-957b-4f2a-b10f-6c8f418493b1 button.colab-df-convert');\n",
              "        buttonEl.style.display =\n",
              "          google.colab.kernel.accessAllowed ? 'block' : 'none';\n",
              "\n",
              "        async function convertToInteractive(key) {\n",
              "          const element = document.querySelector('#df-4e7d8ba3-957b-4f2a-b10f-6c8f418493b1');\n",
              "          const dataTable =\n",
              "            await google.colab.kernel.invokeFunction('convertToInteractive',\n",
              "                                                     [key], {});\n",
              "          if (!dataTable) return;\n",
              "\n",
              "          const docLinkHtml = 'Like what you see? Visit the ' +\n",
              "            '<a target=\"_blank\" href=https://colab.research.google.com/notebooks/data_table.ipynb>data table notebook</a>'\n",
              "            + ' to learn more about interactive tables.';\n",
              "          element.innerHTML = '';\n",
              "          dataTable['output_type'] = 'display_data';\n",
              "          await google.colab.output.renderOutput(dataTable, element);\n",
              "          const docLink = document.createElement('div');\n",
              "          docLink.innerHTML = docLinkHtml;\n",
              "          element.appendChild(docLink);\n",
              "        }\n",
              "      </script>\n",
              "    </div>\n",
              "  </div>\n",
              "  "
            ]
          },
          "metadata": {},
          "execution_count": 14
        }
      ]
    },
    {
      "cell_type": "code",
      "source": [
        "mc.to_numpy()"
      ],
      "metadata": {
        "colab": {
          "base_uri": "https://localhost:8080/"
        },
        "id": "p_uSfaoLv4Ap",
        "outputId": "66d5311c-4612-4bce-8e09-cd814c817d43"
      },
      "execution_count": null,
      "outputs": [
        {
          "output_type": "execute_result",
          "data": {
            "text/plain": [
              "array([[0.25, 0.25, 0.25, 0.25],\n",
              "       [0.  , 0.25, 0.25, 0.5 ],\n",
              "       [0.75, 0.  , 0.25, 0.  ],\n",
              "       [1.  , 0.  , 0.  , 0.  ]])"
            ]
          },
          "metadata": {},
          "execution_count": 15
        }
      ]
    },
    {
      "cell_type": "code",
      "source": [
        "def matrix_power(matrix, power):\n",
        "  if power == 0:\n",
        "    return np.identity(len(matrix))\n",
        "  elif power == 1:\n",
        "    return matrix\n",
        "  else:\n",
        "    return np.dot(matrix, matrix_power(matrix, power-1))\n",
        "\n",
        "matrix_power(mc.to_numpy(), 2)"
      ],
      "metadata": {
        "colab": {
          "base_uri": "https://localhost:8080/"
        },
        "id": "0uqeQkY5wLqx",
        "outputId": "59536919-d813-4658-8efd-97bdcc5c41dc"
      },
      "execution_count": null,
      "outputs": [
        {
          "output_type": "execute_result",
          "data": {
            "text/plain": [
              "array([[0.5   , 0.125 , 0.1875, 0.1875],\n",
              "       [0.6875, 0.0625, 0.125 , 0.125 ],\n",
              "       [0.375 , 0.1875, 0.25  , 0.1875],\n",
              "       [0.25  , 0.25  , 0.25  , 0.25  ]])"
            ]
          },
          "metadata": {},
          "execution_count": 16
        }
      ]
    },
    {
      "cell_type": "code",
      "source": [
        "np.dot(np.dot(mc.to_numpy(), mc.to_numpy()), mc.to_numpy())"
      ],
      "metadata": {
        "colab": {
          "base_uri": "https://localhost:8080/"
        },
        "id": "z5MC7-4wyUjE",
        "outputId": "c50da796-92c4-4a2d-a0c1-676a775d64b8"
      },
      "execution_count": null,
      "outputs": [
        {
          "output_type": "execute_result",
          "data": {
            "text/plain": [
              "array([[0.453125, 0.15625 , 0.203125, 0.1875  ],\n",
              "       [0.390625, 0.1875  , 0.21875 , 0.203125],\n",
              "       [0.46875 , 0.140625, 0.203125, 0.1875  ],\n",
              "       [0.5     , 0.125   , 0.1875  , 0.1875  ]])"
            ]
          },
          "metadata": {},
          "execution_count": 17
        }
      ]
    },
    {
      "cell_type": "code",
      "source": [
        "np.dot(mc.to_numpy(), mc.to_numpy())"
      ],
      "metadata": {
        "colab": {
          "base_uri": "https://localhost:8080/"
        },
        "id": "h1fKjHVbyWJg",
        "outputId": "56aa6b44-6a69-432b-9a20-cd20859d980e"
      },
      "execution_count": null,
      "outputs": [
        {
          "output_type": "execute_result",
          "data": {
            "text/plain": [
              "array([[0.5   , 0.125 , 0.1875, 0.1875],\n",
              "       [0.6875, 0.0625, 0.125 , 0.125 ],\n",
              "       [0.375 , 0.1875, 0.25  , 0.1875],\n",
              "       [0.25  , 0.25  , 0.25  , 0.25  ]])"
            ]
          },
          "metadata": {},
          "execution_count": 18
        }
      ]
    },
    {
      "cell_type": "code",
      "source": [
        "matrix_power(mc.to_numpy(), 3).sum(axis=1)"
      ],
      "metadata": {
        "colab": {
          "base_uri": "https://localhost:8080/"
        },
        "id": "UsPnxYZ7yX7S",
        "outputId": "43ecb938-b763-456a-b479-4b26122aec18"
      },
      "execution_count": null,
      "outputs": [
        {
          "output_type": "execute_result",
          "data": {
            "text/plain": [
              "array([1., 1., 1., 1.])"
            ]
          },
          "metadata": {},
          "execution_count": 19
        }
      ]
    },
    {
      "cell_type": "code",
      "source": [
        "for i in range(1,10,1):\n",
        "  print(f'n Step Transition Matrix at the nth power {i}\\n', matrix_power(mc.to_numpy(), i),'\\n')"
      ],
      "metadata": {
        "colab": {
          "base_uri": "https://localhost:8080/"
        },
        "id": "Kgv70GwsyZmO",
        "outputId": "039ffc78-f20f-4d39-ba6e-e2554eb093f6"
      },
      "execution_count": null,
      "outputs": [
        {
          "output_type": "stream",
          "name": "stdout",
          "text": [
            "n Step Transition Matrix at the nth power 1\n",
            " [[0.25 0.25 0.25 0.25]\n",
            " [0.   0.25 0.25 0.5 ]\n",
            " [0.75 0.   0.25 0.  ]\n",
            " [1.   0.   0.   0.  ]] \n",
            "\n",
            "n Step Transition Matrix at the nth power 2\n",
            " [[0.5    0.125  0.1875 0.1875]\n",
            " [0.6875 0.0625 0.125  0.125 ]\n",
            " [0.375  0.1875 0.25   0.1875]\n",
            " [0.25   0.25   0.25   0.25  ]] \n",
            "\n",
            "n Step Transition Matrix at the nth power 3\n",
            " [[0.453125 0.15625  0.203125 0.1875  ]\n",
            " [0.390625 0.1875   0.21875  0.203125]\n",
            " [0.46875  0.140625 0.203125 0.1875  ]\n",
            " [0.5      0.125    0.1875   0.1875  ]] \n",
            "\n",
            "n Step Transition Matrix at the nth power 4\n",
            " [[0.453125   0.15234375 0.203125   0.19140625]\n",
            " [0.46484375 0.14453125 0.19921875 0.19140625]\n",
            " [0.45703125 0.15234375 0.203125   0.1875    ]\n",
            " [0.453125   0.15625    0.203125   0.1875    ]] \n",
            "\n",
            "n Step Transition Matrix at the nth power 5\n",
            " [[0.45703125 0.15136719 0.20214844 0.18945312]\n",
            " [0.45703125 0.15234375 0.20214844 0.18847656]\n",
            " [0.45410156 0.15234375 0.203125   0.19042969]\n",
            " [0.453125   0.15234375 0.203125   0.19140625]] \n",
            "\n",
            "n Step Transition Matrix at the nth power 6\n",
            " [[0.45532227 0.15209961 0.20263672 0.18994141]\n",
            " [0.4543457  0.15234375 0.20288086 0.19042969]\n",
            " [0.45629883 0.15161133 0.20239258 0.18969727]\n",
            " [0.45703125 0.15136719 0.20214844 0.18945312]] \n",
            "\n",
            "n Step Transition Matrix at the nth power 7\n",
            " [[0.45574951 0.15185547 0.20251465 0.18988037]\n",
            " [0.45617676 0.15167236 0.20239258 0.1897583 ]\n",
            " [0.45556641 0.15197754 0.20257568 0.18988037]\n",
            " [0.45532227 0.15209961 0.20263672 0.18994141]] \n",
            "\n",
            "n Step Transition Matrix at the nth power 8\n",
            " [[0.45570374 0.15190125 0.20252991 0.18986511]\n",
            " [0.45559692 0.15196228 0.20256042 0.18988037]\n",
            " [0.45570374 0.15188599 0.20252991 0.18988037]\n",
            " [0.45574951 0.15185547 0.20251465 0.18988037]] \n",
            "\n",
            "n Step Transition Matrix at the nth power 9\n",
            " [[0.45568848 0.15190125 0.20253372 0.18987656]\n",
            " [0.45569992 0.1518898  0.20252991 0.18988037]\n",
            " [0.45570374 0.15189743 0.20252991 0.18986893]\n",
            " [0.45570374 0.15190125 0.20252991 0.18986511]] \n",
            "\n"
          ]
        }
      ]
    }
  ]
}