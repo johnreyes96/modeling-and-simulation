{
  "nbformat": 4,
  "nbformat_minor": 0,
  "metadata": {
    "colab": {
      "name": "ClaseMS-Introduccion_G3.ipynb",
      "provenance": [],
      "collapsed_sections": [],
      "include_colab_link": true
    },
    "kernelspec": {
      "display_name": "Python 3",
      "language": "python",
      "name": "python3"
    },
    "language_info": {
      "codemirror_mode": {
        "name": "ipython",
        "version": 3
      },
      "file_extension": ".py",
      "mimetype": "text/x-python",
      "name": "python",
      "nbconvert_exporter": "python",
      "pygments_lexer": "ipython3",
      "version": "3.7.6"
    }
  },
  "cells": [
    {
      "cell_type": "markdown",
      "metadata": {
        "id": "view-in-github",
        "colab_type": "text"
      },
      "source": [
        "<a href=\"https://colab.research.google.com/github/johnreyes96/modeling-and-simulation/blob/master/src/main/python/classes/Introduction.ipynb\" target=\"_parent\"><img src=\"https://colab.research.google.com/assets/colab-badge.svg\" alt=\"Open In Colab\"/></a>"
      ]
    },
    {
      "cell_type": "markdown",
      "metadata": {
        "id": "aDaMLDnAPBMf"
      },
      "source": [
        "# Introducción a Python\n",
        "\n",
        "En este notebook vamos a recorrer algunos conceptos básicos de programación en general y como se aplican con Python. \n",
        "\n",
        "## 1. Variables, Tipos de Datos y Operaciones\n",
        "\n",
        "### 1.1 Variables\n",
        "\n",
        "Al crear una variable le estás poniendo un nombre a un objeto. Cada variable debe llevar un nombre a través del cual nos referimos a ella, los nombres deben ser únicos y, en lo posible, ser lo mas explícitos posibles para evitar confusiones. Usando el `=` se asigna un valor a una variable."
      ]
    },
    {
      "cell_type": "code",
      "metadata": {
        "id": "Ejj7jqb9PBMk",
        "colab": {
          "base_uri": "https://localhost:8080/"
        },
        "outputId": "e84c1846-8593-4bfa-d2f4-124c53b13efd"
      },
      "source": [
        "# Asignamos el valor 3 a una variable que creamos, de nombre x\n",
        "x = 3\n",
        "\n",
        "# Evaluamos e imprimimos en pantalla el resultado\n",
        "print(x)"
      ],
      "execution_count": null,
      "outputs": [
        {
          "output_type": "stream",
          "name": "stdout",
          "text": [
            "3\n"
          ]
        }
      ]
    },
    {
      "cell_type": "code",
      "metadata": {
        "id": "G0_JnDgrPBMu",
        "colab": {
          "base_uri": "https://localhost:8080/"
        },
        "outputId": "53306203-9470-49ff-8d06-f8700970f6bb"
      },
      "source": [
        "# Asignamos el valor 15.7 a una nueva variable, de nombre y\n",
        "y = 15.7\n",
        "\n",
        "print(y)"
      ],
      "execution_count": null,
      "outputs": [
        {
          "output_type": "stream",
          "name": "stdout",
          "text": [
            "15.7\n"
          ]
        }
      ]
    },
    {
      "cell_type": "code",
      "metadata": {
        "id": "1sVjKnS8PBM0",
        "colab": {
          "base_uri": "https://localhost:8080/"
        },
        "outputId": "2c4942bf-e748-4c20-b529-eea11018ef05"
      },
      "source": [
        "# Podemos definir una nueva variable como la suma de dos anteriores\n",
        "z = x + y\n",
        "\n",
        "print(z)"
      ],
      "execution_count": null,
      "outputs": [
        {
          "output_type": "stream",
          "name": "stdout",
          "text": [
            "18.7\n"
          ]
        }
      ]
    },
    {
      "cell_type": "markdown",
      "metadata": {
        "id": "rRLxeWdMJvcP"
      },
      "source": [
        "Pero en las variables no necesariamente ponemos números, también podemos poner texto (*strings*)"
      ]
    },
    {
      "cell_type": "code",
      "metadata": {
        "id": "n-OyQw00PBM6",
        "colab": {
          "base_uri": "https://localhost:8080/"
        },
        "outputId": "2dec80b9-0985-4abc-bd14-8d58c3ff5bf1"
      },
      "source": [
        "# Se peude tambier asignar un valor de texto otra variable\n",
        "un_texto = 'HOLA!'\n",
        "\n",
        "print(un_texto)"
      ],
      "execution_count": null,
      "outputs": [
        {
          "output_type": "stream",
          "name": "stdout",
          "text": [
            "HOLA!\n"
          ]
        }
      ]
    },
    {
      "cell_type": "markdown",
      "metadata": {
        "id": "Y0t7En_OJvcb"
      },
      "source": [
        "**Probar:** ejecutar la siguiente celda. ¿Cuál es la diferencia?"
      ]
    },
    {
      "cell_type": "code",
      "metadata": {
        "id": "RlzXb8nYJvcd",
        "colab": {
          "base_uri": "https://localhost:8080/"
        },
        "outputId": "8f8350d5-cbdb-4192-a848-3d026fc34f58"
      },
      "source": [
        "print(un_texto)\n",
        "print(\"un_texto\")"
      ],
      "execution_count": null,
      "outputs": [
        {
          "output_type": "stream",
          "name": "stdout",
          "text": [
            "HOLA!\n",
            "un_texto\n"
          ]
        }
      ]
    },
    {
      "cell_type": "markdown",
      "metadata": {
        "id": "ScGT3xT4Jvcl"
      },
      "source": [
        "Si queremos, podemos borrar alguna variable que ya no utilizaremos más"
      ]
    },
    {
      "cell_type": "code",
      "metadata": {
        "id": "Dj_DJGDOPBNB",
        "colab": {
          "base_uri": "https://localhost:8080/",
          "height": 183
        },
        "outputId": "087d69dc-d16e-464d-ecad-2e2b7bb4a340"
      },
      "source": [
        "del(un_texto)\n",
        "print(un_texto)"
      ],
      "execution_count": null,
      "outputs": [
        {
          "output_type": "error",
          "ename": "NameError",
          "evalue": "ignored",
          "traceback": [
            "\u001b[0;31m---------------------------------------------------------------------------\u001b[0m",
            "\u001b[0;31mNameError\u001b[0m                                 Traceback (most recent call last)",
            "\u001b[0;32m<ipython-input-8-8fd386dc8d5f>\u001b[0m in \u001b[0;36m<module>\u001b[0;34m\u001b[0m\n\u001b[1;32m      1\u001b[0m \u001b[0;32mdel\u001b[0m\u001b[0;34m(\u001b[0m\u001b[0mun_texto\u001b[0m\u001b[0;34m)\u001b[0m\u001b[0;34m\u001b[0m\u001b[0;34m\u001b[0m\u001b[0m\n\u001b[0;32m----> 2\u001b[0;31m \u001b[0mprint\u001b[0m\u001b[0;34m(\u001b[0m\u001b[0mun_texto\u001b[0m\u001b[0;34m)\u001b[0m\u001b[0;34m\u001b[0m\u001b[0;34m\u001b[0m\u001b[0m\n\u001b[0m",
            "\u001b[0;31mNameError\u001b[0m: name 'un_texto' is not defined"
          ]
        }
      ]
    },
    {
      "cell_type": "markdown",
      "metadata": {
        "id": "x3UOib9UPBNG"
      },
      "source": [
        "**Nota importante**: al correr esta ultima linea, deben ver un mensaje de error. Los mensajes de error son MUY IMPORTANTES. Nos brindan información muy valiosa cuando nuestro código no funciona. En este caso, nos está avisando que no puede imprimir la variable `un_texto`, ya que la eliminamos y no está definida.\n",
        "\n",
        "Muchas veces, para resolver el error, lo mejor que podemos hacer es googlearlo.¡Notar que en Colab ya nos da la opción de Googlear el error en Stack Overflow!"
      ]
    },
    {
      "cell_type": "markdown",
      "metadata": {
        "id": "520n2L18PBNH"
      },
      "source": [
        "### 1.2 Tipos de Datos\n",
        "Cuando definimos una variable, dependiendo el contenido que le asignamos, la misma será de un determinado tipo. Los tipos de datos más comunes de variables son: `int`,`float`,`string` y `boolean`. Veamos algunos ejemplos de cada tipo."
      ]
    },
    {
      "cell_type": "code",
      "metadata": {
        "id": "5MQYEBApPBNK",
        "colab": {
          "base_uri": "https://localhost:8080/"
        },
        "outputId": "a4356060-eb19-45e6-e342-6099fc1d4347"
      },
      "source": [
        "a = 42\n",
        "print(type(a))"
      ],
      "execution_count": null,
      "outputs": [
        {
          "output_type": "stream",
          "name": "stdout",
          "text": [
            "<class 'int'>\n"
          ]
        }
      ]
    },
    {
      "cell_type": "code",
      "metadata": {
        "id": "E0g87gVfPBNP",
        "colab": {
          "base_uri": "https://localhost:8080/"
        },
        "outputId": "2eb9f0e5-7e6d-44ef-ee90-336b1952561d"
      },
      "source": [
        "b = 7.8\n",
        "print(type(b))"
      ],
      "execution_count": null,
      "outputs": [
        {
          "output_type": "stream",
          "name": "stdout",
          "text": [
            "<class 'float'>\n"
          ]
        }
      ]
    },
    {
      "cell_type": "code",
      "metadata": {
        "id": "6SFdLEFIPBNW",
        "colab": {
          "base_uri": "https://localhost:8080/"
        },
        "outputId": "7f481399-de72-4a20-b3b9-b2f65e890050"
      },
      "source": [
        "c = True\n",
        "print(type(c))"
      ],
      "execution_count": null,
      "outputs": [
        {
          "output_type": "stream",
          "name": "stdout",
          "text": [
            "<class 'bool'>\n"
          ]
        }
      ]
    },
    {
      "cell_type": "code",
      "metadata": {
        "id": "i_cCG-iYPBNb",
        "colab": {
          "base_uri": "https://localhost:8080/"
        },
        "outputId": "4560a915-38f1-42bc-fb54-e34c1ea9da37"
      },
      "source": [
        "t1 = 'hola'\n",
        "print(type(\"hola\"))\n",
        "\n",
        "t2 = '523'\n",
        "print(type('t2'))"
      ],
      "execution_count": null,
      "outputs": [
        {
          "output_type": "stream",
          "name": "stdout",
          "text": [
            "<class 'str'>\n",
            "<class 'str'>\n"
          ]
        }
      ]
    },
    {
      "cell_type": "markdown",
      "metadata": {
        "id": "fAiC3ranPBNh"
      },
      "source": [
        "**Nota**: a pesar de ser un número, la variable `t2` es de tipo `string`. Esto se debe a que lo pusimos entre comillas."
      ]
    },
    {
      "cell_type": "code",
      "metadata": {
        "id": "erSdYVqhPBNj",
        "colab": {
          "base_uri": "https://localhost:8080/"
        },
        "outputId": "f93687f6-8ad4-4ae9-dec0-70d162055df5"
      },
      "source": [
        "# Este es un tipo especial de variable, que se utiliza para simbolizar algo 'vacio'\n",
        "d = None\n",
        "print(type(d))"
      ],
      "execution_count": null,
      "outputs": [
        {
          "output_type": "stream",
          "name": "stdout",
          "text": [
            "<class 'NoneType'>\n"
          ]
        }
      ]
    },
    {
      "cell_type": "markdown",
      "metadata": {
        "id": "WhJ_nLaCPBNo"
      },
      "source": [
        "Si por algun motivo, uno desea definir el tipo de variable y no dejar que python lo asuma por si solo, esto también es posible."
      ]
    },
    {
      "cell_type": "code",
      "metadata": {
        "id": "AvUDAvtpPBNp",
        "colab": {
          "base_uri": "https://localhost:8080/"
        },
        "outputId": "607d92a8-7d1d-45c2-d09c-d48d69f0dc85"
      },
      "source": [
        "numero = 45\n",
        "print(type(numero))\n",
        "\n",
        "# Quiero que sea un 'float' y no un int\n",
        "numero = float(45)\n",
        "print(type(numero))\n",
        "\n",
        "# Quiero que sea un 'string' y no un int\n",
        "numero = str(45)\n",
        "print(type(numero))"
      ],
      "execution_count": null,
      "outputs": [
        {
          "output_type": "stream",
          "name": "stdout",
          "text": [
            "<class 'int'>\n",
            "<class 'float'>\n",
            "<class 'str'>\n"
          ]
        }
      ]
    },
    {
      "cell_type": "code",
      "metadata": {
        "id": "r6B6f_oOPBNv",
        "colab": {
          "base_uri": "https://localhost:8080/"
        },
        "outputId": "6a00cb88-214c-4233-9cec-4f45f807356e"
      },
      "source": [
        "otro_numero = 45.0\n",
        "print(type(otro_numero))\n",
        "\n",
        "# Quiero que sea un 'int' y no un 'float'\n",
        "otro_numero = int(45.0) \n",
        "print(type(otro_numero))"
      ],
      "execution_count": null,
      "outputs": [
        {
          "output_type": "stream",
          "name": "stdout",
          "text": [
            "<class 'float'>\n",
            "<class 'int'>\n"
          ]
        }
      ]
    },
    {
      "cell_type": "markdown",
      "metadata": {
        "id": "4EMswXwbPjLD"
      },
      "source": [
        "**Ejercicio**: Cambiar el tipo de la variable 'numero' a float."
      ]
    },
    {
      "cell_type": "code",
      "metadata": {
        "id": "g6o0UHSbPuZu",
        "colab": {
          "base_uri": "https://localhost:8080/"
        },
        "outputId": "a26b1c8d-3b28-44c2-d176-2e027db963e8"
      },
      "source": [
        "numero = '5'\n",
        "numero = float(numero)\n",
        "\n",
        "# La siguientes lineas de codigo chequean si hiciste correctamente el ejercicio\n",
        "# No importa si no entiendes qué hace.\n",
        "if type(numero) is float:\n",
        "    print('Correcto!')\n",
        "else:\n",
        "    print('Convierte la variable a tipo float')"
      ],
      "execution_count": null,
      "outputs": [
        {
          "output_type": "stream",
          "name": "stdout",
          "text": [
            "Correcto!\n"
          ]
        }
      ]
    },
    {
      "cell_type": "markdown",
      "metadata": {
        "id": "Zip2yREWPBN0"
      },
      "source": [
        "### 1.3 Operaciones\n",
        "Con las variables que definimos, podemos realizar distintas operaciones. Dependiendo el tipo de variable, hay diferentes operaciones diponibles.\n",
        "\n",
        "#### 1.3.1 Operaciones con números\n",
        "\n",
        "Se pueden realizar las operaciones basicas entre numeros\n"
      ]
    },
    {
      "cell_type": "code",
      "metadata": {
        "id": "QbeN4rjGPBN2",
        "colab": {
          "base_uri": "https://localhost:8080/"
        },
        "outputId": "ba78829e-9027-49d3-be15-774050042019"
      },
      "source": [
        "a = 20\n",
        "b = 4\n",
        "print(a+b)\n",
        "print(a-b)"
      ],
      "execution_count": null,
      "outputs": [
        {
          "output_type": "stream",
          "name": "stdout",
          "text": [
            "24\n",
            "16\n"
          ]
        }
      ]
    },
    {
      "cell_type": "markdown",
      "metadata": {
        "id": "t4JcimwwJvd2"
      },
      "source": [
        "Se pueden realizar las operaciones incluso entre distintos tipos de variables"
      ]
    },
    {
      "cell_type": "code",
      "metadata": {
        "id": "x7NDD_tJPBN6",
        "colab": {
          "base_uri": "https://localhost:8080/"
        },
        "outputId": "5ca0a8c6-7886-443b-e146-a515bcb508cf"
      },
      "source": [
        "a = 20\n",
        "b = 4.5\n",
        "\n",
        "c = a+b\n",
        "d = a-b\n",
        "\n",
        "print(c)\n",
        "print(d)"
      ],
      "execution_count": null,
      "outputs": [
        {
          "output_type": "stream",
          "name": "stdout",
          "text": [
            "24.5\n",
            "15.5\n"
          ]
        }
      ]
    },
    {
      "cell_type": "markdown",
      "metadata": {
        "id": "oNsWzLiBJvd-"
      },
      "source": [
        "¿De qué tipo es la variable resultante? Trata de adivinarlo antes de correr la celda siguiente."
      ]
    },
    {
      "cell_type": "code",
      "metadata": {
        "id": "yZLqW2ZYPBN_",
        "colab": {
          "base_uri": "https://localhost:8080/"
        },
        "outputId": "82c2c63d-8666-4546-f435-715251de1e2f"
      },
      "source": [
        "print(type(c))\n",
        "print(type(d))"
      ],
      "execution_count": null,
      "outputs": [
        {
          "output_type": "stream",
          "name": "stdout",
          "text": [
            "<class 'float'>\n",
            "<class 'float'>\n"
          ]
        }
      ]
    },
    {
      "cell_type": "markdown",
      "metadata": {
        "id": "bLtMd2Z_JveF"
      },
      "source": [
        "También podemos dividir números."
      ]
    },
    {
      "cell_type": "code",
      "metadata": {
        "id": "z9kq2lEVPBOF",
        "colab": {
          "base_uri": "https://localhost:8080/"
        },
        "outputId": "a9bdd981-9ac8-4d23-cdea-781e08542044"
      },
      "source": [
        "x = 10\n",
        "y = 3\n",
        "z = x/y\n",
        "print(z)"
      ],
      "execution_count": null,
      "outputs": [
        {
          "output_type": "stream",
          "name": "stdout",
          "text": [
            "3.3333333333333335\n"
          ]
        }
      ]
    },
    {
      "cell_type": "markdown",
      "metadata": {
        "id": "V-RQ8mBIJveM"
      },
      "source": [
        "¿De qué tipo es la variable resultante de hacer la división? A pesar de dividir dos números enteros, el resultado es de tipo `float`."
      ]
    },
    {
      "cell_type": "code",
      "metadata": {
        "id": "IgJQDZ7MPBOI",
        "colab": {
          "base_uri": "https://localhost:8080/"
        },
        "outputId": "0d55eb01-aba1-4b2a-c471-ea9fb2507e94"
      },
      "source": [
        "print(type(z))"
      ],
      "execution_count": null,
      "outputs": [
        {
          "output_type": "stream",
          "name": "stdout",
          "text": [
            "<class 'float'>\n"
          ]
        }
      ]
    },
    {
      "cell_type": "markdown",
      "metadata": {
        "id": "uxfV-jOYJved"
      },
      "source": [
        "La siguiente operación es muy usada en computación, nos devuelve el resto de la división. ¿No recuerdas qué es el resto? Puedes investigarlo [aquí](https://www.disfrutalasmatematicas.com/numeros/division-resto.html)."
      ]
    },
    {
      "cell_type": "code",
      "metadata": {
        "id": "tZWn26P9PBON"
      },
      "source": [
        "x = 10\n",
        "y = 3\n",
        "print(x%y)\n",
        "print(type(x%y))"
      ],
      "execution_count": null,
      "outputs": []
    },
    {
      "cell_type": "markdown",
      "metadata": {
        "id": "-5X5DceISQ-O"
      },
      "source": [
        "**Ejercicio**: Calcular el porcentaje que representa el valor 17 sobre un total de 54 y guardarlo en una variable llamada `porcentaje`."
      ]
    },
    {
      "cell_type": "code",
      "metadata": {
        "id": "RztYLbRnYG37",
        "colab": {
          "base_uri": "https://localhost:8080/"
        },
        "outputId": "bba09e77-1d5d-4ae5-f46b-aeb159f93ab2"
      },
      "source": [
        "# COMPLETAR\n",
        "porcentaje = 17/54*100\n",
        "print(porcentaje)"
      ],
      "execution_count": null,
      "outputs": [
        {
          "output_type": "stream",
          "name": "stdout",
          "text": [
            "31.48148148148148\n"
          ]
        }
      ]
    },
    {
      "cell_type": "markdown",
      "metadata": {
        "id": "sOTLmVfbvVj5"
      },
      "source": [
        "#### **Ejercicio**: calcula la suma y multiplicación de las variables `a`, `b` y `c`. ¡Presta atención al tipo de dato!"
      ]
    },
    {
      "cell_type": "code",
      "metadata": {
        "id": "JUyyfS0lvnWR",
        "colab": {
          "base_uri": "https://localhost:8080/"
        },
        "outputId": "9afdbb62-a270-4665-dc0f-23d9540d16a3"
      },
      "source": [
        "a = '2'\n",
        "b = '-5.5'\n",
        "c = '7.8'\n",
        "\n",
        "# COMPLETAR\n",
        "suma = a + b + c\n",
        "print(suma)"
      ],
      "execution_count": null,
      "outputs": [
        {
          "output_type": "stream",
          "name": "stdout",
          "text": [
            "2-5.57.8\n"
          ]
        }
      ]
    },
    {
      "cell_type": "markdown",
      "metadata": {
        "id": "Rdo5rRsdPBO7"
      },
      "source": [
        "## 2. Listas y Loops\n",
        "\n",
        "Ya vimos los tipos de datos básicos de Python. Es hora de empezar a combinarlos.\n",
        "\n",
        "### 2.1 Listas\n",
        "\n",
        "Las listas un objeto central en el lenguaje Python. Están compuestas por una sucesión de objetos en un orden determinado. Se definen mediante corchetes `[]`, y los objetos dentro de ellas se separan por comas `,`. Veamos un ejemplo:"
      ]
    },
    {
      "cell_type": "code",
      "metadata": {
        "id": "vA9XBz5mPBO8",
        "colab": {
          "base_uri": "https://localhost:8080/"
        },
        "outputId": "6633a594-353f-46c0-cae1-35a849102359"
      },
      "source": [
        "lista_1 = [42, 10.7, True, 'Texto']\n",
        "print(lista_1)"
      ],
      "execution_count": null,
      "outputs": [
        {
          "output_type": "stream",
          "name": "stdout",
          "text": [
            "[42, 10.7, True, 'Texto']\n"
          ]
        }
      ]
    },
    {
      "cell_type": "markdown",
      "metadata": {
        "id": "286PH7uXJves"
      },
      "source": [
        "**Notar** que la lista puede contener varios tipos de datos diferentes sin ningún problema.\n",
        "\n",
        "Una pregunta muy usual que uno hace cuando trabaja con listas es cuántos elementos tiene. Esto lo podemos responder con el comando `len()`"
      ]
    },
    {
      "cell_type": "code",
      "metadata": {
        "id": "D4nWSXKSPBO_",
        "colab": {
          "base_uri": "https://localhost:8080/"
        },
        "outputId": "4e399de5-cbf2-4c9c-b3ab-04aafc18bc83"
      },
      "source": [
        "len(lista_1)"
      ],
      "execution_count": null,
      "outputs": [
        {
          "output_type": "execute_result",
          "data": {
            "text/plain": [
              "4"
            ]
          },
          "metadata": {},
          "execution_count": 29
        }
      ]
    },
    {
      "cell_type": "markdown",
      "metadata": {
        "id": "b0wCmLL2PBPC"
      },
      "source": [
        "#### Indexado\n",
        "\n",
        "Cada elemento de una lista tiene asignada una posición (*índice*) que podemos usar para inspeccionar ese elemento u operar con él. Los índices **empiezan en 0**, y se especifican poniendo corchetes con el índice dentro luego del nombre de la lista:"
      ]
    },
    {
      "cell_type": "code",
      "metadata": {
        "id": "Jepw64oFPBPC",
        "colab": {
          "base_uri": "https://localhost:8080/"
        },
        "outputId": "1d9ddf64-f24c-4d22-82d8-4f78657c8564"
      },
      "source": [
        "lista_2 = [5, 6.0,'Un poco de texto',-5, False, 'Más texto', True, 100]\n",
        "\n",
        "print(lista_2[0])\n",
        "print(lista_2[1])\n",
        "print(lista_2[2])"
      ],
      "execution_count": null,
      "outputs": [
        {
          "output_type": "stream",
          "name": "stdout",
          "text": [
            "5\n",
            "6.0\n",
            "Un poco de texto\n"
          ]
        }
      ]
    },
    {
      "cell_type": "markdown",
      "metadata": {
        "id": "WOz0qLeiJve4"
      },
      "source": [
        "**Ejercicio**: imprimir el séptimo elemento de `lista_2`. Asegurarte que lo hiciste bien contando los elementos de la lista."
      ]
    },
    {
      "cell_type": "code",
      "metadata": {
        "id": "7ow4VjxZJve8",
        "colab": {
          "base_uri": "https://localhost:8080/"
        },
        "outputId": "8c77f356-6877-4265-f9c4-ff993881b337"
      },
      "source": [
        "lista_2 = [5, 6.0,'Un poco de texto',-5, False, 'Más texto', True, 100]\n",
        "# COMPLETAR\n",
        "print(lista_2[6])"
      ],
      "execution_count": null,
      "outputs": [
        {
          "output_type": "stream",
          "name": "stdout",
          "text": [
            "True\n"
          ]
        }
      ]
    },
    {
      "cell_type": "markdown",
      "metadata": {
        "id": "qS6wo6wUJvfA"
      },
      "source": [
        "También podemos seleccionar porciones de la lista, no solamente de a un elemento por vez."
      ]
    },
    {
      "cell_type": "code",
      "metadata": {
        "id": "mVfn1mYHPBPK",
        "colab": {
          "base_uri": "https://localhost:8080/"
        },
        "outputId": "271cc929-b34f-4836-809f-c0389baafead"
      },
      "source": [
        "lista_2 = [5, 6.0,'Un poco de texto',-5, False, 'Más texto', True, 100]\n",
        "print(lista_2[0:4])\n",
        "print(lista_2[4:])\n",
        "print(lista_2[0:8:3])"
      ],
      "execution_count": null,
      "outputs": [
        {
          "output_type": "stream",
          "name": "stdout",
          "text": [
            "[5, 6.0, 'Un poco de texto', -5]\n",
            "[False, 'Más texto', True, 100]\n",
            "[5, -5, True]\n"
          ]
        }
      ]
    },
    {
      "cell_type": "markdown",
      "metadata": {
        "id": "3RrvsnVRJvfF"
      },
      "source": [
        "¿Cuál es la lógica que gobierna esta sintaxis? También puede googlear qué es *slicing*.\n",
        "\n",
        "Algo más sobre indexado. Podemos indexar *desde el final* de la lista usando números negativos."
      ]
    },
    {
      "cell_type": "code",
      "metadata": {
        "id": "zZORvWBvJvfG",
        "colab": {
          "base_uri": "https://localhost:8080/"
        },
        "outputId": "41e0abb5-caab-4610-85e9-58adc44a855c"
      },
      "source": [
        "lista_2 = [5, 6.0,'Un poco de texto',-5, False, 'Más texto', True, 100]\n",
        "print(lista_2[-1])\n",
        "print(lista_2[-2])\n",
        "print(lista_2[-8])"
      ],
      "execution_count": null,
      "outputs": [
        {
          "output_type": "stream",
          "name": "stdout",
          "text": [
            "100\n",
            "True\n",
            "5\n"
          ]
        }
      ]
    },
    {
      "cell_type": "markdown",
      "metadata": {
        "id": "qyaVS4DtJvfJ"
      },
      "source": [
        "Creemos una tercera lista"
      ]
    },
    {
      "cell_type": "code",
      "metadata": {
        "id": "-nQ_FGfNPBPM",
        "colab": {
          "base_uri": "https://localhost:8080/"
        },
        "outputId": "27978859-3a18-46d1-cbc6-6227ecc1dc5c"
      },
      "source": [
        "# Definimos una segunda lista\n",
        "lista_3 = [0, lista_1, 'Mas texto', lista_2]\n",
        "print(lista_3)\n",
        "print(len(lista_3))"
      ],
      "execution_count": null,
      "outputs": [
        {
          "output_type": "stream",
          "name": "stdout",
          "text": [
            "[0, [42, 10.7, True, 'Texto'], 'Mas texto', [5, 6.0, 'Un poco de texto', -5, False, 'Más texto', True, 100]]\n",
            "4\n"
          ]
        }
      ]
    },
    {
      "cell_type": "markdown",
      "metadata": {
        "id": "5YSBWt8tPBPP"
      },
      "source": [
        "Notemos que en esta tercera lista, agregamos dentro la primera y la segunda lista. Ambas listas ahora son elementos de esta tercera lista. Prestar particular atención a cuántos elementos tiene `lista_3`. ¡No importa cuántos elementos tienen `lista_1` o `lista_2`, dentro de `lista_3` solamente cuentan como uno!"
      ]
    },
    {
      "cell_type": "code",
      "metadata": {
        "id": "3WYr5rJQPBPQ",
        "colab": {
          "base_uri": "https://localhost:8080/"
        },
        "outputId": "8f4fef97-a23d-4a4e-b49a-ff03a19e72dc"
      },
      "source": [
        "print(lista_3[3])"
      ],
      "execution_count": null,
      "outputs": [
        {
          "output_type": "stream",
          "name": "stdout",
          "text": [
            "[5, 6.0, 'Un poco de texto', -5, False, 'Más texto', True, 100]\n"
          ]
        }
      ]
    },
    {
      "cell_type": "markdown",
      "metadata": {
        "id": "RsTtGltdJvfT"
      },
      "source": [
        "**Ejercicio:** tomando `lista_1` desde `lista_3` (lo que acabamos de hacer en la celda anterior), indexar el tercer elemento de `lista_1`. Debería darte como resultado `True`."
      ]
    },
    {
      "cell_type": "code",
      "metadata": {
        "id": "on1ihAbHJvfU",
        "colab": {
          "base_uri": "https://localhost:8080/"
        },
        "outputId": "2735bb70-20ab-42a1-a6b4-f6d2f995889e"
      },
      "source": [
        "# COMPLETAR\n",
        "lista_3 = [0, lista_1, 'Mas texto', lista_2]\n",
        "#print(lista_3[1][2])\n",
        "print(lista_3)\n",
        "print(lista_3[3][4])"
      ],
      "execution_count": null,
      "outputs": [
        {
          "output_type": "stream",
          "name": "stdout",
          "text": [
            "[0, [42, 10.7, True, 'Texto'], 'Mas texto', [5, 6.0, 'Un poco de texto', -5, False, 'Más texto', True, 100]]\n",
            "False\n"
          ]
        }
      ]
    },
    {
      "cell_type": "markdown",
      "metadata": {
        "id": "ZbA1JYFxPBPR"
      },
      "source": [
        "**Lista Vacía y `append()`**\n",
        "\n",
        "Podemos crear listas vacias e ir agregándole elementos con el método `append()`"
      ]
    },
    {
      "cell_type": "code",
      "metadata": {
        "id": "7VWvo-GwPBPT",
        "colab": {
          "base_uri": "https://localhost:8080/"
        },
        "outputId": "403b9d19-8676-42f0-cc32-fa90ae5de3a4"
      },
      "source": [
        "lista_vacia = []\n",
        "len(lista_vacia)"
      ],
      "execution_count": null,
      "outputs": [
        {
          "output_type": "execute_result",
          "data": {
            "text/plain": [
              "0"
            ]
          },
          "metadata": {},
          "execution_count": 50
        }
      ]
    },
    {
      "cell_type": "code",
      "metadata": {
        "id": "pmlQp8PEPBPV",
        "colab": {
          "base_uri": "https://localhost:8080/"
        },
        "outputId": "fdc7d550-877a-4a00-f1e6-4566c6f2be94"
      },
      "source": [
        "lista_vacia.append(42)\n",
        "lista_vacia.append('un segundo item')\n",
        "print(lista_vacia)\n",
        "print(len(lista_vacia))"
      ],
      "execution_count": null,
      "outputs": [
        {
          "output_type": "stream",
          "name": "stdout",
          "text": [
            "[42, 'un segundo item', 421, 'un segundo item', 42, 'un segundo item']\n",
            "6\n"
          ]
        }
      ]
    },
    {
      "cell_type": "markdown",
      "metadata": {
        "id": "sU-6LA63PBPX"
      },
      "source": [
        "Prueba qué pasa si corren nuevamente la celda anterior (justo arriba de ésta). Notar que el método `append()` no solamente trabaja en listas vacías.\n",
        "\n",
        "**Ejercicio**: Defina una lista vacia llamada `lista_nueva` y agréguele (`append()`) los elementos `a`, `b` y `c`."
      ]
    },
    {
      "cell_type": "code",
      "metadata": {
        "id": "jXs-Rkh6VF8K",
        "colab": {
          "base_uri": "https://localhost:8080/"
        },
        "outputId": "5fa8ac3d-da64-464e-99ae-63c9b5d353b7"
      },
      "source": [
        "a = 8\n",
        "b = 'world'\n",
        "c = [12,24.5,66]\n",
        "\n",
        "lista_nueva = []\n",
        "lista_nueva.append(a)\n",
        "lista_nueva.append(b)\n",
        "lista_nueva.append(c)\n",
        "# COMPLETAR\n",
        "print(lista_nueva)"
      ],
      "execution_count": null,
      "outputs": [
        {
          "output_type": "stream",
          "name": "stdout",
          "text": [
            "[8, 'world', [12, 24.5, 66]]\n"
          ]
        }
      ]
    },
    {
      "cell_type": "markdown",
      "metadata": {
        "id": "fOCxehC_Jvfm"
      },
      "source": [
        "**CUIDADO:** a veces queremos copiar una lista, operar sobre ella y comparar los resultados con la lista original. Sin embargo, hay que tener cuidado cuando queremos copiar listas"
      ]
    },
    {
      "cell_type": "code",
      "metadata": {
        "id": "t9WclLNMJvfn",
        "colab": {
          "base_uri": "https://localhost:8080/"
        },
        "outputId": "99cd747c-eecd-4f6a-9e24-a295b8e5d68f"
      },
      "source": [
        "lista_1 = [1,2,3,4]\n",
        "lista_2 = lista_1  # lista_2 ahora es igual a lista_1\n",
        "lista_2[-1] = 100 # el ultimo elemento de la lista_2 ahora es 100\n",
        "print(lista_1, lista_2)"
      ],
      "execution_count": null,
      "outputs": [
        {
          "output_type": "stream",
          "name": "stdout",
          "text": [
            "[1, 2, 3, 100] [1, 2, 3, 100]\n"
          ]
        }
      ]
    },
    {
      "cell_type": "markdown",
      "metadata": {
        "id": "SDNdtX3uJvfr"
      },
      "source": [
        "¡Notar que se modificaron ambas listas! Esto, en general, no es lo deseado. Pero podemos hacerlo bien:"
      ]
    },
    {
      "cell_type": "code",
      "metadata": {
        "id": "tGukUgixJvfs",
        "colab": {
          "base_uri": "https://localhost:8080/"
        },
        "outputId": "d796ae8c-97a8-405e-8b05-59d979d561be"
      },
      "source": [
        "lista_1 = [1,2,3,4]\n",
        "lista_2 = lista_1.copy() # Prestar atención aquí\n",
        "lista_2[-1] = 100\n",
        "print(lista_1, lista_2)"
      ],
      "execution_count": null,
      "outputs": [
        {
          "output_type": "stream",
          "name": "stdout",
          "text": [
            "[1, 2, 3, 4] [1, 2, 3, 100]\n"
          ]
        }
      ]
    },
    {
      "cell_type": "markdown",
      "metadata": {
        "id": "1gP68SzLJvfy"
      },
      "source": [
        "¡Ahora no! Es decir, si queremos copiar listas, debemos poner `.copy()`. Esto no solo vale para listas, sino para objetos que veremos en arreglos de Numpy y dataframes de Pandas."
      ]
    },
    {
      "cell_type": "markdown",
      "metadata": {
        "id": "oGW0jo5hPBPZ"
      },
      "source": [
        "### 2.2 Loops\n",
        "\n",
        "En general, cuando estamos programando, queremos repetir una operación varias veces. Por ejemplo, aplicarle una operación a los elementos de una lista. Si la lista tiene muchos elementos, puede ser engorroso escribir la aplicación de esa operacíon a cada elemento uno por uno, por lo que necesitamos alguna estructura de código que facilite esa sintaxis. \n",
        "\n",
        "Los **Loops** (bucles) son estructuras de codigo fundamentales en cualquier lenguaje de programación. Consisten en bloques de código que se repiten una cierta cantidad de veces dada una condición. Existen dos formas básicas de crear loops, las instrucciones tipo `for` y las instrucciones tipo `while`.\n",
        "\n",
        "El `for` es un loop en el que un bloque de código se repite tantas veces como elementos haya en una determinada lista. En cada iteración (repetición) hay una variable que va tomando el valor de uno de los elementos en esta lista."
      ]
    },
    {
      "cell_type": "code",
      "metadata": {
        "id": "hZw979QmPBPa",
        "colab": {
          "base_uri": "https://localhost:8080/"
        },
        "outputId": "61ca7c9b-dd9b-47e7-a836-92d22a1c5121"
      },
      "source": [
        "lista_numeros = [3,55,1,876,12]\n",
        "for elemento in lista_numeros:\n",
        "    # Definimos el codigo dentro del for mediante la indentación\n",
        "    # (Todo lo que este corrido un 'tab' a la derecha)\n",
        "    print(elemento)\n",
        "print(elemento)"
      ],
      "execution_count": null,
      "outputs": [
        {
          "output_type": "stream",
          "name": "stdout",
          "text": [
            "3\n",
            "55\n",
            "1\n",
            "876\n",
            "12\n",
            "12\n"
          ]
        }
      ]
    },
    {
      "cell_type": "markdown",
      "metadata": {
        "id": "yie0RDfK3z0x"
      },
      "source": [
        "Prestar particular atención a que el código que está \"dentro\" del `for` está **indentado**. En algunos lenguajes de programación la indentación se utiliza para ordenar el código, hacerlo más legible. En Python, en cambio, es **obligatorio**. Se logra con cuatro espacios o un tab.\n",
        "\n",
        "Repitamos los mismo que la celda anterior. pero ahora agregamos una variable `i` que cuenta la cantidad de veces que recorrimos el bucle `for`."
      ]
    },
    {
      "cell_type": "code",
      "metadata": {
        "id": "kpqiAZb-PBPd",
        "colab": {
          "base_uri": "https://localhost:8080/"
        },
        "outputId": "77ef44f3-9b1e-4225-c374-452b3d3a93c6"
      },
      "source": [
        "lista_numeros = [3,55,1,876,12]\n",
        "i = 0 # La iniciamos en cero\n",
        "\n",
        "for elemento in lista_numeros:    \n",
        "    i = i+1 # Le sumamos 1 cada vez que entra\n",
        "    print(elemento, i)"
      ],
      "execution_count": null,
      "outputs": [
        {
          "output_type": "stream",
          "name": "stdout",
          "text": [
            "3 1\n",
            "55 2\n",
            "1 3\n",
            "876 4\n",
            "12 5\n"
          ]
        }
      ]
    },
    {
      "cell_type": "markdown",
      "metadata": {
        "id": "Qbz2a3orPBPl"
      },
      "source": [
        "También podemos recorrer listas de texto.\n"
      ]
    },
    {
      "cell_type": "code",
      "metadata": {
        "id": "z1jQ13uzPBPm",
        "colab": {
          "base_uri": "https://localhost:8080/"
        },
        "outputId": "ab1eb273-7446-4d0c-f453-88a1184d9392"
      },
      "source": [
        "lista_nombres = ['Ernesto', 'Camilo', 'Violeta']\n",
        "nueva_lista = []\n",
        "\n",
        "for item in lista_nombres:\n",
        "    oracion = 'Mi nombre es ' + item\n",
        "    nueva_lista.append(oracion)\n",
        "\n",
        "# Este print esta fuera del bucle, no está indentado\n",
        "print(nueva_lista)\n",
        "print(len(nueva_lista))"
      ],
      "execution_count": null,
      "outputs": [
        {
          "output_type": "stream",
          "name": "stdout",
          "text": [
            "['Mi nombre es Ernesto', 'Mi nombre es Camilo', 'Mi nombre es Violeta']\n",
            "3\n"
          ]
        }
      ]
    },
    {
      "cell_type": "markdown",
      "source": [
        "\n",
        "El `while` es otro tipo de loop los invito a consultar como se realiza su implementación."
      ],
      "metadata": {
        "id": "KuzusU33Isz9"
      }
    },
    {
      "cell_type": "markdown",
      "metadata": {
        "id": "YrQ5I9FZ53sq"
      },
      "source": [
        "## Repaso\n",
        "\n",
        "**Ejercicios 1 y 2:** Si tenemos una lista de números, por ejemplo los primeros diez numeros naturales, e intentamos sumarle un número fijo a la lista, por ejemplo 3, tal vez intentemos algo parecido a lo siguiente: \n",
        "\n"
      ]
    },
    {
      "cell_type": "code",
      "metadata": {
        "id": "DNaZ9yIy7wXr"
      },
      "source": [
        "numeros = [0,1,2,3,4,5,6,7,8,9]\n",
        "print(numeros + 3)"
      ],
      "execution_count": null,
      "outputs": []
    },
    {
      "cell_type": "markdown",
      "metadata": {
        "id": "z5l3spVJ775e"
      },
      "source": [
        "¡Nos salta un error! (Notar que la opción de Googlear el error en Stack Overflow es informativa.). Entonces:\n",
        "\n",
        "\n",
        "1. Crear una rutina que le sume tres a los diez primeros números naturales y vaya imprimiendo en pantalla a medida que lo hace.\n",
        "2. Crear una rutina que le sume tres a los diez primeros números naturales y guarde los resultados en una nueva lista. Al final, imprimir esa lista en pantalla."
      ]
    },
    {
      "cell_type": "code",
      "metadata": {
        "id": "Cf4kcg6fCcL8"
      },
      "source": [
        "# COMPLETAR 1"
      ],
      "execution_count": null,
      "outputs": []
    },
    {
      "cell_type": "code",
      "metadata": {
        "id": "SLQUER3i9LFq"
      },
      "source": [
        "# COMPLETAR 2"
      ],
      "execution_count": null,
      "outputs": []
    },
    {
      "cell_type": "markdown",
      "metadata": {
        "id": "rqAE7lt-DPuV"
      },
      "source": [
        "**Nota**: ¿qué ocurriría si, en lugar de querer sumarle un número a los diez primeros números naturales, quisiéramos hacerlo sobre los primeros cien?¿Y si fuera el primer millón de números naturales?¿La rutina es fácilmente adaptable?. Pista: `range()`"
      ]
    },
    {
      "cell_type": "markdown",
      "metadata": {
        "id": "565EnFNTVU3V"
      },
      "source": [
        "**Ejercicio 3**: Genere una lista llamada `numerosgrandes` que contenga el cuadrado de cada elemento en la lista `numeritos`."
      ]
    },
    {
      "cell_type": "code",
      "metadata": {
        "id": "YB0EcpVqV3hY"
      },
      "source": [
        "numeritos = [3,1,5,7,12,10,17,4,22]\n",
        "# COMPLETAR"
      ],
      "execution_count": null,
      "outputs": []
    },
    {
      "cell_type": "markdown",
      "metadata": {
        "id": "pn21djUX2ms6"
      },
      "source": [
        "**Ejercicio 4:** qué ocurre si sumas,`+`, dos listas. ¿Cómo se llama esa operación?"
      ]
    },
    {
      "cell_type": "code",
      "metadata": {
        "id": "VznWurp02l5K"
      },
      "source": [
        "lista_1 = [1,5,-8,3]\n",
        "lista_2 = [True, 'Cocodrilo que se duerme es cartera', 9, -17, 98, False]\n",
        "# COMPLETAR"
      ],
      "execution_count": null,
      "outputs": []
    },
    {
      "cell_type": "markdown",
      "metadata": {
        "id": "mwZKZSXBEA9A"
      },
      "source": [
        "La operación se llama concatenación. En este caso, de listas."
      ]
    },
    {
      "cell_type": "markdown",
      "metadata": {
        "id": "IR4u7CJok7is"
      },
      "source": [
        "**Ejercicio 5:** sumar todos los elementos de la siguiente lista. **Pistas:**\n",
        "* En un ejemplo anterior definimos una variable `i`, inicializada en cero, que fuimos modificando en cada paso de un `for`. Considerar la opción de definir una variable `suma` y utilizarla de forma parecida."
      ]
    },
    {
      "cell_type": "code",
      "metadata": {
        "id": "OKSDg3W4k7K-"
      },
      "source": [
        "numeros = [4,8,3,1,-3,3,-5,1,2,-8]\n",
        "# COMPLETAR"
      ],
      "execution_count": null,
      "outputs": []
    }
  ]
}