{
  "nbformat": 4,
  "nbformat_minor": 0,
  "metadata": {
    "kernelspec": {
      "display_name": "Python 3",
      "language": "python",
      "name": "python3"
    },
    "language_info": {
      "codemirror_mode": {
        "name": "ipython",
        "version": 3
      },
      "file_extension": ".py",
      "mimetype": "text/x-python",
      "name": "python",
      "nbconvert_exporter": "python",
      "pygments_lexer": "ipython3",
      "version": "3.7.6"
    },
    "colab": {
      "name": "ClaseMS-Numpy_G3.ipynb",
      "provenance": [],
      "collapsed_sections": [],
      "include_colab_link": true
    }
  },
  "cells": [
    {
      "cell_type": "markdown",
      "metadata": {
        "id": "view-in-github",
        "colab_type": "text"
      },
      "source": [
        "<a href=\"https://colab.research.google.com/github/johnreyes96/modeling-and-simulation/blob/master/src/main/python/classes/Numpy.ipynb\" target=\"_parent\"><img src=\"https://colab.research.google.com/assets/colab-badge.svg\" alt=\"Open In Colab\"/></a>"
      ]
    },
    {
      "cell_type": "markdown",
      "metadata": {
        "id": "Ev_oEXjx6w9Q"
      },
      "source": [
        "# Programación y NumPy\n",
        "\n",
        "En la primera parte de este notebook seguiremos explorando algunas cuestiones de programación. En la segunda parte, empezaremos a trabajar con NumPy.\n",
        "\n",
        "## 1. Programación\n",
        "\n",
        "### 1.1 Operaciones Lógicas\n",
        "\n",
        "En primer lugar, la operación `not` es simplemente la negación del booleano."
      ]
    },
    {
      "cell_type": "code",
      "metadata": {
        "id": "kv2eNRpePBOy",
        "colab": {
          "base_uri": "https://localhost:8080/"
        },
        "outputId": "949a3062-1ea0-4f9f-da50-e4e1b3548b34"
      },
      "source": [
        "variable_1 = True\n",
        "print(not(variable_1))\n",
        "\n",
        "variable_2 = False\n",
        "print(not(variable_2))"
      ],
      "execution_count": null,
      "outputs": [
        {
          "output_type": "stream",
          "name": "stdout",
          "text": [
            "False\n",
            "True\n"
          ]
        }
      ]
    },
    {
      "cell_type": "markdown",
      "source": [
        "La operación `and` nos devuelve `True` unicamente cuando ambas variables son verdaderas. Experimentar con la celda inferior y comprobar su tabla de verdad."
      ],
      "metadata": {
        "id": "0gAfsbNqiryS"
      }
    },
    {
      "cell_type": "code",
      "metadata": {
        "id": "mHPhaiiJPBOv",
        "colab": {
          "base_uri": "https://localhost:8080/"
        },
        "outputId": "ba8a6b4c-a178-48cd-cb5c-d2c842fe8a7a"
      },
      "source": [
        "variable_1 = True\n",
        "variable_2 = True\n",
        "print(variable_1 and variable_2)"
      ],
      "execution_count": null,
      "outputs": [
        {
          "output_type": "stream",
          "name": "stdout",
          "text": [
            "True\n"
          ]
        }
      ]
    },
    {
      "cell_type": "markdown",
      "metadata": {
        "id": "tIzs0GsO6w-k"
      },
      "source": [
        "**Ejercicio:** comprobar la tabla de verdad de la operación `or` jugando con la celda siguiente."
      ]
    },
    {
      "cell_type": "code",
      "metadata": {
        "id": "i9QxO0SgPBO3",
        "colab": {
          "base_uri": "https://localhost:8080/"
        },
        "outputId": "38cc504e-3904-4cff-d488-e2baa07dc819"
      },
      "source": [
        "A = False\n",
        "C = False\n",
        "A_or_B = A or C\n",
        "print(A_or_B)"
      ],
      "execution_count": null,
      "outputs": [
        {
          "output_type": "stream",
          "name": "stdout",
          "text": [
            "False\n"
          ]
        }
      ]
    },
    {
      "cell_type": "markdown",
      "metadata": {
        "id": "oa016g7sPBP2"
      },
      "source": [
        "### 1.2 Estructuras de control - Condicionales\n",
        "\n",
        "Los condicionales nos permiten ejecutar o no un bloque de codigo dependiendo de ciertas condiciones. En lenguaje coloquial, vendrían a ser del estilo de \"Si se cumple esta condición, hace A. Si no se cumple, hace B\", donde B puede ser, simplemente, no hacer nada. Veamos qué formas toman.\n",
        "\n",
        "### 1.2.1 If\n",
        "\n",
        "El condicional más simple es el `if`. Para mayor claridad escribiremos la condicion entre parentesis (), aunque esto no es necesario. Su estructura es \n",
        "\n",
        "``` python\n",
        "if condicion:\n",
        "    Si se cumple la condición, se ejecutan estas líneas de código\n",
        "```\n",
        "\n",
        "Veamos algunos ejemplos:"
      ]
    },
    {
      "cell_type": "code",
      "metadata": {
        "id": "TYisVuiEPBP4",
        "colab": {
          "base_uri": "https://localhost:8080/"
        },
        "outputId": "e6ac2d47-ad5c-4442-f2fb-7ef3de48ca80"
      },
      "source": [
        "valor = 15\n",
        "if (valor > 10):\n",
        "    print('El valor es mayor que 10')"
      ],
      "execution_count": null,
      "outputs": [
        {
          "output_type": "stream",
          "name": "stdout",
          "text": [
            "El valor es mayor que 10\n"
          ]
        }
      ]
    },
    {
      "cell_type": "markdown",
      "metadata": {
        "id": "-hz-IXpJPBP6"
      },
      "source": [
        "Prestar atención a que la condición debe ser un booleano"
      ]
    },
    {
      "cell_type": "code",
      "metadata": {
        "id": "BCXXXwRMPBP7",
        "colab": {
          "base_uri": "https://localhost:8080/"
        },
        "outputId": "3c162368-910d-498d-f7df-1a33cf3e7700"
      },
      "source": [
        "print(valor > 10)\n",
        "print(type(valor > 10))"
      ],
      "execution_count": null,
      "outputs": [
        {
          "output_type": "stream",
          "name": "stdout",
          "text": [
            "True\n",
            "<class 'bool'>\n"
          ]
        }
      ]
    },
    {
      "cell_type": "markdown",
      "metadata": {
        "id": "b8smKAgj6w_Y"
      },
      "source": [
        "**Nota:** para comparar variables, tenemos las operaciones menor `<`, mayor `>`, igualdad `==`, menor o igual  `<=`, y mayor o igual `>=`."
      ]
    },
    {
      "cell_type": "code",
      "metadata": {
        "id": "ZxEo7yDf6w_b",
        "colab": {
          "base_uri": "https://localhost:8080/"
        },
        "outputId": "625e1bb6-3d35-4162-b84e-cf25ca740c28"
      },
      "source": [
        "print(3 == 3)\n",
        "print(3 <= 4)\n",
        "print(3 >= 5)"
      ],
      "execution_count": null,
      "outputs": [
        {
          "output_type": "stream",
          "name": "stdout",
          "text": [
            "True\n",
            "True\n",
            "False\n"
          ]
        }
      ]
    },
    {
      "cell_type": "markdown",
      "metadata": {
        "id": "zaIO1UwlPBP_"
      },
      "source": [
        "### 1.2.2 If, Else\n",
        "\n",
        "A la estrucutra con `if` se le puede agregar otro bloque de codigo que se ejecute si la condición exigida NO se cumple. Esto se logra mediante la expresión `else`.\n",
        "\n",
        "``` python\n",
        "if condicion:\n",
        "    Si se cumple la condición, se ejecutan estas líneas de código\n",
        "else:\n",
        "    Si NO se cumple la condición, se ejecutan estas líneas de código\n",
        "```"
      ]
    },
    {
      "cell_type": "code",
      "metadata": {
        "id": "Hf8xuG6iPBP_",
        "colab": {
          "base_uri": "https://localhost:8080/"
        },
        "outputId": "2723a4be-4331-4228-f214-9661857e9d06"
      },
      "source": [
        "nombre = 'Pedro'\n",
        "\n",
        "if (nombre == 'Juan'):\n",
        "    print('Esta persona se llama Juan')\n",
        "else:\n",
        "    print('Esta persona NO se llama Juan')"
      ],
      "execution_count": null,
      "outputs": [
        {
          "output_type": "stream",
          "name": "stdout",
          "text": [
            "Esta persona NO se llama Juan\n"
          ]
        }
      ]
    },
    {
      "cell_type": "markdown",
      "metadata": {
        "id": "R5prOWCT6w_3"
      },
      "source": [
        "En la condición - lo que está entre paréntesis - es un booleano."
      ]
    },
    {
      "cell_type": "code",
      "metadata": {
        "id": "GVfCLIQyPBQB",
        "colab": {
          "base_uri": "https://localhost:8080/"
        },
        "outputId": "8928b4d5-9434-4b27-ced2-5392c7fc0c90"
      },
      "source": [
        "'Juan'=='Pedro'"
      ],
      "execution_count": null,
      "outputs": [
        {
          "output_type": "execute_result",
          "data": {
            "text/plain": [
              "False"
            ]
          },
          "metadata": {},
          "execution_count": 10
        }
      ]
    },
    {
      "cell_type": "markdown",
      "metadata": {
        "id": "1AJNWoqhPBQJ"
      },
      "source": [
        "### 1.2.3 If, Elif, Else\n",
        "A esta estructura se le pueden sumar tantas condiciones encadenadas como uno desee, mediante la expresión `elif`. El orden en que se van chequeando las condiciones depende de su posición, priemero se chequea el `if`, luego el primer `elif`, luego el segundo, y así sucesivamente.\n",
        "\n",
        "``` python\n",
        "if condicion_1:\n",
        "    Si se cumple la condicion_1 , se ejecutan estas líneas de código\n",
        "elif condicion_2:\n",
        "    Si se cumple la condicion_2 , se ejecutan estas líneas de código\n",
        "elif condicion_3:\n",
        "    Si se cumple la condicion_3 , se ejecutan estas líneas de código\n",
        "else:\n",
        "    Si NO se cumple ninguna de las condiciones anteriores, se ejecutan líneas celdas de código\n",
        "```\n"
      ]
    },
    {
      "cell_type": "code",
      "metadata": {
        "id": "psA9onaFPBQL",
        "colab": {
          "base_uri": "https://localhost:8080/"
        },
        "outputId": "5d174f6e-a25e-4853-98fc-f7e26cdb9bbc"
      },
      "source": [
        "edad = 18\n",
        "\n",
        "if (edad < 18):\n",
        "    print('Esta persona tiene menos de 18 años')\n",
        "elif (edad > 18):\n",
        "    print('Esta persona tiene mas de 18 años')\n",
        "else:\n",
        "    print('Esta persona tiene justo 18 años')"
      ],
      "execution_count": null,
      "outputs": [
        {
          "output_type": "stream",
          "name": "stdout",
          "text": [
            "Esta persona tiene justo 18 años\n"
          ]
        }
      ]
    },
    {
      "cell_type": "markdown",
      "metadata": {
        "id": "ZHXdIEkSW6wa"
      },
      "source": [
        "**Ejercicio**: Escriba un bloque de código que, dado un número, imprima la frase \"El numero es par\" si el número es par o la frase \"El numero es impar\" si no lo es."
      ]
    },
    {
      "cell_type": "code",
      "metadata": {
        "id": "7uWbEw9BYAL4",
        "colab": {
          "base_uri": "https://localhost:8080/"
        },
        "outputId": "a5fce9d5-a263-4b05-a602-52c3f406a8cf"
      },
      "source": [
        "numero = 18\n",
        "# COMPLETAR\n",
        "if(numero % 2 == 0):\n",
        "  print(\"El numero es par\")\n",
        "else:\n",
        "  print(\"El numero es impar\")\n"
      ],
      "execution_count": null,
      "outputs": [
        {
          "output_type": "stream",
          "name": "stdout",
          "text": [
            "El numero es par\n"
          ]
        }
      ]
    },
    {
      "cell_type": "markdown",
      "metadata": {
        "id": "qecxWClXPBQM"
      },
      "source": [
        "### 1.3 Combinando estructuras de código\n",
        "\n",
        "Las estructuras de loops y condicionales se pueden combinar para generar comportamientos más complejos. Supongamos que tenemos una lista de edades y nos queremos quedar con aquellas que sean mayores que 18 años. Podemos hacer lo siguiente:"
      ]
    },
    {
      "cell_type": "code",
      "metadata": {
        "id": "69DHgsOjPBQN",
        "colab": {
          "base_uri": "https://localhost:8080/"
        },
        "outputId": "b1e0a3c9-2d72-4ae2-eae4-ea693ba42fc0"
      },
      "source": [
        "lista_de_edades = [4,20,15,29,11,42,10,18]\n",
        "lista_mayores = []\n",
        "\n",
        "for edad in lista_de_edades:\n",
        "    if (edad > 18):\n",
        "        lista_mayores.append(edad)\n",
        "\n",
        "print(lista_mayores)"
      ],
      "execution_count": null,
      "outputs": [
        {
          "output_type": "stream",
          "name": "stdout",
          "text": [
            "[20, 29, 42]\n"
          ]
        }
      ]
    },
    {
      "cell_type": "markdown",
      "metadata": {
        "id": "IeZnpQLV6xAv"
      },
      "source": [
        "### 1.4 Operaciones lógicas y estructuras de control\n",
        "\n",
        "A veces, queremos ejecutar una línea de código si se cumple más de una condición. Esto se puede lograr fácilmente usando las operaciones lógicas. Supongamos que tenemos una lista de números, y queremos seleccionar aquellos que cumplan ciertas propiedades. Por ejemplo, que son mayores o iguales que 5 y menores que 20. Podríamos hacer lo siguiente:"
      ]
    },
    {
      "cell_type": "code",
      "metadata": {
        "id": "sC-PhM3o6xA0",
        "colab": {
          "base_uri": "https://localhost:8080/"
        },
        "outputId": "1bd286c9-3f2e-4956-f0ae-2c1a53af1102"
      },
      "source": [
        "numeros = [0,3,1,4,6,17,3,89,5,6,4,13,25,4,3,23,1,15,2]\n",
        "seleccionados = []\n",
        "for numero in numeros:\n",
        "    if numero >= 5:\n",
        "        if numero < 20:\n",
        "            seleccionados.append(numero)\n",
        "print(seleccionados)"
      ],
      "execution_count": null,
      "outputs": [
        {
          "output_type": "stream",
          "name": "stdout",
          "text": [
            "[6, 17, 5, 6, 13, 15]\n"
          ]
        }
      ]
    },
    {
      "cell_type": "markdown",
      "metadata": {
        "id": "Tc_42Pgi6xA8"
      },
      "source": [
        "Notar que los números seleccionados cumplen los requisitos que pedimos. Pero también podríamos hacerlo así:"
      ]
    },
    {
      "cell_type": "code",
      "metadata": {
        "id": "GgeeSiSK6xBA",
        "colab": {
          "base_uri": "https://localhost:8080/"
        },
        "outputId": "88e19562-ab55-4af7-fb33-db53d334b2ad"
      },
      "source": [
        "numeros = [0,3,1,4,6,17,3,89,5,6,4,13,25,4,3,23,1,15,2]\n",
        "seleccionados = []\n",
        "for numero in numeros:\n",
        "    if numero >= 5 and numero < 20:\n",
        "        seleccionados.append(numero)\n",
        "print(seleccionados)"
      ],
      "execution_count": null,
      "outputs": [
        {
          "output_type": "stream",
          "name": "stdout",
          "text": [
            "[6, 17, 5, 6, 13, 15]\n"
          ]
        }
      ]
    },
    {
      "cell_type": "markdown",
      "metadata": {
        "id": "bp86CHMb6xBI"
      },
      "source": [
        "El resultado es el mismo. Si bien esta forma es más compacta, no necesariamente implica que sea mejor. Uno/a elije hacerlo de una u otra forma según lo que le parezca más claro; si ambas condiciones juntas son difíciles de leer, tal vez puedes usar la primera forma.\n",
        "\n",
        "**Ejercicio**: Modifica el ejemplo anterior para que seleccione aquellos números **mayores** que 5 **o** impares."
      ]
    },
    {
      "cell_type": "code",
      "metadata": {
        "colab": {
          "base_uri": "https://localhost:8080/"
        },
        "outputId": "0a79ae15-7438-4401-87a0-a27ed5179817",
        "id": "xZcn11amdEVs"
      },
      "source": [
        "numeros = [0,3,1,4,6,17,3,89,5,6,4,13,25,4,3,23,1,15,2]\n",
        "seleccionados = []\n",
        "for numero in numeros:\n",
        "    if numero > 5 or numero % 2 == 1:\n",
        "        seleccionados.append(numero)\n",
        "print(seleccionados)"
      ],
      "execution_count": null,
      "outputs": [
        {
          "output_type": "stream",
          "name": "stdout",
          "text": [
            "[3, 1, 6, 17, 3, 89, 5, 6, 13, 25, 3, 23, 1, 15]\n"
          ]
        }
      ]
    },
    {
      "cell_type": "markdown",
      "metadata": {
        "id": "3t8rRW2j6xBU"
      },
      "source": [
        "### Repaso\n",
        "\n",
        "**Ejercicio 1**: ¿Qué pasa si sumás, restás, multiplicás o divides booleanos?"
      ]
    },
    {
      "cell_type": "code",
      "metadata": {
        "id": "d1FkUOkT6xBW",
        "colab": {
          "base_uri": "https://localhost:8080/"
        },
        "outputId": "60d85856-1533-4600-88cd-58955c35af7c"
      },
      "source": [
        "print(True + True + True)\n",
        "print(True * False)\n",
        "# COMPLETAR"
      ],
      "execution_count": null,
      "outputs": [
        {
          "output_type": "stream",
          "name": "stdout",
          "text": [
            "3\n",
            "0\n"
          ]
        }
      ]
    },
    {
      "cell_type": "markdown",
      "metadata": {
        "id": "Rn69wJ-y6xBg"
      },
      "source": [
        "**Ejercicio 2**: Hacer una estructur `if/else` que compare dos variables numéricas `A` y `B` y que decida cuál es mayor e imprima en pantalla \"A es mayor que B\" o \"B es mayor que A\" . "
      ]
    },
    {
      "cell_type": "code",
      "metadata": {
        "id": "NUxrQf9A6xBs"
      },
      "source": [
        "A = 3\n",
        "B = 4\n",
        "# COMPLETAR"
      ],
      "execution_count": null,
      "outputs": []
    },
    {
      "cell_type": "markdown",
      "metadata": {
        "id": "LcNOZBVO6xBz"
      },
      "source": [
        "**Ejercicio 3**: Dada la siguiente lista de numeros:"
      ]
    },
    {
      "cell_type": "code",
      "metadata": {
        "id": "nixTh2uwPBQQ"
      },
      "source": [
        "numeros = [4,5,1,3,5,7,8,1,3,4,1,7,8,1,3,4,5,2,1,2,4,5]"
      ],
      "execution_count": null,
      "outputs": []
    },
    {
      "cell_type": "markdown",
      "metadata": {
        "id": "XLWP4dKfPBQS"
      },
      "source": [
        "Escribir una rutina que calcule la suma de los números **pares menores que 5** en esta lista. **Para tener en cuenta:** \n",
        "* Hay muchas formas de hacerlo, si piensa en más de una, mejor.\n",
        "* El resultado es 20. \n",
        "* Recuerda que puede inicializar una variable en cero, y luego ir modificándola en un loop."
      ]
    },
    {
      "cell_type": "code",
      "metadata": {
        "id": "Rl2hqB-e6xB_"
      },
      "source": [
        "# COMPLETAR"
      ],
      "execution_count": null,
      "outputs": []
    },
    {
      "cell_type": "markdown",
      "metadata": {
        "id": "EOZ7KmA46xCG"
      },
      "source": [
        "**Ejercicio 4**: Dada la siguiente lista de numeros:"
      ]
    },
    {
      "cell_type": "code",
      "metadata": {
        "id": "aaYZXXHi6xCI"
      },
      "source": [
        "numeros_en_texto = ['2', '3', '2', '3', '2', '2', '2', '2', '3', '2', '3', '1', '3', '1', '2', '2', '2', '2', '2', '2', '2', '2', '1', '2', '3', '2', '2', '2', '2', '1', '2', '3', '2', '2', '3', '2', '3', '3', '2', '2', '1', '3', '3', '2', '3', '2', '2', '1', '2', '1', '1', '2', '2', '3', '2', '2', '2', '3', '2', '2', '2', '1', '2', '2', '3', '2', '2', '2', '2', '1', '2', '2', '2', '2', '3', '1', '2', '3', '3', '2', '3', '2', '2', '3', '3', '1', '1', '3', '2', '1', '2', '2', '2', '1', '1', '2', '2', '2', '2', '2', '2', '2', '3', '3', '1', '3', '3', '3', '2', '2', '2', '2', '2', '2', '2', '3', '3', '2', '2', '3', '2', '2', '2', '2', '2', '3', '3', '2', '2', '1', '3', '2', '2', '2', '3', '2', '3', '1', '3', '3', '2', '3', '3', '2', '2', '2', '2', '2', '2', '1', '2', '2', '1', '2', '3', '2', '1', '3', '1', '2', '3', '3', '3', '2', '3', '1', '3', '2', '3', '1', '2', '2', '2', '3', '3', '2', '2', '2', '2', '2', '3', '1', '2', '3', '3', '2', '2', '3', '2', '2', '2', '3', '2', '2', '2', '2', '1', '2', '3', '1', '3', '2', '2', '3', '3', '3', '2', '2', '1', '1']\n",
        "print(numeros_en_texto)\n",
        "\n"
      ],
      "execution_count": null,
      "outputs": []
    },
    {
      "cell_type": "markdown",
      "metadata": {
        "id": "7csAGf6h6xCQ"
      },
      "source": [
        "Calcule la suma de los unos (1) y los tres (3) en esta lista. Nuevamente, hay muchas formas de hacerlo. **Para tener en cuenta:** \n",
        "* El resultado es 210.\n"
      ]
    },
    {
      "cell_type": "code",
      "metadata": {
        "id": "vOghc-f86xCT"
      },
      "source": [
        "# COMPLETAR"
      ],
      "execution_count": null,
      "outputs": []
    },
    {
      "cell_type": "markdown",
      "metadata": {
        "id": "TTDIO6cP6xCc"
      },
      "source": [
        "## 2. Numpy\n",
        "\n",
        "Es una librería de Python especializada en el cálculo numérico y el análisis de datos, especialmente para un gran volumen de datos.\n",
        "\n",
        "Incorpora una nueva clase de objetos llamados arrays que permite representar colecciones de datos de un mismo tipo en varias dimensiones, y funciones muy eficientes para su manipulación.\n",
        "\n",
        "La ventaja de Numpy frente a las listas predefinidas en Python es que el procesamiento de los arrays se realiza mucho más rápido (hasta 50 veces más) que las listas, lo cual la hace ideal para el procesamiento de vectores y matrices de grandes dimensiones."
      ]
    },
    {
      "cell_type": "code",
      "metadata": {
        "id": "rPcaeHHt6xCe"
      },
      "source": [
        "import numpy as np"
      ],
      "execution_count": null,
      "outputs": []
    },
    {
      "cell_type": "markdown",
      "metadata": {
        "id": "W6b95ub26xCn"
      },
      "source": [
        "Ahora nuestro ambiente de trabajo sabe que si ponemos algo del estilo `np.` significa que esa funcionalidad la debe buscar en NumPy.\n",
        "\n",
        "El principal tipo de dato sobre el que trabaja NumPy son los arreglos o arrays. Los arreglos son parecidos a listas y, de hecho, se pueden crear a partir de ellas."
      ]
    },
    {
      "cell_type": "code",
      "metadata": {
        "id": "-NYi46pS6xCr",
        "colab": {
          "base_uri": "https://localhost:8080/"
        },
        "outputId": "a1d1a902-1f0a-48a1-8db7-76abb889a8e1"
      },
      "source": [
        "lista = [0,1,2,3,4,5]\n",
        "arreglo = np.array(lista)\n",
        "print(lista)\n",
        "print(arreglo)"
      ],
      "execution_count": null,
      "outputs": [
        {
          "output_type": "stream",
          "name": "stdout",
          "text": [
            "[0, 1, 2, 3, 4, 5]\n",
            "[0 1 2 3 4 5]\n"
          ]
        }
      ]
    },
    {
      "cell_type": "markdown",
      "metadata": {
        "id": "3GTbMtsp6xCy"
      },
      "source": [
        "Pero son más que una lista. Algunas cosas que no se podían hacer con las listas ahora sí se pueden con arreglos. Recordemos que sumarle un número a toda la lista no estaba permitido"
      ]
    },
    {
      "cell_type": "code",
      "metadata": {
        "id": "oBsq7xKM6xC0",
        "colab": {
          "base_uri": "https://localhost:8080/",
          "height": 167
        },
        "outputId": "95c2909c-4bff-4dad-e005-93afdfcb3552"
      },
      "source": [
        "lista + 1"
      ],
      "execution_count": null,
      "outputs": [
        {
          "output_type": "error",
          "ename": "TypeError",
          "evalue": "ignored",
          "traceback": [
            "\u001b[0;31m---------------------------------------------------------------------------\u001b[0m",
            "\u001b[0;31mTypeError\u001b[0m                                 Traceback (most recent call last)",
            "\u001b[0;32m<ipython-input-27-0d87e2469f45>\u001b[0m in \u001b[0;36m<module>\u001b[0;34m\u001b[0m\n\u001b[0;32m----> 1\u001b[0;31m \u001b[0mlista\u001b[0m \u001b[0;34m+\u001b[0m \u001b[0;36m1\u001b[0m\u001b[0;34m\u001b[0m\u001b[0;34m\u001b[0m\u001b[0m\n\u001b[0m",
            "\u001b[0;31mTypeError\u001b[0m: can only concatenate list (not \"int\") to list"
          ]
        }
      ]
    },
    {
      "cell_type": "markdown",
      "metadata": {
        "id": "XM4rla9L6xC7"
      },
      "source": [
        "¡Pero ahora con los arreglos sí!"
      ]
    },
    {
      "cell_type": "code",
      "metadata": {
        "id": "QxQS9qSw6xC9"
      },
      "source": [
        "arreglo = arreglo + 1"
      ],
      "execution_count": null,
      "outputs": []
    },
    {
      "cell_type": "markdown",
      "metadata": {
        "id": "xgo-b6nG6xDE"
      },
      "source": [
        "Esto simplifica mucho hacer cuéntas. Pero no es sólo sumar, también muchas otras operaciones:"
      ]
    },
    {
      "cell_type": "code",
      "metadata": {
        "id": "GDFrflQS6xDG",
        "colab": {
          "base_uri": "https://localhost:8080/"
        },
        "outputId": "320119c8-e62c-4a16-b42d-abdd921a3900"
      },
      "source": [
        "print(arreglo - 5)\n",
        "print(arreglo - 2)\n",
        "print(arreglo*4)\n",
        "print(arreglo**2)"
      ],
      "execution_count": null,
      "outputs": [
        {
          "output_type": "stream",
          "name": "stdout",
          "text": [
            "[-4 -3 -2 -1  0  1]\n",
            "[-1  0  1  2  3  4]\n",
            "[ 4  8 12 16 20 24]\n",
            "[ 1  4  9 16 25 36]\n"
          ]
        }
      ]
    },
    {
      "cell_type": "markdown",
      "metadata": {
        "id": "OG5vEKqa6xDO"
      },
      "source": [
        "Comprobar que, salvo la multiplicación, ninguno estaba permitido en listas. ¿Qué hace la multiplicación en el caso de una lista?"
      ]
    },
    {
      "cell_type": "markdown",
      "metadata": {
        "id": "8OLptg2q6xDP"
      },
      "source": [
        "### 2.1 Creación de arreglos"
      ]
    },
    {
      "cell_type": "markdown",
      "metadata": {
        "id": "5Besuznw6xDR"
      },
      "source": [
        "Si bien podemos crear arreglos a partir de listas, NumPy viene con muchas funciones para hacerlo. Veamos algunas.\n",
        "\n",
        "Una muy utilizada es `np.arange()`."
      ]
    },
    {
      "cell_type": "code",
      "source": [
        "np.arange(0, 5, 0.5, dtype=float)"
      ],
      "metadata": {
        "colab": {
          "base_uri": "https://localhost:8080/"
        },
        "id": "oEJ3jheFiW-H",
        "outputId": "a6819d2e-8ac6-4ba2-fbee-c2efa3b91e2f"
      },
      "execution_count": null,
      "outputs": [
        {
          "output_type": "execute_result",
          "data": {
            "text/plain": [
              "array([0. , 0.5, 1. , 1.5, 2. , 2.5, 3. , 3.5, 4. , 4.5])"
            ]
          },
          "metadata": {},
          "execution_count": 33
        }
      ]
    },
    {
      "cell_type": "code",
      "source": [
        "np.arange(0, 5, 0.5, dtype=int)"
      ],
      "metadata": {
        "colab": {
          "base_uri": "https://localhost:8080/"
        },
        "id": "Ho6jEj2lieoI",
        "outputId": "de1dd0ed-3ecf-423d-c66f-013db7e914fe"
      },
      "execution_count": null,
      "outputs": [
        {
          "output_type": "execute_result",
          "data": {
            "text/plain": [
              "array([0, 0, 0, 0, 0, 0, 0, 0, 0, 0])"
            ]
          },
          "metadata": {},
          "execution_count": 34
        }
      ]
    },
    {
      "cell_type": "code",
      "metadata": {
        "id": "ffVupHId6xDS",
        "colab": {
          "base_uri": "https://localhost:8080/"
        },
        "outputId": "c0900b55-9d22-436b-db2a-63438f342b50"
      },
      "source": [
        "arreglo = np.arange(3,20,2)\n",
        "print(arreglo)"
      ],
      "execution_count": null,
      "outputs": [
        {
          "output_type": "stream",
          "name": "stdout",
          "text": [
            "[ 3  5  7  9 11 13 15 17 19]\n"
          ]
        }
      ]
    },
    {
      "cell_type": "markdown",
      "source": [
        "**Ejercicio:** Buscar y crear ejemplos con las siguientes funciones:\n",
        "* `np.linspace`. Presta particular atención a cómo se diferencia de `np.arange`.\n",
        "* `np.zeros` y `np.ones`"
      ],
      "metadata": {
        "id": "W_0Og9rF0uK6"
      }
    },
    {
      "cell_type": "code",
      "metadata": {
        "colab": {
          "base_uri": "https://localhost:8080/"
        },
        "outputId": "b75adb46-927d-4797-a1f1-61229ae4451e",
        "id": "okwglATikCxH"
      },
      "source": [
        "arreglo = np.linspace(1,19,5)\n",
        "print(arreglo)\n",
        "\n",
        "arreglo = np.arange(1,19,4)\n",
        "print(arreglo)"
      ],
      "execution_count": null,
      "outputs": [
        {
          "output_type": "stream",
          "name": "stdout",
          "text": [
            "[ 1.   5.5 10.  14.5 19. ]\n",
            "[ 1  5  9 13 17]\n"
          ]
        }
      ]
    },
    {
      "cell_type": "markdown",
      "metadata": {
        "id": "GrbJZzEA6xDZ"
      },
      "source": [
        "\n",
        "### 2.2 Shape de los arreglos\n",
        "\n",
        "Los arreglos tienen muchos más propiedades que las listas. En particular, pueden tener más de un *eje* o dimensión. Veamos a qué nos referimos:"
      ]
    },
    {
      "cell_type": "code",
      "metadata": {
        "id": "2gj5gtxN6xDb",
        "colab": {
          "base_uri": "https://localhost:8080/"
        },
        "outputId": "df210d80-d1e2-4b26-fbf5-499fb28801d1"
      },
      "source": [
        "arreglo_2d = np.array([[1,2,3,4],[5,6,7,8]])\n",
        "print(arreglo_2d)"
      ],
      "execution_count": null,
      "outputs": [
        {
          "output_type": "stream",
          "name": "stdout",
          "text": [
            "[[1 2 3 4]\n",
            " [5 6 7 8]]\n"
          ]
        }
      ]
    },
    {
      "cell_type": "markdown",
      "metadata": {
        "id": "hd1tzKoY6xDi"
      },
      "source": [
        "Notar que tiene dos filas y cuatro columnas. Podemos descubrir esto sin imprimirlo en pantalla, sino usando la propiedad `.shape` del arreglo."
      ]
    },
    {
      "cell_type": "code",
      "metadata": {
        "id": "39jXsa356xDk",
        "colab": {
          "base_uri": "https://localhost:8080/"
        },
        "outputId": "274b32c3-b5c3-4f00-bc21-e80d57e0bf7d"
      },
      "source": [
        "print(arreglo_2d.shape)"
      ],
      "execution_count": null,
      "outputs": [
        {
          "output_type": "stream",
          "name": "stdout",
          "text": [
            "(2, 4)\n"
          ]
        }
      ]
    },
    {
      "cell_type": "markdown",
      "metadata": {
        "id": "F0gQzLOW6xDp"
      },
      "source": [
        "Primero aparece el número de filas y luego el de columnas. ¿Qué estructura de dato es `(2, 4)`? Otro ejemplo:"
      ]
    },
    {
      "cell_type": "code",
      "metadata": {
        "id": "H-w91uc66xDr",
        "colab": {
          "base_uri": "https://localhost:8080/"
        },
        "outputId": "a10e69c1-2cb6-49ac-a330-4bccc29a6ee9"
      },
      "source": [
        "arreglo_2d = np.array([[1,2],[3,4],[5,6],[7,8]])\n",
        "print(arreglo_2d)\n",
        "print(arreglo_2d.shape)"
      ],
      "execution_count": null,
      "outputs": [
        {
          "output_type": "stream",
          "name": "stdout",
          "text": [
            "[[1 2]\n",
            " [3 4]\n",
            " [5 6]\n",
            " [7 8]]\n",
            "(4, 2)\n"
          ]
        }
      ]
    },
    {
      "cell_type": "markdown",
      "metadata": {
        "id": "NI-72zHF6xDx"
      },
      "source": [
        "Si queremos saber cuántos elementos tiene, podemos usar `.size`"
      ]
    },
    {
      "cell_type": "code",
      "metadata": {
        "id": "FAM3A5nN6xD1",
        "colab": {
          "base_uri": "https://localhost:8080/"
        },
        "outputId": "ab741e84-4733-4542-8a0f-9ab05bf38ee4"
      },
      "source": [
        "print(arreglo_2d.size)"
      ],
      "execution_count": null,
      "outputs": [
        {
          "output_type": "stream",
          "name": "stdout",
          "text": [
            "8\n"
          ]
        }
      ]
    },
    {
      "cell_type": "markdown",
      "metadata": {
        "id": "AHudbTb_6xD7"
      },
      "source": [
        "### 2.3 Funciones que operan sobre arreglos\n",
        "\n",
        "Los arreglos de NumPy incorporan un montón de funciones que operan sobre los arreglos. Veamos algunos ejemplos."
      ]
    },
    {
      "cell_type": "code",
      "metadata": {
        "id": "rsZiMiFa6xD9",
        "colab": {
          "base_uri": "https://localhost:8080/"
        },
        "outputId": "9f197f1f-67b4-46fb-e8dd-387bbf1a4c91"
      },
      "source": [
        "un_arreglo = np.array([-100,2,3,17,25,1,95])\n",
        "print(un_arreglo.min())\n",
        "print(un_arreglo.max())"
      ],
      "execution_count": null,
      "outputs": [
        {
          "output_type": "stream",
          "name": "stdout",
          "text": [
            "-100\n",
            "95\n"
          ]
        }
      ]
    },
    {
      "cell_type": "markdown",
      "metadata": {
        "id": "E6xoQQOF6xED"
      },
      "source": [
        "En el caso 2D, podemos pedir que estas funciones operen sobre todo el arreglo, o por ejes.\n",
        "\n"
      ]
    },
    {
      "cell_type": "code",
      "metadata": {
        "id": "V-MBXYIo6xEH",
        "colab": {
          "base_uri": "https://localhost:8080/"
        },
        "outputId": "b8428e2f-b230-4b7a-bf7f-370cc3ca8d55"
      },
      "source": [
        "arreglo_2d = np.arange(9)\n",
        "np.random.shuffle(arreglo_2d)\n",
        "arreglo_2d = arreglo_2d.reshape((3,3))\n",
        "print(arreglo_2d)"
      ],
      "execution_count": null,
      "outputs": [
        {
          "output_type": "stream",
          "name": "stdout",
          "text": [
            "[[1 6 0]\n",
            " [5 3 7]\n",
            " [8 2 4]]\n"
          ]
        }
      ]
    },
    {
      "cell_type": "code",
      "source": [
        "arreglo_2d = np.arange(9)\n",
        "print(arreglo_2d)"
      ],
      "metadata": {
        "colab": {
          "base_uri": "https://localhost:8080/"
        },
        "id": "1WkxisvKmZZ1",
        "outputId": "1df0b5c8-079f-4c2e-91b1-26c6a0939f7f"
      },
      "execution_count": null,
      "outputs": [
        {
          "output_type": "stream",
          "name": "stdout",
          "text": [
            "[0 1 2 3 4 5 6 7 8]\n"
          ]
        }
      ]
    },
    {
      "cell_type": "markdown",
      "metadata": {
        "id": "ieZnEuby6xEN"
      },
      "source": [
        "Trata de entender la diferencia entre las siguientes instrucciones:"
      ]
    },
    {
      "cell_type": "code",
      "metadata": {
        "id": "sUB0kNoj6xET",
        "colab": {
          "base_uri": "https://localhost:8080/"
        },
        "outputId": "12cbf5ed-b568-4812-b75e-81656d938655"
      },
      "source": [
        "arreglo_2d = np.arange(9)\n",
        "arreglo_2d = arreglo_2d.reshape((3,3))\n",
        "print(arreglo_2d)\n",
        "print(arreglo_2d.max(axis = 0))\n",
        "print(arreglo_2d.min(axis = 1))"
      ],
      "execution_count": null,
      "outputs": [
        {
          "output_type": "stream",
          "name": "stdout",
          "text": [
            "[[0 1 2]\n",
            " [3 4 5]\n",
            " [6 7 8]]\n",
            "[6 7 8]\n",
            "[0 3 6]\n"
          ]
        }
      ]
    },
    {
      "cell_type": "markdown",
      "metadata": {
        "id": "WtKLIys36xEY"
      },
      "source": [
        "* No dijimos nada sobre indexado ni slicing. Esto se debe a que, para arreglos 1D, es similar que para la listas. Para arreglos 2D, es apenas más complicado. Para estudiarlo, jugar con la siguiente celda:"
      ]
    },
    {
      "cell_type": "code",
      "metadata": {
        "id": "CNAbEbBw6xEa",
        "colab": {
          "base_uri": "https://localhost:8080/"
        },
        "outputId": "c7ad4c14-bfbc-4034-8948-27d76bb89a07"
      },
      "source": [
        "arreglo_2d = np.arange(9).reshape(3,3)\n",
        "print(arreglo_2d)\n",
        "print(arreglo_2d[2,:])"
      ],
      "execution_count": null,
      "outputs": [
        {
          "output_type": "stream",
          "name": "stdout",
          "text": [
            "[[0 1 2]\n",
            " [3 4 5]\n",
            " [6 7 8]]\n",
            "[6 7 8]\n"
          ]
        }
      ]
    },
    {
      "cell_type": "markdown",
      "metadata": {
        "id": "svHQKfw_6xEg"
      },
      "source": [
        "* Podemos usar `arreglo.max()` o `np.max(arreglo)`. Esto no es válido solamente para la función `max()`, sino también para casi todas las funciones que operen sobre arreglos. "
      ]
    },
    {
      "cell_type": "code",
      "metadata": {
        "id": "aTBJASA26xEh",
        "colab": {
          "base_uri": "https://localhost:8080/"
        },
        "outputId": "1f20e6b8-9d9f-4392-a3a6-e897ba77753d"
      },
      "source": [
        "print(np.min(un_arreglo), un_arreglo.min())"
      ],
      "execution_count": null,
      "outputs": [
        {
          "output_type": "stream",
          "name": "stdout",
          "text": [
            "-100 -100\n"
          ]
        }
      ]
    },
    {
      "cell_type": "markdown",
      "metadata": {
        "id": "vL5QD71a6xEo"
      },
      "source": [
        "### Repaso\n",
        "\n",
        "**Ejercicio 1**: Escribir un arreglo con 100 números equiespaciados del 0 al 9. Pista: `linspace`"
      ]
    },
    {
      "cell_type": "code",
      "metadata": {
        "id": "_p2bvcte6xEq"
      },
      "source": [
        "# COMPLETAR"
      ],
      "execution_count": null,
      "outputs": []
    },
    {
      "cell_type": "markdown",
      "metadata": {
        "id": "1qRG5b3m6xEv"
      },
      "source": [
        "**Ejercicio 2:** crear un arreglo 1D de 20 ceros. Reemplazar los primeros 15 elementos por unos."
      ]
    },
    {
      "cell_type": "code",
      "metadata": {
        "id": "6xPwCrg26xEx"
      },
      "source": [
        "# COMPLETAR"
      ],
      "execution_count": null,
      "outputs": []
    },
    {
      "cell_type": "markdown",
      "metadata": {
        "id": "IwdggYiK6xE1"
      },
      "source": [
        "**Ejercicio 3:** crear un arreglo 1D de 50 ceros. Reemplazar los primeros 25 elementos por los números naturales del 0 al 24."
      ]
    },
    {
      "cell_type": "code",
      "metadata": {
        "id": "Sp5joIbM6xE3"
      },
      "source": [
        "# COMPLETAR"
      ],
      "execution_count": null,
      "outputs": []
    },
    {
      "cell_type": "markdown",
      "metadata": {
        "id": "Vx74LT026xE-"
      },
      "source": [
        "**Ejercicio 4:** crear un arreglo 2D de 3 filas y 3 columnas, lleno de ceros. Reemplazar los elemento de la segunda columna por los números 1, 2 y 3 respectivamente. Es decir, crear la siguiente matriz:\n",
        "\n",
        "```\n",
        "0 1 0 \n",
        "0 2 0\n",
        "0 3 0\n",
        "```"
      ]
    },
    {
      "cell_type": "code",
      "metadata": {
        "id": "ckTUAo6D6xE_"
      },
      "source": [
        "# COMPLETAR"
      ],
      "execution_count": null,
      "outputs": []
    },
    {
      "cell_type": "markdown",
      "metadata": {
        "id": "5K-FKtOA6xFE"
      },
      "source": [
        "**Ejercicio 5:** crear un arreglo 2D de 3 filas y 3 columnas, lleno de ceros. Reemplazar los elemento de la diagonal por unos. Es decir, crear la siguiente matriz:\n",
        "\n",
        "```\n",
        "1 0 0 \n",
        "0 1 0\n",
        "0 0 1\n",
        "```"
      ]
    },
    {
      "cell_type": "code",
      "metadata": {
        "id": "VrkZuD4S6xFH"
      },
      "source": [
        "# COMPLETAR"
      ],
      "execution_count": null,
      "outputs": []
    },
    {
      "cell_type": "markdown",
      "metadata": {
        "id": "Ap348o4h6xFN"
      },
      "source": [
        "**Ejercicio 6:** crear un arreglo 2D de 100 filas y 100 columnas, lleno de ceros. Reemplazar los elemento de la diagonal por unos. Es decir, crear la siguiente matriz:\n",
        "\n",
        "```\n",
        "1 0 0 ... 0 0 0 \n",
        "0 1 0 ... 0 0 0\n",
        "0 0 1 ... 0 0 0\n",
        "...  \n",
        "0 0 0 ... 1 0 0\n",
        "0 0 0 ... 0 1 0\n",
        "0 0 0 ... 0 0 1\n",
        "```"
      ]
    },
    {
      "cell_type": "code",
      "metadata": {
        "id": "UHkEt17i6xFP"
      },
      "source": [
        "# COMPLETAR"
      ],
      "execution_count": null,
      "outputs": []
    },
    {
      "cell_type": "markdown",
      "metadata": {
        "id": "T78FHjuU6xFV"
      },
      "source": [
        "**Extra:** ¿Qué tipo de dato está usando NumPy cuando crea los arreglos?¿Y si queremos cambiarle el tipo de dato, por ejemplo a `int`? Googlear \"numpy astype\". ¿Qué pasa si usamos `astype(bool)`?"
      ]
    },
    {
      "cell_type": "code",
      "source": [],
      "metadata": {
        "id": "niA0LU2jE-TQ"
      },
      "execution_count": null,
      "outputs": []
    }
  ]
}