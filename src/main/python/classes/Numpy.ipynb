{
  "nbformat": 4,
  "nbformat_minor": 0,
  "metadata": {
    "kernelspec": {
      "display_name": "Python 3",
      "language": "python",
      "name": "python3"
    },
    "language_info": {
      "codemirror_mode": {
        "name": "ipython",
        "version": 3
      },
      "file_extension": ".py",
      "mimetype": "text/x-python",
      "name": "python",
      "nbconvert_exporter": "python",
      "pygments_lexer": "ipython3",
      "version": "3.7.6"
    },
    "colab": {
      "name": "ClaseMS-Numpy_G3.ipynb",
      "provenance": [],
      "collapsed_sections": [],
      "include_colab_link": true
    }
  },
  "cells": [
    {
      "cell_type": "markdown",
      "metadata": {
        "id": "view-in-github",
        "colab_type": "text"
      },
      "source": [
        "<a href=\"https://colab.research.google.com/github/johnreyes96/modeling-and-simulation/blob/master/src/main/python/classes/Numpy.ipynb\" target=\"_parent\"><img src=\"https://colab.research.google.com/assets/colab-badge.svg\" alt=\"Open In Colab\"/></a>"
      ]
    },
    {
      "cell_type": "markdown",
      "metadata": {
        "id": "Ev_oEXjx6w9Q"
      },
      "source": [
        "# Programación y NumPy\n",
        "\n",
        "En la primera parte de este notebook seguiremos explorando algunas cuestiones de programación. En la segunda parte, empezaremos a trabajar con NumPy.\n",
        "\n",
        "## 1. Programación\n",
        "\n",
        "### 1.1 Operaciones Lógicas\n",
        "\n",
        "En primer lugar, la operación `not` es simplemente la negación del booleano."
      ]
    },
    {
      "cell_type": "code",
      "metadata": {
        "id": "kv2eNRpePBOy",
        "colab": {
          "base_uri": "https://localhost:8080/"
        },
        "outputId": "169e34e3-0dd1-4316-bdfc-8b2772fcf1b9"
      },
      "source": [
        "variable_1 = True\n",
        "print(not(variable_1))\n",
        "\n",
        "variable_2 = False\n",
        "print(not(variable_2))"
      ],
      "execution_count": 1,
      "outputs": [
        {
          "output_type": "stream",
          "name": "stdout",
          "text": [
            "False\n",
            "True\n"
          ]
        }
      ]
    },
    {
      "cell_type": "markdown",
      "source": [
        "La operación `and` nos devuelve `True` unicamente cuando ambas variables son verdaderas. Experimentar con la celda inferior y comprobar su tabla de verdad."
      ],
      "metadata": {
        "id": "0gAfsbNqiryS"
      }
    },
    {
      "cell_type": "code",
      "metadata": {
        "id": "mHPhaiiJPBOv",
        "colab": {
          "base_uri": "https://localhost:8080/"
        },
        "outputId": "ad888bf2-07a3-4342-979c-fbd3f6842db4"
      },
      "source": [
        "variable_1 = True\n",
        "variable_2 = True\n",
        "print(variable_1 and variable_2)"
      ],
      "execution_count": 2,
      "outputs": [
        {
          "output_type": "stream",
          "name": "stdout",
          "text": [
            "True\n"
          ]
        }
      ]
    },
    {
      "cell_type": "markdown",
      "metadata": {
        "id": "tIzs0GsO6w-k"
      },
      "source": [
        "**Ejercicio:** comprobar la tabla de verdad de la operación `or` jugando con la celda siguiente."
      ]
    },
    {
      "cell_type": "code",
      "metadata": {
        "id": "i9QxO0SgPBO3",
        "colab": {
          "base_uri": "https://localhost:8080/"
        },
        "outputId": "29b18e7c-42b5-4532-ffc2-c635020e8ab2"
      },
      "source": [
        "A = False\n",
        "C = False\n",
        "A_or_B = A or C\n",
        "print(A_or_B)"
      ],
      "execution_count": 3,
      "outputs": [
        {
          "output_type": "stream",
          "name": "stdout",
          "text": [
            "False\n"
          ]
        }
      ]
    },
    {
      "cell_type": "markdown",
      "metadata": {
        "id": "oa016g7sPBP2"
      },
      "source": [
        "### 1.2 Estructuras de control - Condicionales\n",
        "\n",
        "Los condicionales nos permiten ejecutar o no un bloque de codigo dependiendo de ciertas condiciones. En lenguaje coloquial, vendrían a ser del estilo de \"Si se cumple esta condición, hace A. Si no se cumple, hace B\", donde B puede ser, simplemente, no hacer nada. Veamos qué formas toman.\n",
        "\n",
        "### 1.2.1 If\n",
        "\n",
        "El condicional más simple es el `if`. Para mayor claridad escribiremos la condicion entre parentesis (), aunque esto no es necesario. Su estructura es \n",
        "\n",
        "``` python\n",
        "if condicion:\n",
        "    Si se cumple la condición, se ejecutan estas líneas de código\n",
        "```\n",
        "\n",
        "Veamos algunos ejemplos:"
      ]
    },
    {
      "cell_type": "code",
      "metadata": {
        "id": "TYisVuiEPBP4",
        "colab": {
          "base_uri": "https://localhost:8080/"
        },
        "outputId": "0a9fa93b-3690-4b55-f16f-0454ca3bae6d"
      },
      "source": [
        "valor = 15\n",
        "if (valor > 10):\n",
        "    print('El valor es mayor que 10')"
      ],
      "execution_count": 4,
      "outputs": [
        {
          "output_type": "stream",
          "name": "stdout",
          "text": [
            "El valor es mayor que 10\n"
          ]
        }
      ]
    },
    {
      "cell_type": "markdown",
      "metadata": {
        "id": "-hz-IXpJPBP6"
      },
      "source": [
        "Prestar atención a que la condición debe ser un booleano"
      ]
    },
    {
      "cell_type": "code",
      "metadata": {
        "id": "BCXXXwRMPBP7",
        "colab": {
          "base_uri": "https://localhost:8080/"
        },
        "outputId": "d50bf18e-eb09-4caf-a8ef-34508bfe2b74"
      },
      "source": [
        "print(valor > 10)\n",
        "print(type(valor > 10))"
      ],
      "execution_count": 5,
      "outputs": [
        {
          "output_type": "stream",
          "name": "stdout",
          "text": [
            "True\n",
            "<class 'bool'>\n"
          ]
        }
      ]
    },
    {
      "cell_type": "markdown",
      "metadata": {
        "id": "b8smKAgj6w_Y"
      },
      "source": [
        "**Nota:** para comparar variables, tenemos las operaciones menor `<`, mayor `>`, igualdad `==`, menor o igual  `<=`, y mayor o igual `>=`."
      ]
    },
    {
      "cell_type": "code",
      "metadata": {
        "id": "ZxEo7yDf6w_b",
        "colab": {
          "base_uri": "https://localhost:8080/"
        },
        "outputId": "c1b6e226-a957-4fc3-a036-522aca85ef2d"
      },
      "source": [
        "print(3 == 3)\n",
        "print(3 <= 4)\n",
        "print(3 >= 5)"
      ],
      "execution_count": 6,
      "outputs": [
        {
          "output_type": "stream",
          "name": "stdout",
          "text": [
            "True\n",
            "True\n",
            "False\n"
          ]
        }
      ]
    },
    {
      "cell_type": "markdown",
      "metadata": {
        "id": "zaIO1UwlPBP_"
      },
      "source": [
        "### 1.2.2 If, Else\n",
        "\n",
        "A la estrucutra con `if` se le puede agregar otro bloque de codigo que se ejecute si la condición exigida NO se cumple. Esto se logra mediante la expresión `else`.\n",
        "\n",
        "``` python\n",
        "if condicion:\n",
        "    Si se cumple la condición, se ejecutan estas líneas de código\n",
        "else:\n",
        "    Si NO se cumple la condición, se ejecutan estas líneas de código\n",
        "```"
      ]
    },
    {
      "cell_type": "code",
      "metadata": {
        "id": "Hf8xuG6iPBP_",
        "colab": {
          "base_uri": "https://localhost:8080/"
        },
        "outputId": "34be5355-e650-4950-887d-7bd9acf05774"
      },
      "source": [
        "nombre = 'Pedro'\n",
        "\n",
        "if (nombre == 'Juan'):\n",
        "    print('Esta persona se llama Juan')\n",
        "else:\n",
        "    print('Esta persona NO se llama Juan')"
      ],
      "execution_count": 7,
      "outputs": [
        {
          "output_type": "stream",
          "name": "stdout",
          "text": [
            "Esta persona NO se llama Juan\n"
          ]
        }
      ]
    },
    {
      "cell_type": "markdown",
      "metadata": {
        "id": "R5prOWCT6w_3"
      },
      "source": [
        "En la condición - lo que está entre paréntesis - es un booleano."
      ]
    },
    {
      "cell_type": "code",
      "metadata": {
        "id": "GVfCLIQyPBQB",
        "colab": {
          "base_uri": "https://localhost:8080/"
        },
        "outputId": "3924085b-bbfa-49a3-f692-2ef3eadf4e29"
      },
      "source": [
        "'Juan'=='Pedro'"
      ],
      "execution_count": 8,
      "outputs": [
        {
          "output_type": "execute_result",
          "data": {
            "text/plain": [
              "False"
            ]
          },
          "metadata": {},
          "execution_count": 8
        }
      ]
    },
    {
      "cell_type": "markdown",
      "metadata": {
        "id": "1AJNWoqhPBQJ"
      },
      "source": [
        "### 1.2.3 If, Elif, Else\n",
        "A esta estructura se le pueden sumar tantas condiciones encadenadas como uno desee, mediante la expresión `elif`. El orden en que se van chequeando las condiciones depende de su posición, priemero se chequea el `if`, luego el primer `elif`, luego el segundo, y así sucesivamente.\n",
        "\n",
        "``` python\n",
        "if condicion_1:\n",
        "    Si se cumple la condicion_1 , se ejecutan estas líneas de código\n",
        "elif condicion_2:\n",
        "    Si se cumple la condicion_2 , se ejecutan estas líneas de código\n",
        "elif condicion_3:\n",
        "    Si se cumple la condicion_3 , se ejecutan estas líneas de código\n",
        "else:\n",
        "    Si NO se cumple ninguna de las condiciones anteriores, se ejecutan líneas celdas de código\n",
        "```\n"
      ]
    },
    {
      "cell_type": "code",
      "metadata": {
        "id": "psA9onaFPBQL",
        "colab": {
          "base_uri": "https://localhost:8080/"
        },
        "outputId": "98d35255-2fa9-4b74-f837-fa295496e728"
      },
      "source": [
        "edad = 18\n",
        "\n",
        "if (edad < 18):\n",
        "    print('Esta persona tiene menos de 18 años')\n",
        "elif (edad > 18):\n",
        "    print('Esta persona tiene mas de 18 años')\n",
        "else:\n",
        "    print('Esta persona tiene justo 18 años')"
      ],
      "execution_count": 9,
      "outputs": [
        {
          "output_type": "stream",
          "name": "stdout",
          "text": [
            "Esta persona tiene justo 18 años\n"
          ]
        }
      ]
    },
    {
      "cell_type": "markdown",
      "metadata": {
        "id": "ZHXdIEkSW6wa"
      },
      "source": [
        "**Ejercicio**: Escriba un bloque de código que, dado un número, imprima la frase \"El numero es par\" si el número es par o la frase \"El numero es impar\" si no lo es."
      ]
    },
    {
      "cell_type": "code",
      "metadata": {
        "id": "7uWbEw9BYAL4",
        "colab": {
          "base_uri": "https://localhost:8080/"
        },
        "outputId": "7c90d3bd-7720-4482-dae6-eec1c703f92b"
      },
      "source": [
        "numero = 18\n",
        "# COMPLETAR\n",
        "if(numero % 2 == 0):\n",
        "  print(\"El numero es par\")\n",
        "else:\n",
        "  print(\"El numero es impar\")\n"
      ],
      "execution_count": 10,
      "outputs": [
        {
          "output_type": "stream",
          "name": "stdout",
          "text": [
            "El numero es par\n"
          ]
        }
      ]
    },
    {
      "cell_type": "markdown",
      "metadata": {
        "id": "qecxWClXPBQM"
      },
      "source": [
        "### 1.3 Combinando estructuras de código\n",
        "\n",
        "Las estructuras de loops y condicionales se pueden combinar para generar comportamientos más complejos. Supongamos que tenemos una lista de edades y nos queremos quedar con aquellas que sean mayores que 18 años. Podemos hacer lo siguiente:"
      ]
    },
    {
      "cell_type": "code",
      "metadata": {
        "id": "69DHgsOjPBQN",
        "colab": {
          "base_uri": "https://localhost:8080/"
        },
        "outputId": "bfd9cb24-a3d7-4aea-a2ea-8a6a584ef6d6"
      },
      "source": [
        "lista_de_edades = [4,20,15,29,11,42,10,18]\n",
        "lista_mayores = []\n",
        "\n",
        "for edad in lista_de_edades:\n",
        "    if (edad > 18):\n",
        "        lista_mayores.append(edad)\n",
        "\n",
        "print(lista_mayores)"
      ],
      "execution_count": 11,
      "outputs": [
        {
          "output_type": "stream",
          "name": "stdout",
          "text": [
            "[20, 29, 42]\n"
          ]
        }
      ]
    },
    {
      "cell_type": "markdown",
      "metadata": {
        "id": "IeZnpQLV6xAv"
      },
      "source": [
        "### 1.4 Operaciones lógicas y estructuras de control\n",
        "\n",
        "A veces, queremos ejecutar una línea de código si se cumple más de una condición. Esto se puede lograr fácilmente usando las operaciones lógicas. Supongamos que tenemos una lista de números, y queremos seleccionar aquellos que cumplan ciertas propiedades. Por ejemplo, que son mayores o iguales que 5 y menores que 20. Podríamos hacer lo siguiente:"
      ]
    },
    {
      "cell_type": "code",
      "metadata": {
        "id": "sC-PhM3o6xA0",
        "colab": {
          "base_uri": "https://localhost:8080/"
        },
        "outputId": "2f2de28b-0381-4de6-85b9-e7d55b72dca3"
      },
      "source": [
        "numeros = [0,3,1,4,6,17,3,89,5,6,4,13,25,4,3,23,1,15,2]\n",
        "seleccionados = []\n",
        "for numero in numeros:\n",
        "    if numero >= 5:\n",
        "        if numero < 20:\n",
        "            seleccionados.append(numero)\n",
        "print(seleccionados)"
      ],
      "execution_count": 12,
      "outputs": [
        {
          "output_type": "stream",
          "name": "stdout",
          "text": [
            "[6, 17, 5, 6, 13, 15]\n"
          ]
        }
      ]
    },
    {
      "cell_type": "markdown",
      "metadata": {
        "id": "Tc_42Pgi6xA8"
      },
      "source": [
        "Notar que los números seleccionados cumplen los requisitos que pedimos. Pero también podríamos hacerlo así:"
      ]
    },
    {
      "cell_type": "code",
      "metadata": {
        "id": "GgeeSiSK6xBA",
        "colab": {
          "base_uri": "https://localhost:8080/"
        },
        "outputId": "b0c71c02-a5bb-49b2-9231-1e65bfe36f9b"
      },
      "source": [
        "numeros = [0,3,1,4,6,17,3,89,5,6,4,13,25,4,3,23,1,15,2]\n",
        "seleccionados = []\n",
        "for numero in numeros:\n",
        "    if numero >= 5 and numero < 20:\n",
        "        seleccionados.append(numero)\n",
        "print(seleccionados)"
      ],
      "execution_count": 13,
      "outputs": [
        {
          "output_type": "stream",
          "name": "stdout",
          "text": [
            "[6, 17, 5, 6, 13, 15]\n"
          ]
        }
      ]
    },
    {
      "cell_type": "markdown",
      "metadata": {
        "id": "bp86CHMb6xBI"
      },
      "source": [
        "El resultado es el mismo. Si bien esta forma es más compacta, no necesariamente implica que sea mejor. Uno/a elije hacerlo de una u otra forma según lo que le parezca más claro; si ambas condiciones juntas son difíciles de leer, tal vez puedes usar la primera forma.\n",
        "\n",
        "**Ejercicio**: Modifica el ejemplo anterior para que seleccione aquellos números **mayores** que 5 **o** impares."
      ]
    },
    {
      "cell_type": "code",
      "metadata": {
        "colab": {
          "base_uri": "https://localhost:8080/"
        },
        "outputId": "b44bbe7d-3f58-4e47-f415-7ea2d2c168b7",
        "id": "xZcn11amdEVs"
      },
      "source": [
        "numeros = [0,3,1,4,6,17,3,89,5,6,4,13,25,4,3,23,1,15,2]\n",
        "seleccionados = []\n",
        "for numero in numeros:\n",
        "    if numero > 5 or numero % 2 == 1:\n",
        "        seleccionados.append(numero)\n",
        "print(seleccionados)"
      ],
      "execution_count": 14,
      "outputs": [
        {
          "output_type": "stream",
          "name": "stdout",
          "text": [
            "[3, 1, 6, 17, 3, 89, 5, 6, 13, 25, 3, 23, 1, 15]\n"
          ]
        }
      ]
    },
    {
      "cell_type": "markdown",
      "metadata": {
        "id": "3t8rRW2j6xBU"
      },
      "source": [
        "### Repaso\n",
        "\n",
        "**Ejercicio 1**: ¿Qué pasa si sumás, restás, multiplicás o divides booleanos?"
      ]
    },
    {
      "cell_type": "code",
      "metadata": {
        "id": "d1FkUOkT6xBW",
        "colab": {
          "base_uri": "https://localhost:8080/"
        },
        "outputId": "eafb8cac-5145-4509-ad78-643434b43e90"
      },
      "source": [
        "print(True + True + True)\n",
        "print(True * False)\n",
        "# COMPLETAR\n",
        "print(True - False)\n",
        "print(True / True)"
      ],
      "execution_count": 22,
      "outputs": [
        {
          "output_type": "stream",
          "name": "stdout",
          "text": [
            "3\n",
            "0\n",
            "1\n",
            "1.0\n"
          ]
        }
      ]
    },
    {
      "cell_type": "markdown",
      "metadata": {
        "id": "Rn69wJ-y6xBg"
      },
      "source": [
        "**Ejercicio 2**: Hacer una estructur `if/else` que compare dos variables numéricas `A` y `B` y que decida cuál es mayor e imprima en pantalla \"A es mayor que B\" o \"B es mayor que A\" . "
      ]
    },
    {
      "cell_type": "code",
      "metadata": {
        "id": "NUxrQf9A6xBs",
        "outputId": "cdfaf512-05ff-46e6-d84e-7f175ac30dff",
        "colab": {
          "base_uri": "https://localhost:8080/"
        }
      },
      "source": [
        "A = 3\n",
        "B = 4\n",
        "# COMPLETAR\n",
        "if A > B:\n",
        "  print(\"A es mayor que B\")\n",
        "elif A < B:\n",
        "  print(\"B es mayor que A\")"
      ],
      "execution_count": 26,
      "outputs": [
        {
          "output_type": "stream",
          "name": "stdout",
          "text": [
            "B es mayor que A\n"
          ]
        }
      ]
    },
    {
      "cell_type": "markdown",
      "metadata": {
        "id": "LcNOZBVO6xBz"
      },
      "source": [
        "**Ejercicio 3**: Dada la siguiente lista de numeros:"
      ]
    },
    {
      "cell_type": "code",
      "metadata": {
        "id": "nixTh2uwPBQQ"
      },
      "source": [
        "numeros = [4,5,1,3,5,7,8,1,3,4,1,7,8,1,3,4,5,2,1,2,4,5]"
      ],
      "execution_count": 27,
      "outputs": []
    },
    {
      "cell_type": "markdown",
      "metadata": {
        "id": "XLWP4dKfPBQS"
      },
      "source": [
        "Escribir una rutina que calcule la suma de los números **pares menores que 5** en esta lista. **Para tener en cuenta:** \n",
        "* Hay muchas formas de hacerlo, si piensa en más de una, mejor.\n",
        "* El resultado es 20. \n",
        "* Recuerda que puede inicializar una variable en cero, y luego ir modificándola en un loop."
      ]
    },
    {
      "cell_type": "code",
      "metadata": {
        "id": "Rl2hqB-e6xB_",
        "outputId": "b41b48b0-ab85-44c5-d1f7-6c4c597f27bf",
        "colab": {
          "base_uri": "https://localhost:8080/"
        }
      },
      "source": [
        "# COMPLETAR\n",
        "amount = 0\n",
        "for number in numeros:\n",
        "  if number < 5 and number % 2 == 0:\n",
        "    amount = amount + number\n",
        "\n",
        "print(amount)"
      ],
      "execution_count": 29,
      "outputs": [
        {
          "output_type": "stream",
          "name": "stdout",
          "text": [
            "20\n"
          ]
        }
      ]
    },
    {
      "cell_type": "markdown",
      "metadata": {
        "id": "EOZ7KmA46xCG"
      },
      "source": [
        "**Ejercicio 4**: Dada la siguiente lista de numeros:"
      ]
    },
    {
      "cell_type": "code",
      "metadata": {
        "id": "aaYZXXHi6xCI",
        "outputId": "fb697276-41e7-47ac-e776-02dd2a422ccd",
        "colab": {
          "base_uri": "https://localhost:8080/"
        }
      },
      "source": [
        "numeros_en_texto = ['2', '3', '2', '3', '2', '2', '2', '2', '3', '2', '3', '1', '3', '1', '2', '2', '2', '2', '2', '2', '2', '2', '1', '2', '3', '2', '2', '2', '2', '1', '2', '3', '2', '2', '3', '2', '3', '3', '2', '2', '1', '3', '3', '2', '3', '2', '2', '1', '2', '1', '1', '2', '2', '3', '2', '2', '2', '3', '2', '2', '2', '1', '2', '2', '3', '2', '2', '2', '2', '1', '2', '2', '2', '2', '3', '1', '2', '3', '3', '2', '3', '2', '2', '3', '3', '1', '1', '3', '2', '1', '2', '2', '2', '1', '1', '2', '2', '2', '2', '2', '2', '2', '3', '3', '1', '3', '3', '3', '2', '2', '2', '2', '2', '2', '2', '3', '3', '2', '2', '3', '2', '2', '2', '2', '2', '3', '3', '2', '2', '1', '3', '2', '2', '2', '3', '2', '3', '1', '3', '3', '2', '3', '3', '2', '2', '2', '2', '2', '2', '1', '2', '2', '1', '2', '3', '2', '1', '3', '1', '2', '3', '3', '3', '2', '3', '1', '3', '2', '3', '1', '2', '2', '2', '3', '3', '2', '2', '2', '2', '2', '3', '1', '2', '3', '3', '2', '2', '3', '2', '2', '2', '3', '2', '2', '2', '2', '1', '2', '3', '1', '3', '2', '2', '3', '3', '3', '2', '2', '1', '1']\n",
        "print(numeros_en_texto)\n",
        "\n"
      ],
      "execution_count": 19,
      "outputs": [
        {
          "output_type": "stream",
          "name": "stdout",
          "text": [
            "['2', '3', '2', '3', '2', '2', '2', '2', '3', '2', '3', '1', '3', '1', '2', '2', '2', '2', '2', '2', '2', '2', '1', '2', '3', '2', '2', '2', '2', '1', '2', '3', '2', '2', '3', '2', '3', '3', '2', '2', '1', '3', '3', '2', '3', '2', '2', '1', '2', '1', '1', '2', '2', '3', '2', '2', '2', '3', '2', '2', '2', '1', '2', '2', '3', '2', '2', '2', '2', '1', '2', '2', '2', '2', '3', '1', '2', '3', '3', '2', '3', '2', '2', '3', '3', '1', '1', '3', '2', '1', '2', '2', '2', '1', '1', '2', '2', '2', '2', '2', '2', '2', '3', '3', '1', '3', '3', '3', '2', '2', '2', '2', '2', '2', '2', '3', '3', '2', '2', '3', '2', '2', '2', '2', '2', '3', '3', '2', '2', '1', '3', '2', '2', '2', '3', '2', '3', '1', '3', '3', '2', '3', '3', '2', '2', '2', '2', '2', '2', '1', '2', '2', '1', '2', '3', '2', '1', '3', '1', '2', '3', '3', '3', '2', '3', '1', '3', '2', '3', '1', '2', '2', '2', '3', '3', '2', '2', '2', '2', '2', '3', '1', '2', '3', '3', '2', '2', '3', '2', '2', '2', '3', '2', '2', '2', '2', '1', '2', '3', '1', '3', '2', '2', '3', '3', '3', '2', '2', '1', '1']\n"
          ]
        }
      ]
    },
    {
      "cell_type": "markdown",
      "metadata": {
        "id": "7csAGf6h6xCQ"
      },
      "source": [
        "Calcule la suma de los unos (1) y los tres (3) en esta lista. Nuevamente, hay muchas formas de hacerlo. **Para tener en cuenta:** \n",
        "* El resultado es 210.\n"
      ]
    },
    {
      "cell_type": "code",
      "metadata": {
        "id": "vOghc-f86xCT",
        "outputId": "6b2deacc-5968-47bd-e24e-c27c0528063d",
        "colab": {
          "base_uri": "https://localhost:8080/"
        }
      },
      "source": [
        "# COMPLETAR\n",
        "amount = 0\n",
        "for number in numeros_en_texto:\n",
        "  if number == '1' or number == '3':\n",
        "    amount = amount + int(number)\n",
        "\n",
        "print(amount)"
      ],
      "execution_count": 32,
      "outputs": [
        {
          "output_type": "stream",
          "name": "stdout",
          "text": [
            "210\n"
          ]
        }
      ]
    },
    {
      "cell_type": "markdown",
      "metadata": {
        "id": "TTDIO6cP6xCc"
      },
      "source": [
        "## 2. Numpy\n",
        "\n",
        "Es una librería de Python especializada en el cálculo numérico y el análisis de datos, especialmente para un gran volumen de datos.\n",
        "\n",
        "Incorpora una nueva clase de objetos llamados arrays que permite representar colecciones de datos de un mismo tipo en varias dimensiones, y funciones muy eficientes para su manipulación.\n",
        "\n",
        "La ventaja de Numpy frente a las listas predefinidas en Python es que el procesamiento de los arrays se realiza mucho más rápido (hasta 50 veces más) que las listas, lo cual la hace ideal para el procesamiento de vectores y matrices de grandes dimensiones."
      ]
    },
    {
      "cell_type": "code",
      "metadata": {
        "id": "rPcaeHHt6xCe"
      },
      "source": [
        "import numpy as np"
      ],
      "execution_count": 33,
      "outputs": []
    },
    {
      "cell_type": "markdown",
      "metadata": {
        "id": "W6b95ub26xCn"
      },
      "source": [
        "Ahora nuestro ambiente de trabajo sabe que si ponemos algo del estilo `np.` significa que esa funcionalidad la debe buscar en NumPy.\n",
        "\n",
        "El principal tipo de dato sobre el que trabaja NumPy son los arreglos o arrays. Los arreglos son parecidos a listas y, de hecho, se pueden crear a partir de ellas."
      ]
    },
    {
      "cell_type": "code",
      "metadata": {
        "id": "-NYi46pS6xCr",
        "colab": {
          "base_uri": "https://localhost:8080/"
        },
        "outputId": "36cb8e5d-0166-4d5f-b587-7be1fa140465"
      },
      "source": [
        "lista = [0,1,2,3,4,5]\n",
        "arreglo = np.array(lista)\n",
        "print(lista)\n",
        "print(arreglo)"
      ],
      "execution_count": 34,
      "outputs": [
        {
          "output_type": "stream",
          "name": "stdout",
          "text": [
            "[0, 1, 2, 3, 4, 5]\n",
            "[0 1 2 3 4 5]\n"
          ]
        }
      ]
    },
    {
      "cell_type": "markdown",
      "metadata": {
        "id": "3GTbMtsp6xCy"
      },
      "source": [
        "Pero son más que una lista. Algunas cosas que no se podían hacer con las listas ahora sí se pueden con arreglos. Recordemos que sumarle un número a toda la lista no estaba permitido"
      ]
    },
    {
      "cell_type": "code",
      "metadata": {
        "id": "oBsq7xKM6xC0",
        "colab": {
          "base_uri": "https://localhost:8080/",
          "height": 165
        },
        "outputId": "11fbbe08-d2a4-42a2-e638-38a013ac59cb"
      },
      "source": [
        "lista + 1"
      ],
      "execution_count": 35,
      "outputs": [
        {
          "output_type": "error",
          "ename": "TypeError",
          "evalue": "ignored",
          "traceback": [
            "\u001b[0;31m---------------------------------------------------------------------------\u001b[0m",
            "\u001b[0;31mTypeError\u001b[0m                                 Traceback (most recent call last)",
            "\u001b[0;32m<ipython-input-35-0d87e2469f45>\u001b[0m in \u001b[0;36m<module>\u001b[0;34m\u001b[0m\n\u001b[0;32m----> 1\u001b[0;31m \u001b[0mlista\u001b[0m \u001b[0;34m+\u001b[0m \u001b[0;36m1\u001b[0m\u001b[0;34m\u001b[0m\u001b[0;34m\u001b[0m\u001b[0m\n\u001b[0m",
            "\u001b[0;31mTypeError\u001b[0m: can only concatenate list (not \"int\") to list"
          ]
        }
      ]
    },
    {
      "cell_type": "markdown",
      "metadata": {
        "id": "XM4rla9L6xC7"
      },
      "source": [
        "¡Pero ahora con los arreglos sí!"
      ]
    },
    {
      "cell_type": "code",
      "metadata": {
        "id": "QxQS9qSw6xC9"
      },
      "source": [
        "arreglo = arreglo + 1"
      ],
      "execution_count": 36,
      "outputs": []
    },
    {
      "cell_type": "markdown",
      "metadata": {
        "id": "xgo-b6nG6xDE"
      },
      "source": [
        "Esto simplifica mucho hacer cuéntas. Pero no es sólo sumar, también muchas otras operaciones:"
      ]
    },
    {
      "cell_type": "code",
      "metadata": {
        "id": "GDFrflQS6xDG",
        "colab": {
          "base_uri": "https://localhost:8080/"
        },
        "outputId": "66627ad4-05fe-4132-8bd7-e02073802d43"
      },
      "source": [
        "print(arreglo - 5)\n",
        "print(arreglo - 2)\n",
        "print(arreglo*4)\n",
        "print(arreglo**2)"
      ],
      "execution_count": 37,
      "outputs": [
        {
          "output_type": "stream",
          "name": "stdout",
          "text": [
            "[-4 -3 -2 -1  0  1]\n",
            "[-1  0  1  2  3  4]\n",
            "[ 4  8 12 16 20 24]\n",
            "[ 1  4  9 16 25 36]\n"
          ]
        }
      ]
    },
    {
      "cell_type": "markdown",
      "metadata": {
        "id": "OG5vEKqa6xDO"
      },
      "source": [
        "Comprobar que, salvo la multiplicación, ninguno estaba permitido en listas. ¿Qué hace la multiplicación en el caso de una lista?"
      ]
    },
    {
      "cell_type": "markdown",
      "metadata": {
        "id": "8OLptg2q6xDP"
      },
      "source": [
        "### 2.1 Creación de arreglos"
      ]
    },
    {
      "cell_type": "markdown",
      "metadata": {
        "id": "5Besuznw6xDR"
      },
      "source": [
        "Si bien podemos crear arreglos a partir de listas, NumPy viene con muchas funciones para hacerlo. Veamos algunas.\n",
        "\n",
        "Una muy utilizada es `np.arange()`."
      ]
    },
    {
      "cell_type": "code",
      "source": [
        "np.arange(0, 5, 0.5, dtype=float)"
      ],
      "metadata": {
        "colab": {
          "base_uri": "https://localhost:8080/"
        },
        "id": "oEJ3jheFiW-H",
        "outputId": "2843fbda-0e17-4c3e-c73c-ce0a85d52a08"
      },
      "execution_count": 38,
      "outputs": [
        {
          "output_type": "execute_result",
          "data": {
            "text/plain": [
              "array([0. , 0.5, 1. , 1.5, 2. , 2.5, 3. , 3.5, 4. , 4.5])"
            ]
          },
          "metadata": {},
          "execution_count": 38
        }
      ]
    },
    {
      "cell_type": "code",
      "source": [
        "np.arange(0, 5, 0.5, dtype=int)"
      ],
      "metadata": {
        "colab": {
          "base_uri": "https://localhost:8080/"
        },
        "id": "Ho6jEj2lieoI",
        "outputId": "30723922-d7d7-483f-aa4e-0bea890026f6"
      },
      "execution_count": 39,
      "outputs": [
        {
          "output_type": "execute_result",
          "data": {
            "text/plain": [
              "array([0, 0, 0, 0, 0, 0, 0, 0, 0, 0])"
            ]
          },
          "metadata": {},
          "execution_count": 39
        }
      ]
    },
    {
      "cell_type": "code",
      "metadata": {
        "id": "ffVupHId6xDS",
        "colab": {
          "base_uri": "https://localhost:8080/"
        },
        "outputId": "bb3970be-0ec2-4416-aaca-b023a80d668b"
      },
      "source": [
        "arreglo = np.arange(3,20,2)\n",
        "print(arreglo)"
      ],
      "execution_count": 40,
      "outputs": [
        {
          "output_type": "stream",
          "name": "stdout",
          "text": [
            "[ 3  5  7  9 11 13 15 17 19]\n"
          ]
        }
      ]
    },
    {
      "cell_type": "markdown",
      "source": [
        "**Ejercicio:** Buscar y crear ejemplos con las siguientes funciones:\n",
        "* `np.linspace`. Presta particular atención a cómo se diferencia de `np.arange`.\n",
        "* `np.zeros` y `np.ones`"
      ],
      "metadata": {
        "id": "W_0Og9rF0uK6"
      }
    },
    {
      "cell_type": "code",
      "metadata": {
        "colab": {
          "base_uri": "https://localhost:8080/"
        },
        "outputId": "2dc8f772-c573-497f-b76d-1a4817d11821",
        "id": "okwglATikCxH"
      },
      "source": [
        "arreglo = np.linspace(1,19,5)\n",
        "print(arreglo)\n",
        "\n",
        "arreglo = np.arange(1,19,4)\n",
        "print(arreglo)"
      ],
      "execution_count": 41,
      "outputs": [
        {
          "output_type": "stream",
          "name": "stdout",
          "text": [
            "[ 1.   5.5 10.  14.5 19. ]\n",
            "[ 1  5  9 13 17]\n"
          ]
        }
      ]
    },
    {
      "cell_type": "markdown",
      "metadata": {
        "id": "GrbJZzEA6xDZ"
      },
      "source": [
        "\n",
        "### 2.2 Shape de los arreglos\n",
        "\n",
        "Los arreglos tienen muchos más propiedades que las listas. En particular, pueden tener más de un *eje* o dimensión. Veamos a qué nos referimos:"
      ]
    },
    {
      "cell_type": "code",
      "metadata": {
        "id": "2gj5gtxN6xDb",
        "colab": {
          "base_uri": "https://localhost:8080/"
        },
        "outputId": "8d68720a-0699-46a9-9309-27173cef27a0"
      },
      "source": [
        "arreglo_2d = np.array([[1,2,3,4],[5,6,7,8]])\n",
        "print(arreglo_2d)"
      ],
      "execution_count": 42,
      "outputs": [
        {
          "output_type": "stream",
          "name": "stdout",
          "text": [
            "[[1 2 3 4]\n",
            " [5 6 7 8]]\n"
          ]
        }
      ]
    },
    {
      "cell_type": "markdown",
      "metadata": {
        "id": "hd1tzKoY6xDi"
      },
      "source": [
        "Notar que tiene dos filas y cuatro columnas. Podemos descubrir esto sin imprimirlo en pantalla, sino usando la propiedad `.shape` del arreglo."
      ]
    },
    {
      "cell_type": "code",
      "metadata": {
        "id": "39jXsa356xDk",
        "colab": {
          "base_uri": "https://localhost:8080/"
        },
        "outputId": "5cd43668-9486-4393-e08e-e43d7b8b1b88"
      },
      "source": [
        "print(arreglo_2d.shape)"
      ],
      "execution_count": 43,
      "outputs": [
        {
          "output_type": "stream",
          "name": "stdout",
          "text": [
            "(2, 4)\n"
          ]
        }
      ]
    },
    {
      "cell_type": "markdown",
      "metadata": {
        "id": "F0gQzLOW6xDp"
      },
      "source": [
        "Primero aparece el número de filas y luego el de columnas. ¿Qué estructura de dato es `(2, 4)`? Otro ejemplo:"
      ]
    },
    {
      "cell_type": "code",
      "metadata": {
        "id": "H-w91uc66xDr",
        "colab": {
          "base_uri": "https://localhost:8080/"
        },
        "outputId": "44916de3-ef9c-497d-8867-8030863d8799"
      },
      "source": [
        "arreglo_2d = np.array([[1,2],[3,4],[5,6],[7,8]])\n",
        "print(arreglo_2d)\n",
        "print(arreglo_2d.shape)"
      ],
      "execution_count": 44,
      "outputs": [
        {
          "output_type": "stream",
          "name": "stdout",
          "text": [
            "[[1 2]\n",
            " [3 4]\n",
            " [5 6]\n",
            " [7 8]]\n",
            "(4, 2)\n"
          ]
        }
      ]
    },
    {
      "cell_type": "markdown",
      "metadata": {
        "id": "NI-72zHF6xDx"
      },
      "source": [
        "Si queremos saber cuántos elementos tiene, podemos usar `.size`"
      ]
    },
    {
      "cell_type": "code",
      "metadata": {
        "id": "FAM3A5nN6xD1",
        "colab": {
          "base_uri": "https://localhost:8080/"
        },
        "outputId": "c0423780-c797-451e-bd3d-0f6fe85400ee"
      },
      "source": [
        "print(arreglo_2d.size)"
      ],
      "execution_count": 45,
      "outputs": [
        {
          "output_type": "stream",
          "name": "stdout",
          "text": [
            "8\n"
          ]
        }
      ]
    },
    {
      "cell_type": "markdown",
      "metadata": {
        "id": "AHudbTb_6xD7"
      },
      "source": [
        "### 2.3 Funciones que operan sobre arreglos\n",
        "\n",
        "Los arreglos de NumPy incorporan un montón de funciones que operan sobre los arreglos. Veamos algunos ejemplos."
      ]
    },
    {
      "cell_type": "code",
      "metadata": {
        "id": "rsZiMiFa6xD9",
        "colab": {
          "base_uri": "https://localhost:8080/"
        },
        "outputId": "3c3c91bd-98be-4294-9d04-c51957037349"
      },
      "source": [
        "un_arreglo = np.array([-100,2,3,17,25,1,95])\n",
        "print(un_arreglo.min())\n",
        "print(un_arreglo.max())"
      ],
      "execution_count": 46,
      "outputs": [
        {
          "output_type": "stream",
          "name": "stdout",
          "text": [
            "-100\n",
            "95\n"
          ]
        }
      ]
    },
    {
      "cell_type": "markdown",
      "metadata": {
        "id": "E6xoQQOF6xED"
      },
      "source": [
        "En el caso 2D, podemos pedir que estas funciones operen sobre todo el arreglo, o por ejes.\n",
        "\n"
      ]
    },
    {
      "cell_type": "code",
      "metadata": {
        "id": "V-MBXYIo6xEH",
        "colab": {
          "base_uri": "https://localhost:8080/"
        },
        "outputId": "6697a0dc-1212-483e-f719-c0f362f34830"
      },
      "source": [
        "arreglo_2d = np.arange(9)\n",
        "np.random.shuffle(arreglo_2d)\n",
        "arreglo_2d = arreglo_2d.reshape((3,3))\n",
        "print(arreglo_2d)"
      ],
      "execution_count": 47,
      "outputs": [
        {
          "output_type": "stream",
          "name": "stdout",
          "text": [
            "[[0 3 4]\n",
            " [8 5 1]\n",
            " [7 2 6]]\n"
          ]
        }
      ]
    },
    {
      "cell_type": "code",
      "source": [
        "arreglo_2d = np.arange(9)\n",
        "print(arreglo_2d)"
      ],
      "metadata": {
        "colab": {
          "base_uri": "https://localhost:8080/"
        },
        "id": "1WkxisvKmZZ1",
        "outputId": "a952c3ef-fb36-427f-867a-f06c5c577ad7"
      },
      "execution_count": 48,
      "outputs": [
        {
          "output_type": "stream",
          "name": "stdout",
          "text": [
            "[0 1 2 3 4 5 6 7 8]\n"
          ]
        }
      ]
    },
    {
      "cell_type": "markdown",
      "metadata": {
        "id": "ieZnEuby6xEN"
      },
      "source": [
        "Trata de entender la diferencia entre las siguientes instrucciones:"
      ]
    },
    {
      "cell_type": "code",
      "metadata": {
        "id": "sUB0kNoj6xET",
        "colab": {
          "base_uri": "https://localhost:8080/"
        },
        "outputId": "f9f1c71c-b2c2-4f1f-d46f-b5860ea02b4c"
      },
      "source": [
        "arreglo_2d = np.arange(9)\n",
        "arreglo_2d = arreglo_2d.reshape((3,3))\n",
        "print(arreglo_2d)\n",
        "print(arreglo_2d.max(axis = 0))\n",
        "print(arreglo_2d.min(axis = 1))"
      ],
      "execution_count": 49,
      "outputs": [
        {
          "output_type": "stream",
          "name": "stdout",
          "text": [
            "[[0 1 2]\n",
            " [3 4 5]\n",
            " [6 7 8]]\n",
            "[6 7 8]\n",
            "[0 3 6]\n"
          ]
        }
      ]
    },
    {
      "cell_type": "markdown",
      "metadata": {
        "id": "WtKLIys36xEY"
      },
      "source": [
        "* No dijimos nada sobre indexado ni slicing. Esto se debe a que, para arreglos 1D, es similar que para la listas. Para arreglos 2D, es apenas más complicado. Para estudiarlo, jugar con la siguiente celda:"
      ]
    },
    {
      "cell_type": "code",
      "metadata": {
        "id": "CNAbEbBw6xEa",
        "colab": {
          "base_uri": "https://localhost:8080/"
        },
        "outputId": "a57e8e1e-9a96-46eb-9030-54ca6e2b8677"
      },
      "source": [
        "arreglo_2d = np.arange(9).reshape(3,3)\n",
        "print(arreglo_2d)\n",
        "print(arreglo_2d[2,:])"
      ],
      "execution_count": 50,
      "outputs": [
        {
          "output_type": "stream",
          "name": "stdout",
          "text": [
            "[[0 1 2]\n",
            " [3 4 5]\n",
            " [6 7 8]]\n",
            "[6 7 8]\n"
          ]
        }
      ]
    },
    {
      "cell_type": "markdown",
      "metadata": {
        "id": "svHQKfw_6xEg"
      },
      "source": [
        "* Podemos usar `arreglo.max()` o `np.max(arreglo)`. Esto no es válido solamente para la función `max()`, sino también para casi todas las funciones que operen sobre arreglos. "
      ]
    },
    {
      "cell_type": "code",
      "metadata": {
        "id": "aTBJASA26xEh",
        "colab": {
          "base_uri": "https://localhost:8080/"
        },
        "outputId": "85193be6-721a-4519-93a4-9782d5788ae8"
      },
      "source": [
        "print(np.min(un_arreglo), un_arreglo.min())"
      ],
      "execution_count": 51,
      "outputs": [
        {
          "output_type": "stream",
          "name": "stdout",
          "text": [
            "-100 -100\n"
          ]
        }
      ]
    },
    {
      "cell_type": "markdown",
      "metadata": {
        "id": "vL5QD71a6xEo"
      },
      "source": [
        "### Repaso\n",
        "\n",
        "**Ejercicio 1**: Escribir un arreglo con 100 números equiespaciados del 0 al 9. Pista: `linspace`"
      ]
    },
    {
      "cell_type": "code",
      "metadata": {
        "id": "_p2bvcte6xEq",
        "outputId": "9d6b27d4-8824-4654-9b18-4305f6cc8bbf",
        "colab": {
          "base_uri": "https://localhost:8080/"
        }
      },
      "source": [
        "# COMPLETAR\n",
        "array = np.linspace(0,9,100)\n",
        "print(array)"
      ],
      "execution_count": 52,
      "outputs": [
        {
          "output_type": "stream",
          "name": "stdout",
          "text": [
            "[0.         0.09090909 0.18181818 0.27272727 0.36363636 0.45454545\n",
            " 0.54545455 0.63636364 0.72727273 0.81818182 0.90909091 1.\n",
            " 1.09090909 1.18181818 1.27272727 1.36363636 1.45454545 1.54545455\n",
            " 1.63636364 1.72727273 1.81818182 1.90909091 2.         2.09090909\n",
            " 2.18181818 2.27272727 2.36363636 2.45454545 2.54545455 2.63636364\n",
            " 2.72727273 2.81818182 2.90909091 3.         3.09090909 3.18181818\n",
            " 3.27272727 3.36363636 3.45454545 3.54545455 3.63636364 3.72727273\n",
            " 3.81818182 3.90909091 4.         4.09090909 4.18181818 4.27272727\n",
            " 4.36363636 4.45454545 4.54545455 4.63636364 4.72727273 4.81818182\n",
            " 4.90909091 5.         5.09090909 5.18181818 5.27272727 5.36363636\n",
            " 5.45454545 5.54545455 5.63636364 5.72727273 5.81818182 5.90909091\n",
            " 6.         6.09090909 6.18181818 6.27272727 6.36363636 6.45454545\n",
            " 6.54545455 6.63636364 6.72727273 6.81818182 6.90909091 7.\n",
            " 7.09090909 7.18181818 7.27272727 7.36363636 7.45454545 7.54545455\n",
            " 7.63636364 7.72727273 7.81818182 7.90909091 8.         8.09090909\n",
            " 8.18181818 8.27272727 8.36363636 8.45454545 8.54545455 8.63636364\n",
            " 8.72727273 8.81818182 8.90909091 9.        ]\n"
          ]
        }
      ]
    },
    {
      "cell_type": "markdown",
      "metadata": {
        "id": "1qRG5b3m6xEv"
      },
      "source": [
        "**Ejercicio 2:** crear un arreglo 1D de 20 ceros. Reemplazar los primeros 15 elementos por unos."
      ]
    },
    {
      "cell_type": "code",
      "metadata": {
        "id": "6xPwCrg26xEx",
        "outputId": "99975236-7136-40e5-cd62-96801a8b887c",
        "colab": {
          "base_uri": "https://localhost:8080/"
        }
      },
      "source": [
        "# COMPLETAR\n",
        "zeros = np.zeros((20,), dtype=int)\n",
        "for index, number in enumerate(zeros):\n",
        "  if index < 15:\n",
        "    zeros[index] = 1\n",
        "\n",
        "print(zeros)"
      ],
      "execution_count": 74,
      "outputs": [
        {
          "output_type": "stream",
          "name": "stdout",
          "text": [
            "[1 1 1 1 1 1 1 1 1 1 1 1 1 1 1 0 0 0 0 0]\n"
          ]
        }
      ]
    },
    {
      "cell_type": "markdown",
      "metadata": {
        "id": "IwdggYiK6xE1"
      },
      "source": [
        "**Ejercicio 3:** crear un arreglo 1D de 50 ceros. Reemplazar los primeros 25 elementos por los números naturales del 0 al 24."
      ]
    },
    {
      "cell_type": "code",
      "metadata": {
        "id": "Sp5joIbM6xE3",
        "outputId": "65023955-a46c-421e-ab10-f1ae0c23de93",
        "colab": {
          "base_uri": "https://localhost:8080/"
        }
      },
      "source": [
        "# COMPLETAR\n",
        "zeros = np.zeros((50,), dtype=int)\n",
        "for index, number in enumerate(zeros):\n",
        "  if index < 25:\n",
        "    zeros[index] = index\n",
        "\n",
        "print(zeros)"
      ],
      "execution_count": 73,
      "outputs": [
        {
          "output_type": "stream",
          "name": "stdout",
          "text": [
            "[ 0  1  2  3  4  5  6  7  8  9 10 11 12 13 14 15 16 17 18 19 20 21 22 23\n",
            " 24  0  0  0  0  0  0  0  0  0  0  0  0  0  0  0  0  0  0  0  0  0  0  0\n",
            "  0  0]\n"
          ]
        }
      ]
    },
    {
      "cell_type": "markdown",
      "metadata": {
        "id": "Vx74LT026xE-"
      },
      "source": [
        "**Ejercicio 4:** crear un arreglo 2D de 3 filas y 3 columnas, lleno de ceros. Reemplazar los elemento de la segunda columna por los números 1, 2 y 3 respectivamente. Es decir, crear la siguiente matriz:\n",
        "\n",
        "```\n",
        "0 1 0 \n",
        "0 2 0\n",
        "0 3 0\n",
        "```"
      ]
    },
    {
      "cell_type": "code",
      "metadata": {
        "id": "ckTUAo6D6xE_",
        "outputId": "acc4dbad-68bf-4686-e1f2-940bcfc302e8",
        "colab": {
          "base_uri": "https://localhost:8080/"
        }
      },
      "source": [
        "# COMPLETAR\n",
        "zeros = np.zeros((3, 3), dtype=int)\n",
        "for index, number in enumerate(zeros):\n",
        "  zeros[index, 1] = index + 1\n",
        "\n",
        "print(zeros)"
      ],
      "execution_count": 106,
      "outputs": [
        {
          "output_type": "stream",
          "name": "stdout",
          "text": [
            "[[0 1 0]\n",
            " [0 2 0]\n",
            " [0 3 0]]\n"
          ]
        }
      ]
    },
    {
      "cell_type": "markdown",
      "metadata": {
        "id": "5K-FKtOA6xFE"
      },
      "source": [
        "**Ejercicio 5:** crear un arreglo 2D de 3 filas y 3 columnas, lleno de ceros. Reemplazar los elemento de la diagonal por unos. Es decir, crear la siguiente matriz:\n",
        "\n",
        "```\n",
        "1 0 0 \n",
        "0 1 0\n",
        "0 0 1\n",
        "```"
      ]
    },
    {
      "cell_type": "code",
      "metadata": {
        "id": "VrkZuD4S6xFH"
      },
      "source": [
        "# COMPLETAR"
      ],
      "execution_count": null,
      "outputs": []
    },
    {
      "cell_type": "markdown",
      "metadata": {
        "id": "Ap348o4h6xFN"
      },
      "source": [
        "**Ejercicio 6:** crear un arreglo 2D de 100 filas y 100 columnas, lleno de ceros. Reemplazar los elemento de la diagonal por unos. Es decir, crear la siguiente matriz:\n",
        "\n",
        "```\n",
        "1 0 0 ... 0 0 0 \n",
        "0 1 0 ... 0 0 0\n",
        "0 0 1 ... 0 0 0\n",
        "...  \n",
        "0 0 0 ... 1 0 0\n",
        "0 0 0 ... 0 1 0\n",
        "0 0 0 ... 0 0 1\n",
        "```"
      ]
    },
    {
      "cell_type": "code",
      "metadata": {
        "id": "UHkEt17i6xFP"
      },
      "source": [
        "# COMPLETAR"
      ],
      "execution_count": null,
      "outputs": []
    },
    {
      "cell_type": "markdown",
      "metadata": {
        "id": "T78FHjuU6xFV"
      },
      "source": [
        "**Extra:** ¿Qué tipo de dato está usando NumPy cuando crea los arreglos?¿Y si queremos cambiarle el tipo de dato, por ejemplo a `int`? Googlear \"numpy astype\". ¿Qué pasa si usamos `astype(bool)`?"
      ]
    },
    {
      "cell_type": "code",
      "source": [],
      "metadata": {
        "id": "niA0LU2jE-TQ"
      },
      "execution_count": null,
      "outputs": []
    }
  ]
}