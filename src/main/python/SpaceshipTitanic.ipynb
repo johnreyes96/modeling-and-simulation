{
  "nbformat": 4,
  "nbformat_minor": 0,
  "metadata": {
    "colab": {
      "provenance": [],
      "authorship_tag": "ABX9TyOle5eOq8t3PoQvUl1b66ZR",
      "include_colab_link": true
    },
    "kernelspec": {
      "name": "python3",
      "display_name": "Python 3"
    },
    "language_info": {
      "name": "python"
    }
  },
  "cells": [
    {
      "cell_type": "markdown",
      "metadata": {
        "id": "view-in-github",
        "colab_type": "text"
      },
      "source": [
        "<a href=\"https://colab.research.google.com/github/johnreyes96/modeling-and-simulation/blob/master/src/main/python/SpaceshipTitanic.ipynb\" target=\"_parent\"><img src=\"https://colab.research.google.com/assets/colab-badge.svg\" alt=\"Open In Colab\"/></a>"
      ]
    },
    {
      "cell_type": "markdown",
      "source": [
        "## **Tabla de contenido:**\n",
        "* Introducción\n",
        "* Nave espacial titánica\n",
        "* Importar bibliotecas\n",
        "* Obtener los datos\n",
        "* Exploración/análisis de datos\n",
        "* Preprocesamiento de datos\n",
        "    - Datos Faltantes\n",
        "    - Creación de nuevas características\n",
        "    - Funciones de conversión\n",
        "    - Creación de categorías\n",
        "* Construcción de modelos de aprendizaje automático\n",
        "    - Entrenamiento 8 modelos diferentes\n",
        "    - ¿Cuál es el mejor modelo?"
      ],
      "metadata": {
        "id": "89Gnk-6wDuql"
      }
    },
    {
      "cell_type": "markdown",
      "source": [
        "# **Introducción**\n",
        "\n",
        "Predecir si un pasajero fue transportado a una dimensión alternativa durante la colisión de la nave espacial Titanic con la anomalía del espacio-tiempo. Para ayudarlo a hacer estas predicciones, se le proporciona un conjunto de registros personales recuperados del sistema informático dañado del barco."
      ],
      "metadata": {
        "id": "0DYQOXWOD_9x"
      }
    },
    {
      "cell_type": "markdown",
      "source": [
        "# **Nave espacial titánica**\n",
        "\n",
        "Bienvenido al año 2912, en el que se necesitan tus conocimientos de ciencia de datos para resolver un misterio cósmico. Hemos recibido una transmisión desde cuatro años luz de distancia y las cosas no pintan bien.\n",
        "La nave espacial Titanic era un transatlántico interestelar de pasajeros lanzado hace un mes. Con casi 13.000 pasajeros a bordo, la nave partió en su viaje inaugural transportando emigrantes de nuestro sistema solar a tres exoplanetas recientemente habitables que orbitan alrededor de estrellas cercanas.\n",
        "Mientras rodeaba Alfa Centauri de camino a su primer destino, el tórrido 55 Cancri E, la incauta nave espacial Titanic colisionó con una anomalía del espacio-tiempo oculta en una nube de polvo. Desgraciadamente, tuvo un destino similar al de su homónima de 1000 años antes. Aunque la nave permaneció intacta, casi la mitad de los pasajeros fueron transportados a una dimensión alternativa.\n",
        "Para ayudar a las tripulaciones de rescate y recuperar a los pasajeros perdidos, se te desafía a predecir qué pasajeros fueron transportados por la anomalía utilizando los registros recuperados del sistema informático dañado de la nave espacial.\n",
        "\n",
        "[Dataset spaceship titanic](https://www.kaggle.com/competitions/spaceship-titanic)"
      ],
      "metadata": {
        "id": "4KVThIK_E4wl"
      }
    },
    {
      "cell_type": "markdown",
      "source": [
        "# **Importar bibliotecas**"
      ],
      "metadata": {
        "id": "4Sfa5ArjFs7t"
      }
    },
    {
      "cell_type": "code",
      "source": [
        "# Procesamiento de datos\n",
        "import pandas as pd\n",
        "import numpy as np\n",
        "\n",
        "# Visualización de datos\n",
        "import seaborn as sns\n",
        "import matplotlib.pyplot as plt\n",
        "\n",
        "# Algoritmos de machine learning\n",
        "from sklearn import linear_model\n",
        "from sklearn.ensemble import RandomForestClassifier\n",
        "from sklearn.linear_model import LogisticRegression\n",
        "from sklearn.neighbors import KNeighborsClassifier\n",
        "from sklearn.naive_bayes import GaussianNB\n",
        "from sklearn.linear_model import Perceptron\n",
        "from sklearn.svm import SVC, LinearSVC\n",
        "from sklearn.tree import DecisionTreeClassifier"
      ],
      "metadata": {
        "id": "_4Ip6DykFtMd"
      },
      "execution_count": 964,
      "outputs": []
    },
    {
      "cell_type": "markdown",
      "source": [
        "# **Obtener los datos**"
      ],
      "metadata": {
        "id": "SqgrdthQF0u0"
      }
    },
    {
      "cell_type": "code",
      "execution_count": 1154,
      "metadata": {
        "colab": {
          "base_uri": "https://localhost:8080/"
        },
        "id": "koQaXbjkG6rk",
        "outputId": "ee2177ba-ad50-4dba-ec5a-5e6aaf02a813"
      },
      "outputs": [
        {
          "output_type": "stream",
          "name": "stdout",
          "text": [
            "Drive already mounted at /content/drive; to attempt to forcibly remount, call drive.mount(\"/content/drive\", force_remount=True).\n"
          ]
        }
      ],
      "source": [
        "from google.colab import drive\n",
        "drive.mount('/content/drive')"
      ]
    },
    {
      "cell_type": "code",
      "source": [
        "cd /content/drive/MyDrive/modeling_and_simulation"
      ],
      "metadata": {
        "colab": {
          "base_uri": "https://localhost:8080/"
        },
        "id": "3uFaaP0rMjmL",
        "outputId": "946597f5-3961-4b9f-a369-be95c2333227"
      },
      "execution_count": 1155,
      "outputs": [
        {
          "output_type": "stream",
          "name": "stdout",
          "text": [
            "/content/drive/MyDrive/modeling_and_simulation\n"
          ]
        }
      ]
    },
    {
      "cell_type": "code",
      "source": [
        "test_df = pd.read_csv(\"test_titanic.csv\")\n",
        "train_df = pd.read_csv(\"train_titanic.csv\")"
      ],
      "metadata": {
        "id": "FVJk0ZAhMpVx"
      },
      "execution_count": 1156,
      "outputs": []
    },
    {
      "cell_type": "markdown",
      "source": [
        "# **Exploración/análisis de datos**"
      ],
      "metadata": {
        "id": "lmRzpvkeJRQ8"
      }
    },
    {
      "cell_type": "code",
      "source": [
        "train_df.info()"
      ],
      "metadata": {
        "colab": {
          "base_uri": "https://localhost:8080/"
        },
        "id": "HiGzRfHUUr-e",
        "outputId": "85c469c1-d8c9-4abd-fec1-7c959f0b11ef"
      },
      "execution_count": 1157,
      "outputs": [
        {
          "output_type": "stream",
          "name": "stdout",
          "text": [
            "<class 'pandas.core.frame.DataFrame'>\n",
            "RangeIndex: 8693 entries, 0 to 8692\n",
            "Data columns (total 14 columns):\n",
            " #   Column        Non-Null Count  Dtype  \n",
            "---  ------        --------------  -----  \n",
            " 0   PassengerId   8693 non-null   object \n",
            " 1   HomePlanet    8492 non-null   object \n",
            " 2   CryoSleep     8476 non-null   object \n",
            " 3   Cabin         8494 non-null   object \n",
            " 4   Destination   8511 non-null   object \n",
            " 5   Age           8514 non-null   float64\n",
            " 6   VIP           8490 non-null   object \n",
            " 7   RoomService   8512 non-null   float64\n",
            " 8   FoodCourt     8510 non-null   float64\n",
            " 9   ShoppingMall  8485 non-null   float64\n",
            " 10  Spa           8510 non-null   float64\n",
            " 11  VRDeck        8505 non-null   float64\n",
            " 12  Name          8493 non-null   object \n",
            " 13  Transported   8693 non-null   bool   \n",
            "dtypes: bool(1), float64(6), object(7)\n",
            "memory usage: 891.5+ KB\n"
          ]
        }
      ]
    },
    {
      "cell_type": "markdown",
      "source": [
        "**El conjunto de entrenamiento tiene 8693 ejemplos, 13 características + la variable objetivo (Transported)**. 6 de las características son flotantes, 7 son objetos y un booleano. A continuación las características con su descripción:\n",
        "\n",
        "    PassengerId:  Un Id único para cada pasajero. gggg_pp donde gggg(grupo con el que viaja el pasajero) y pp(# dentro del grupo).\n",
        "                  Las personas en un grupo a menudo son miembros de la familia, pero no siempre.\n",
        "    HomePlanet:   El planeta del que partió el pasajero.\n",
        "    CryoSleep:    Indica si el pasajero eligió ser puesto en animación suspendida durante la duración del viaje.\n",
        "                  Los pasajeros en criosueño están confinados en sus cabinas.\n",
        "    Cabin:        # de cabina donde se hospeda el pasajero. deck/num/side, donde side = P(Babor) o S(Estribor).\n",
        "    Destination:  El planeta al que desembarcará el pasajero.\n",
        "    Age:          La edad del pasajero.\n",
        "    VIP:          Si el pasajero ha pagado por servicio VIP especial durante el viaje.\n",
        "    RoomService:  Monto que el pasajero ha facturado en el servicio.\n",
        "    FoodCourt:    Monto que el pasajero ha facturado en el servicio.\n",
        "    ShoppingMall: Monto que el pasajero ha facturado en el servicio.\n",
        "    Spa:          Monto que el pasajero ha facturado en el servicio.\n",
        "    VRDeck:       Monto que el pasajero ha facturado en el servicio.\n",
        "    Name:         El nombre y apellido del pasajero.\n",
        "    Transported:  Si el pasajero fue transportado a otra dimensión. Este es el objetivo, la columna que está tratando de predecir."
      ],
      "metadata": {
        "id": "aBc0PsL0U47V"
      }
    },
    {
      "cell_type": "code",
      "source": [
        "train_df.describe()"
      ],
      "metadata": {
        "colab": {
          "base_uri": "https://localhost:8080/",
          "height": 0
        },
        "id": "Er4FxaHMYXw1",
        "outputId": "a94884ff-d518-42a5-a705-13612b30c74b"
      },
      "execution_count": 1158,
      "outputs": [
        {
          "output_type": "execute_result",
          "data": {
            "text/plain": [
              "               Age   RoomService     FoodCourt  ShoppingMall           Spa  \\\n",
              "count  8514.000000   8512.000000   8510.000000   8485.000000   8510.000000   \n",
              "mean     28.827930    224.687617    458.077203    173.729169    311.138778   \n",
              "std      14.489021    666.717663   1611.489240    604.696458   1136.705535   \n",
              "min       0.000000      0.000000      0.000000      0.000000      0.000000   \n",
              "25%      19.000000      0.000000      0.000000      0.000000      0.000000   \n",
              "50%      27.000000      0.000000      0.000000      0.000000      0.000000   \n",
              "75%      38.000000     47.000000     76.000000     27.000000     59.000000   \n",
              "max      79.000000  14327.000000  29813.000000  23492.000000  22408.000000   \n",
              "\n",
              "             VRDeck  \n",
              "count   8505.000000  \n",
              "mean     304.854791  \n",
              "std     1145.717189  \n",
              "min        0.000000  \n",
              "25%        0.000000  \n",
              "50%        0.000000  \n",
              "75%       46.000000  \n",
              "max    24133.000000  "
            ],
            "text/html": [
              "\n",
              "  <div id=\"df-f1e7fe0a-9864-498c-9fef-6f5a1035e421\">\n",
              "    <div class=\"colab-df-container\">\n",
              "      <div>\n",
              "<style scoped>\n",
              "    .dataframe tbody tr th:only-of-type {\n",
              "        vertical-align: middle;\n",
              "    }\n",
              "\n",
              "    .dataframe tbody tr th {\n",
              "        vertical-align: top;\n",
              "    }\n",
              "\n",
              "    .dataframe thead th {\n",
              "        text-align: right;\n",
              "    }\n",
              "</style>\n",
              "<table border=\"1\" class=\"dataframe\">\n",
              "  <thead>\n",
              "    <tr style=\"text-align: right;\">\n",
              "      <th></th>\n",
              "      <th>Age</th>\n",
              "      <th>RoomService</th>\n",
              "      <th>FoodCourt</th>\n",
              "      <th>ShoppingMall</th>\n",
              "      <th>Spa</th>\n",
              "      <th>VRDeck</th>\n",
              "    </tr>\n",
              "  </thead>\n",
              "  <tbody>\n",
              "    <tr>\n",
              "      <th>count</th>\n",
              "      <td>8514.000000</td>\n",
              "      <td>8512.000000</td>\n",
              "      <td>8510.000000</td>\n",
              "      <td>8485.000000</td>\n",
              "      <td>8510.000000</td>\n",
              "      <td>8505.000000</td>\n",
              "    </tr>\n",
              "    <tr>\n",
              "      <th>mean</th>\n",
              "      <td>28.827930</td>\n",
              "      <td>224.687617</td>\n",
              "      <td>458.077203</td>\n",
              "      <td>173.729169</td>\n",
              "      <td>311.138778</td>\n",
              "      <td>304.854791</td>\n",
              "    </tr>\n",
              "    <tr>\n",
              "      <th>std</th>\n",
              "      <td>14.489021</td>\n",
              "      <td>666.717663</td>\n",
              "      <td>1611.489240</td>\n",
              "      <td>604.696458</td>\n",
              "      <td>1136.705535</td>\n",
              "      <td>1145.717189</td>\n",
              "    </tr>\n",
              "    <tr>\n",
              "      <th>min</th>\n",
              "      <td>0.000000</td>\n",
              "      <td>0.000000</td>\n",
              "      <td>0.000000</td>\n",
              "      <td>0.000000</td>\n",
              "      <td>0.000000</td>\n",
              "      <td>0.000000</td>\n",
              "    </tr>\n",
              "    <tr>\n",
              "      <th>25%</th>\n",
              "      <td>19.000000</td>\n",
              "      <td>0.000000</td>\n",
              "      <td>0.000000</td>\n",
              "      <td>0.000000</td>\n",
              "      <td>0.000000</td>\n",
              "      <td>0.000000</td>\n",
              "    </tr>\n",
              "    <tr>\n",
              "      <th>50%</th>\n",
              "      <td>27.000000</td>\n",
              "      <td>0.000000</td>\n",
              "      <td>0.000000</td>\n",
              "      <td>0.000000</td>\n",
              "      <td>0.000000</td>\n",
              "      <td>0.000000</td>\n",
              "    </tr>\n",
              "    <tr>\n",
              "      <th>75%</th>\n",
              "      <td>38.000000</td>\n",
              "      <td>47.000000</td>\n",
              "      <td>76.000000</td>\n",
              "      <td>27.000000</td>\n",
              "      <td>59.000000</td>\n",
              "      <td>46.000000</td>\n",
              "    </tr>\n",
              "    <tr>\n",
              "      <th>max</th>\n",
              "      <td>79.000000</td>\n",
              "      <td>14327.000000</td>\n",
              "      <td>29813.000000</td>\n",
              "      <td>23492.000000</td>\n",
              "      <td>22408.000000</td>\n",
              "      <td>24133.000000</td>\n",
              "    </tr>\n",
              "  </tbody>\n",
              "</table>\n",
              "</div>\n",
              "      <button class=\"colab-df-convert\" onclick=\"convertToInteractive('df-f1e7fe0a-9864-498c-9fef-6f5a1035e421')\"\n",
              "              title=\"Convert this dataframe to an interactive table.\"\n",
              "              style=\"display:none;\">\n",
              "        \n",
              "  <svg xmlns=\"http://www.w3.org/2000/svg\" height=\"24px\"viewBox=\"0 0 24 24\"\n",
              "       width=\"24px\">\n",
              "    <path d=\"M0 0h24v24H0V0z\" fill=\"none\"/>\n",
              "    <path d=\"M18.56 5.44l.94 2.06.94-2.06 2.06-.94-2.06-.94-.94-2.06-.94 2.06-2.06.94zm-11 1L8.5 8.5l.94-2.06 2.06-.94-2.06-.94L8.5 2.5l-.94 2.06-2.06.94zm10 10l.94 2.06.94-2.06 2.06-.94-2.06-.94-.94-2.06-.94 2.06-2.06.94z\"/><path d=\"M17.41 7.96l-1.37-1.37c-.4-.4-.92-.59-1.43-.59-.52 0-1.04.2-1.43.59L10.3 9.45l-7.72 7.72c-.78.78-.78 2.05 0 2.83L4 21.41c.39.39.9.59 1.41.59.51 0 1.02-.2 1.41-.59l7.78-7.78 2.81-2.81c.8-.78.8-2.07 0-2.86zM5.41 20L4 18.59l7.72-7.72 1.47 1.35L5.41 20z\"/>\n",
              "  </svg>\n",
              "      </button>\n",
              "      \n",
              "  <style>\n",
              "    .colab-df-container {\n",
              "      display:flex;\n",
              "      flex-wrap:wrap;\n",
              "      gap: 12px;\n",
              "    }\n",
              "\n",
              "    .colab-df-convert {\n",
              "      background-color: #E8F0FE;\n",
              "      border: none;\n",
              "      border-radius: 50%;\n",
              "      cursor: pointer;\n",
              "      display: none;\n",
              "      fill: #1967D2;\n",
              "      height: 32px;\n",
              "      padding: 0 0 0 0;\n",
              "      width: 32px;\n",
              "    }\n",
              "\n",
              "    .colab-df-convert:hover {\n",
              "      background-color: #E2EBFA;\n",
              "      box-shadow: 0px 1px 2px rgba(60, 64, 67, 0.3), 0px 1px 3px 1px rgba(60, 64, 67, 0.15);\n",
              "      fill: #174EA6;\n",
              "    }\n",
              "\n",
              "    [theme=dark] .colab-df-convert {\n",
              "      background-color: #3B4455;\n",
              "      fill: #D2E3FC;\n",
              "    }\n",
              "\n",
              "    [theme=dark] .colab-df-convert:hover {\n",
              "      background-color: #434B5C;\n",
              "      box-shadow: 0px 1px 3px 1px rgba(0, 0, 0, 0.15);\n",
              "      filter: drop-shadow(0px 1px 2px rgba(0, 0, 0, 0.3));\n",
              "      fill: #FFFFFF;\n",
              "    }\n",
              "  </style>\n",
              "\n",
              "      <script>\n",
              "        const buttonEl =\n",
              "          document.querySelector('#df-f1e7fe0a-9864-498c-9fef-6f5a1035e421 button.colab-df-convert');\n",
              "        buttonEl.style.display =\n",
              "          google.colab.kernel.accessAllowed ? 'block' : 'none';\n",
              "\n",
              "        async function convertToInteractive(key) {\n",
              "          const element = document.querySelector('#df-f1e7fe0a-9864-498c-9fef-6f5a1035e421');\n",
              "          const dataTable =\n",
              "            await google.colab.kernel.invokeFunction('convertToInteractive',\n",
              "                                                     [key], {});\n",
              "          if (!dataTable) return;\n",
              "\n",
              "          const docLinkHtml = 'Like what you see? Visit the ' +\n",
              "            '<a target=\"_blank\" href=https://colab.research.google.com/notebooks/data_table.ipynb>data table notebook</a>'\n",
              "            + ' to learn more about interactive tables.';\n",
              "          element.innerHTML = '';\n",
              "          dataTable['output_type'] = 'display_data';\n",
              "          await google.colab.output.renderOutput(dataTable, element);\n",
              "          const docLink = document.createElement('div');\n",
              "          docLink.innerHTML = docLinkHtml;\n",
              "          element.appendChild(docLink);\n",
              "        }\n",
              "      </script>\n",
              "    </div>\n",
              "  </div>\n",
              "  "
            ]
          },
          "metadata": {},
          "execution_count": 1158
        }
      ]
    },
    {
      "cell_type": "markdown",
      "source": [
        "Arriba podemos ver que las edades de **los pasajeros oscilan entre 0 y 79 años**. Además de eso, ya podemos detectar 2 características que tienen sus valores completos, como 'Id del pasajero' y 'Transportado'."
      ],
      "metadata": {
        "id": "sFciFtocZwGW"
      }
    },
    {
      "cell_type": "code",
      "source": [
        "train_df.head(15)"
      ],
      "metadata": {
        "colab": {
          "base_uri": "https://localhost:8080/",
          "height": 0
        },
        "id": "kGgewoItxfb_",
        "outputId": "baa41f02-039f-490e-c967-0b10bc625d8e"
      },
      "execution_count": 1159,
      "outputs": [
        {
          "output_type": "execute_result",
          "data": {
            "text/plain": [
              "   PassengerId HomePlanet CryoSleep  Cabin    Destination   Age    VIP  \\\n",
              "0      0001_01     Europa     False  B/0/P    TRAPPIST-1e  39.0  False   \n",
              "1      0002_01      Earth     False  F/0/S    TRAPPIST-1e  24.0  False   \n",
              "2      0003_01     Europa     False  A/0/S    TRAPPIST-1e  58.0   True   \n",
              "3      0003_02     Europa     False  A/0/S    TRAPPIST-1e  33.0  False   \n",
              "4      0004_01      Earth     False  F/1/S    TRAPPIST-1e  16.0  False   \n",
              "5      0005_01      Earth     False  F/0/P  PSO J318.5-22  44.0  False   \n",
              "6      0006_01      Earth     False  F/2/S    TRAPPIST-1e  26.0  False   \n",
              "7      0006_02      Earth      True  G/0/S    TRAPPIST-1e  28.0  False   \n",
              "8      0007_01      Earth     False  F/3/S    TRAPPIST-1e  35.0  False   \n",
              "9      0008_01     Europa      True  B/1/P    55 Cancri e  14.0  False   \n",
              "10     0008_02     Europa      True  B/1/P    TRAPPIST-1e  34.0  False   \n",
              "11     0008_03     Europa     False  B/1/P    55 Cancri e  45.0  False   \n",
              "12     0009_01       Mars     False  F/1/P    TRAPPIST-1e  32.0  False   \n",
              "13     0010_01      Earth     False  G/1/S    TRAPPIST-1e  48.0  False   \n",
              "14     0011_01      Earth     False  F/2/P    TRAPPIST-1e  28.0  False   \n",
              "\n",
              "    RoomService  FoodCourt  ShoppingMall     Spa  VRDeck                Name  \\\n",
              "0           0.0        0.0           0.0     0.0     0.0     Maham Ofracculy   \n",
              "1         109.0        9.0          25.0   549.0    44.0        Juanna Vines   \n",
              "2          43.0     3576.0           0.0  6715.0    49.0       Altark Susent   \n",
              "3           0.0     1283.0         371.0  3329.0   193.0        Solam Susent   \n",
              "4         303.0       70.0         151.0   565.0     2.0   Willy Santantines   \n",
              "5           0.0      483.0           0.0   291.0     0.0   Sandie Hinetthews   \n",
              "6          42.0     1539.0           3.0     0.0     0.0  Billex Jacostaffey   \n",
              "7           0.0        0.0           0.0     0.0     NaN  Candra Jacostaffey   \n",
              "8           0.0      785.0          17.0   216.0     0.0       Andona Beston   \n",
              "9           0.0        0.0           0.0     0.0     0.0      Erraiam Flatic   \n",
              "10          0.0        0.0           NaN     0.0     0.0      Altardr Flatic   \n",
              "11         39.0     7295.0         589.0   110.0   124.0       Wezena Flatic   \n",
              "12         73.0        0.0        1123.0     0.0   113.0        Berers Barne   \n",
              "13        719.0        1.0          65.0     0.0    24.0      Reney Baketton   \n",
              "14          8.0      974.0          12.0     2.0     7.0     Elle Bertsontry   \n",
              "\n",
              "    Transported  \n",
              "0         False  \n",
              "1          True  \n",
              "2         False  \n",
              "3         False  \n",
              "4          True  \n",
              "5          True  \n",
              "6          True  \n",
              "7          True  \n",
              "8          True  \n",
              "9          True  \n",
              "10         True  \n",
              "11         True  \n",
              "12         True  \n",
              "13        False  \n",
              "14         True  "
            ],
            "text/html": [
              "\n",
              "  <div id=\"df-2ba8356b-a31a-423d-a865-f8cb679ca0af\">\n",
              "    <div class=\"colab-df-container\">\n",
              "      <div>\n",
              "<style scoped>\n",
              "    .dataframe tbody tr th:only-of-type {\n",
              "        vertical-align: middle;\n",
              "    }\n",
              "\n",
              "    .dataframe tbody tr th {\n",
              "        vertical-align: top;\n",
              "    }\n",
              "\n",
              "    .dataframe thead th {\n",
              "        text-align: right;\n",
              "    }\n",
              "</style>\n",
              "<table border=\"1\" class=\"dataframe\">\n",
              "  <thead>\n",
              "    <tr style=\"text-align: right;\">\n",
              "      <th></th>\n",
              "      <th>PassengerId</th>\n",
              "      <th>HomePlanet</th>\n",
              "      <th>CryoSleep</th>\n",
              "      <th>Cabin</th>\n",
              "      <th>Destination</th>\n",
              "      <th>Age</th>\n",
              "      <th>VIP</th>\n",
              "      <th>RoomService</th>\n",
              "      <th>FoodCourt</th>\n",
              "      <th>ShoppingMall</th>\n",
              "      <th>Spa</th>\n",
              "      <th>VRDeck</th>\n",
              "      <th>Name</th>\n",
              "      <th>Transported</th>\n",
              "    </tr>\n",
              "  </thead>\n",
              "  <tbody>\n",
              "    <tr>\n",
              "      <th>0</th>\n",
              "      <td>0001_01</td>\n",
              "      <td>Europa</td>\n",
              "      <td>False</td>\n",
              "      <td>B/0/P</td>\n",
              "      <td>TRAPPIST-1e</td>\n",
              "      <td>39.0</td>\n",
              "      <td>False</td>\n",
              "      <td>0.0</td>\n",
              "      <td>0.0</td>\n",
              "      <td>0.0</td>\n",
              "      <td>0.0</td>\n",
              "      <td>0.0</td>\n",
              "      <td>Maham Ofracculy</td>\n",
              "      <td>False</td>\n",
              "    </tr>\n",
              "    <tr>\n",
              "      <th>1</th>\n",
              "      <td>0002_01</td>\n",
              "      <td>Earth</td>\n",
              "      <td>False</td>\n",
              "      <td>F/0/S</td>\n",
              "      <td>TRAPPIST-1e</td>\n",
              "      <td>24.0</td>\n",
              "      <td>False</td>\n",
              "      <td>109.0</td>\n",
              "      <td>9.0</td>\n",
              "      <td>25.0</td>\n",
              "      <td>549.0</td>\n",
              "      <td>44.0</td>\n",
              "      <td>Juanna Vines</td>\n",
              "      <td>True</td>\n",
              "    </tr>\n",
              "    <tr>\n",
              "      <th>2</th>\n",
              "      <td>0003_01</td>\n",
              "      <td>Europa</td>\n",
              "      <td>False</td>\n",
              "      <td>A/0/S</td>\n",
              "      <td>TRAPPIST-1e</td>\n",
              "      <td>58.0</td>\n",
              "      <td>True</td>\n",
              "      <td>43.0</td>\n",
              "      <td>3576.0</td>\n",
              "      <td>0.0</td>\n",
              "      <td>6715.0</td>\n",
              "      <td>49.0</td>\n",
              "      <td>Altark Susent</td>\n",
              "      <td>False</td>\n",
              "    </tr>\n",
              "    <tr>\n",
              "      <th>3</th>\n",
              "      <td>0003_02</td>\n",
              "      <td>Europa</td>\n",
              "      <td>False</td>\n",
              "      <td>A/0/S</td>\n",
              "      <td>TRAPPIST-1e</td>\n",
              "      <td>33.0</td>\n",
              "      <td>False</td>\n",
              "      <td>0.0</td>\n",
              "      <td>1283.0</td>\n",
              "      <td>371.0</td>\n",
              "      <td>3329.0</td>\n",
              "      <td>193.0</td>\n",
              "      <td>Solam Susent</td>\n",
              "      <td>False</td>\n",
              "    </tr>\n",
              "    <tr>\n",
              "      <th>4</th>\n",
              "      <td>0004_01</td>\n",
              "      <td>Earth</td>\n",
              "      <td>False</td>\n",
              "      <td>F/1/S</td>\n",
              "      <td>TRAPPIST-1e</td>\n",
              "      <td>16.0</td>\n",
              "      <td>False</td>\n",
              "      <td>303.0</td>\n",
              "      <td>70.0</td>\n",
              "      <td>151.0</td>\n",
              "      <td>565.0</td>\n",
              "      <td>2.0</td>\n",
              "      <td>Willy Santantines</td>\n",
              "      <td>True</td>\n",
              "    </tr>\n",
              "    <tr>\n",
              "      <th>5</th>\n",
              "      <td>0005_01</td>\n",
              "      <td>Earth</td>\n",
              "      <td>False</td>\n",
              "      <td>F/0/P</td>\n",
              "      <td>PSO J318.5-22</td>\n",
              "      <td>44.0</td>\n",
              "      <td>False</td>\n",
              "      <td>0.0</td>\n",
              "      <td>483.0</td>\n",
              "      <td>0.0</td>\n",
              "      <td>291.0</td>\n",
              "      <td>0.0</td>\n",
              "      <td>Sandie Hinetthews</td>\n",
              "      <td>True</td>\n",
              "    </tr>\n",
              "    <tr>\n",
              "      <th>6</th>\n",
              "      <td>0006_01</td>\n",
              "      <td>Earth</td>\n",
              "      <td>False</td>\n",
              "      <td>F/2/S</td>\n",
              "      <td>TRAPPIST-1e</td>\n",
              "      <td>26.0</td>\n",
              "      <td>False</td>\n",
              "      <td>42.0</td>\n",
              "      <td>1539.0</td>\n",
              "      <td>3.0</td>\n",
              "      <td>0.0</td>\n",
              "      <td>0.0</td>\n",
              "      <td>Billex Jacostaffey</td>\n",
              "      <td>True</td>\n",
              "    </tr>\n",
              "    <tr>\n",
              "      <th>7</th>\n",
              "      <td>0006_02</td>\n",
              "      <td>Earth</td>\n",
              "      <td>True</td>\n",
              "      <td>G/0/S</td>\n",
              "      <td>TRAPPIST-1e</td>\n",
              "      <td>28.0</td>\n",
              "      <td>False</td>\n",
              "      <td>0.0</td>\n",
              "      <td>0.0</td>\n",
              "      <td>0.0</td>\n",
              "      <td>0.0</td>\n",
              "      <td>NaN</td>\n",
              "      <td>Candra Jacostaffey</td>\n",
              "      <td>True</td>\n",
              "    </tr>\n",
              "    <tr>\n",
              "      <th>8</th>\n",
              "      <td>0007_01</td>\n",
              "      <td>Earth</td>\n",
              "      <td>False</td>\n",
              "      <td>F/3/S</td>\n",
              "      <td>TRAPPIST-1e</td>\n",
              "      <td>35.0</td>\n",
              "      <td>False</td>\n",
              "      <td>0.0</td>\n",
              "      <td>785.0</td>\n",
              "      <td>17.0</td>\n",
              "      <td>216.0</td>\n",
              "      <td>0.0</td>\n",
              "      <td>Andona Beston</td>\n",
              "      <td>True</td>\n",
              "    </tr>\n",
              "    <tr>\n",
              "      <th>9</th>\n",
              "      <td>0008_01</td>\n",
              "      <td>Europa</td>\n",
              "      <td>True</td>\n",
              "      <td>B/1/P</td>\n",
              "      <td>55 Cancri e</td>\n",
              "      <td>14.0</td>\n",
              "      <td>False</td>\n",
              "      <td>0.0</td>\n",
              "      <td>0.0</td>\n",
              "      <td>0.0</td>\n",
              "      <td>0.0</td>\n",
              "      <td>0.0</td>\n",
              "      <td>Erraiam Flatic</td>\n",
              "      <td>True</td>\n",
              "    </tr>\n",
              "    <tr>\n",
              "      <th>10</th>\n",
              "      <td>0008_02</td>\n",
              "      <td>Europa</td>\n",
              "      <td>True</td>\n",
              "      <td>B/1/P</td>\n",
              "      <td>TRAPPIST-1e</td>\n",
              "      <td>34.0</td>\n",
              "      <td>False</td>\n",
              "      <td>0.0</td>\n",
              "      <td>0.0</td>\n",
              "      <td>NaN</td>\n",
              "      <td>0.0</td>\n",
              "      <td>0.0</td>\n",
              "      <td>Altardr Flatic</td>\n",
              "      <td>True</td>\n",
              "    </tr>\n",
              "    <tr>\n",
              "      <th>11</th>\n",
              "      <td>0008_03</td>\n",
              "      <td>Europa</td>\n",
              "      <td>False</td>\n",
              "      <td>B/1/P</td>\n",
              "      <td>55 Cancri e</td>\n",
              "      <td>45.0</td>\n",
              "      <td>False</td>\n",
              "      <td>39.0</td>\n",
              "      <td>7295.0</td>\n",
              "      <td>589.0</td>\n",
              "      <td>110.0</td>\n",
              "      <td>124.0</td>\n",
              "      <td>Wezena Flatic</td>\n",
              "      <td>True</td>\n",
              "    </tr>\n",
              "    <tr>\n",
              "      <th>12</th>\n",
              "      <td>0009_01</td>\n",
              "      <td>Mars</td>\n",
              "      <td>False</td>\n",
              "      <td>F/1/P</td>\n",
              "      <td>TRAPPIST-1e</td>\n",
              "      <td>32.0</td>\n",
              "      <td>False</td>\n",
              "      <td>73.0</td>\n",
              "      <td>0.0</td>\n",
              "      <td>1123.0</td>\n",
              "      <td>0.0</td>\n",
              "      <td>113.0</td>\n",
              "      <td>Berers Barne</td>\n",
              "      <td>True</td>\n",
              "    </tr>\n",
              "    <tr>\n",
              "      <th>13</th>\n",
              "      <td>0010_01</td>\n",
              "      <td>Earth</td>\n",
              "      <td>False</td>\n",
              "      <td>G/1/S</td>\n",
              "      <td>TRAPPIST-1e</td>\n",
              "      <td>48.0</td>\n",
              "      <td>False</td>\n",
              "      <td>719.0</td>\n",
              "      <td>1.0</td>\n",
              "      <td>65.0</td>\n",
              "      <td>0.0</td>\n",
              "      <td>24.0</td>\n",
              "      <td>Reney Baketton</td>\n",
              "      <td>False</td>\n",
              "    </tr>\n",
              "    <tr>\n",
              "      <th>14</th>\n",
              "      <td>0011_01</td>\n",
              "      <td>Earth</td>\n",
              "      <td>False</td>\n",
              "      <td>F/2/P</td>\n",
              "      <td>TRAPPIST-1e</td>\n",
              "      <td>28.0</td>\n",
              "      <td>False</td>\n",
              "      <td>8.0</td>\n",
              "      <td>974.0</td>\n",
              "      <td>12.0</td>\n",
              "      <td>2.0</td>\n",
              "      <td>7.0</td>\n",
              "      <td>Elle Bertsontry</td>\n",
              "      <td>True</td>\n",
              "    </tr>\n",
              "  </tbody>\n",
              "</table>\n",
              "</div>\n",
              "      <button class=\"colab-df-convert\" onclick=\"convertToInteractive('df-2ba8356b-a31a-423d-a865-f8cb679ca0af')\"\n",
              "              title=\"Convert this dataframe to an interactive table.\"\n",
              "              style=\"display:none;\">\n",
              "        \n",
              "  <svg xmlns=\"http://www.w3.org/2000/svg\" height=\"24px\"viewBox=\"0 0 24 24\"\n",
              "       width=\"24px\">\n",
              "    <path d=\"M0 0h24v24H0V0z\" fill=\"none\"/>\n",
              "    <path d=\"M18.56 5.44l.94 2.06.94-2.06 2.06-.94-2.06-.94-.94-2.06-.94 2.06-2.06.94zm-11 1L8.5 8.5l.94-2.06 2.06-.94-2.06-.94L8.5 2.5l-.94 2.06-2.06.94zm10 10l.94 2.06.94-2.06 2.06-.94-2.06-.94-.94-2.06-.94 2.06-2.06.94z\"/><path d=\"M17.41 7.96l-1.37-1.37c-.4-.4-.92-.59-1.43-.59-.52 0-1.04.2-1.43.59L10.3 9.45l-7.72 7.72c-.78.78-.78 2.05 0 2.83L4 21.41c.39.39.9.59 1.41.59.51 0 1.02-.2 1.41-.59l7.78-7.78 2.81-2.81c.8-.78.8-2.07 0-2.86zM5.41 20L4 18.59l7.72-7.72 1.47 1.35L5.41 20z\"/>\n",
              "  </svg>\n",
              "      </button>\n",
              "      \n",
              "  <style>\n",
              "    .colab-df-container {\n",
              "      display:flex;\n",
              "      flex-wrap:wrap;\n",
              "      gap: 12px;\n",
              "    }\n",
              "\n",
              "    .colab-df-convert {\n",
              "      background-color: #E8F0FE;\n",
              "      border: none;\n",
              "      border-radius: 50%;\n",
              "      cursor: pointer;\n",
              "      display: none;\n",
              "      fill: #1967D2;\n",
              "      height: 32px;\n",
              "      padding: 0 0 0 0;\n",
              "      width: 32px;\n",
              "    }\n",
              "\n",
              "    .colab-df-convert:hover {\n",
              "      background-color: #E2EBFA;\n",
              "      box-shadow: 0px 1px 2px rgba(60, 64, 67, 0.3), 0px 1px 3px 1px rgba(60, 64, 67, 0.15);\n",
              "      fill: #174EA6;\n",
              "    }\n",
              "\n",
              "    [theme=dark] .colab-df-convert {\n",
              "      background-color: #3B4455;\n",
              "      fill: #D2E3FC;\n",
              "    }\n",
              "\n",
              "    [theme=dark] .colab-df-convert:hover {\n",
              "      background-color: #434B5C;\n",
              "      box-shadow: 0px 1px 3px 1px rgba(0, 0, 0, 0.15);\n",
              "      filter: drop-shadow(0px 1px 2px rgba(0, 0, 0, 0.3));\n",
              "      fill: #FFFFFF;\n",
              "    }\n",
              "  </style>\n",
              "\n",
              "      <script>\n",
              "        const buttonEl =\n",
              "          document.querySelector('#df-2ba8356b-a31a-423d-a865-f8cb679ca0af button.colab-df-convert');\n",
              "        buttonEl.style.display =\n",
              "          google.colab.kernel.accessAllowed ? 'block' : 'none';\n",
              "\n",
              "        async function convertToInteractive(key) {\n",
              "          const element = document.querySelector('#df-2ba8356b-a31a-423d-a865-f8cb679ca0af');\n",
              "          const dataTable =\n",
              "            await google.colab.kernel.invokeFunction('convertToInteractive',\n",
              "                                                     [key], {});\n",
              "          if (!dataTable) return;\n",
              "\n",
              "          const docLinkHtml = 'Like what you see? Visit the ' +\n",
              "            '<a target=\"_blank\" href=https://colab.research.google.com/notebooks/data_table.ipynb>data table notebook</a>'\n",
              "            + ' to learn more about interactive tables.';\n",
              "          element.innerHTML = '';\n",
              "          dataTable['output_type'] = 'display_data';\n",
              "          await google.colab.output.renderOutput(dataTable, element);\n",
              "          const docLink = document.createElement('div');\n",
              "          docLink.innerHTML = docLinkHtml;\n",
              "          element.appendChild(docLink);\n",
              "        }\n",
              "      </script>\n",
              "    </div>\n",
              "  </div>\n",
              "  "
            ]
          },
          "metadata": {},
          "execution_count": 1159
        }
      ]
    },
    {
      "cell_type": "markdown",
      "source": [
        "De la tabla anterior, podemos notar algunas cosas. En primer lugar, **necesitamos convertir muchas funciones en funciones numéricas** más adelante, para que los algoritmos de aprendizaje automático puedan procesarlas. Además, podemos ver que las **características tienen rangos muy diferentes**, que necesitaremos convertir aproximadamente a la misma escala. También podemos detectar algunas características más, que contienen valores faltantes (NaN).\n",
        "\n",
        "**Detallando los datos que realmente faltan:**"
      ],
      "metadata": {
        "id": "bWGgD5F9xh7G"
      }
    },
    {
      "cell_type": "code",
      "source": [
        "total = train_df.isnull().sum().sort_values(ascending=False)\n",
        "percent_1 = train_df.isnull().sum() / train_df.isnull().count() * 100\n",
        "percent_2 = (round(percent_1, 1)).sort_values(ascending=False)\n",
        "missing_data = pd.concat([total, percent_2], axis=1, keys=['Total', '%'])\n",
        "missing_data.head(14)"
      ],
      "metadata": {
        "colab": {
          "base_uri": "https://localhost:8080/",
          "height": 0
        },
        "id": "IovK899OxtkO",
        "outputId": "c2a08f02-8e51-4176-e25b-c3e5800b4b98"
      },
      "execution_count": 1160,
      "outputs": [
        {
          "output_type": "execute_result",
          "data": {
            "text/plain": [
              "              Total    %\n",
              "CryoSleep       217  2.5\n",
              "ShoppingMall    208  2.4\n",
              "VIP             203  2.3\n",
              "HomePlanet      201  2.3\n",
              "Name            200  2.3\n",
              "Cabin           199  2.3\n",
              "VRDeck          188  2.2\n",
              "FoodCourt       183  2.1\n",
              "Spa             183  2.1\n",
              "Destination     182  2.1\n",
              "RoomService     181  2.1\n",
              "Age             179  2.1\n",
              "PassengerId       0  0.0\n",
              "Transported       0  0.0"
            ],
            "text/html": [
              "\n",
              "  <div id=\"df-f215c81c-64d6-466b-a45b-84c1e6b1a216\">\n",
              "    <div class=\"colab-df-container\">\n",
              "      <div>\n",
              "<style scoped>\n",
              "    .dataframe tbody tr th:only-of-type {\n",
              "        vertical-align: middle;\n",
              "    }\n",
              "\n",
              "    .dataframe tbody tr th {\n",
              "        vertical-align: top;\n",
              "    }\n",
              "\n",
              "    .dataframe thead th {\n",
              "        text-align: right;\n",
              "    }\n",
              "</style>\n",
              "<table border=\"1\" class=\"dataframe\">\n",
              "  <thead>\n",
              "    <tr style=\"text-align: right;\">\n",
              "      <th></th>\n",
              "      <th>Total</th>\n",
              "      <th>%</th>\n",
              "    </tr>\n",
              "  </thead>\n",
              "  <tbody>\n",
              "    <tr>\n",
              "      <th>CryoSleep</th>\n",
              "      <td>217</td>\n",
              "      <td>2.5</td>\n",
              "    </tr>\n",
              "    <tr>\n",
              "      <th>ShoppingMall</th>\n",
              "      <td>208</td>\n",
              "      <td>2.4</td>\n",
              "    </tr>\n",
              "    <tr>\n",
              "      <th>VIP</th>\n",
              "      <td>203</td>\n",
              "      <td>2.3</td>\n",
              "    </tr>\n",
              "    <tr>\n",
              "      <th>HomePlanet</th>\n",
              "      <td>201</td>\n",
              "      <td>2.3</td>\n",
              "    </tr>\n",
              "    <tr>\n",
              "      <th>Name</th>\n",
              "      <td>200</td>\n",
              "      <td>2.3</td>\n",
              "    </tr>\n",
              "    <tr>\n",
              "      <th>Cabin</th>\n",
              "      <td>199</td>\n",
              "      <td>2.3</td>\n",
              "    </tr>\n",
              "    <tr>\n",
              "      <th>VRDeck</th>\n",
              "      <td>188</td>\n",
              "      <td>2.2</td>\n",
              "    </tr>\n",
              "    <tr>\n",
              "      <th>FoodCourt</th>\n",
              "      <td>183</td>\n",
              "      <td>2.1</td>\n",
              "    </tr>\n",
              "    <tr>\n",
              "      <th>Spa</th>\n",
              "      <td>183</td>\n",
              "      <td>2.1</td>\n",
              "    </tr>\n",
              "    <tr>\n",
              "      <th>Destination</th>\n",
              "      <td>182</td>\n",
              "      <td>2.1</td>\n",
              "    </tr>\n",
              "    <tr>\n",
              "      <th>RoomService</th>\n",
              "      <td>181</td>\n",
              "      <td>2.1</td>\n",
              "    </tr>\n",
              "    <tr>\n",
              "      <th>Age</th>\n",
              "      <td>179</td>\n",
              "      <td>2.1</td>\n",
              "    </tr>\n",
              "    <tr>\n",
              "      <th>PassengerId</th>\n",
              "      <td>0</td>\n",
              "      <td>0.0</td>\n",
              "    </tr>\n",
              "    <tr>\n",
              "      <th>Transported</th>\n",
              "      <td>0</td>\n",
              "      <td>0.0</td>\n",
              "    </tr>\n",
              "  </tbody>\n",
              "</table>\n",
              "</div>\n",
              "      <button class=\"colab-df-convert\" onclick=\"convertToInteractive('df-f215c81c-64d6-466b-a45b-84c1e6b1a216')\"\n",
              "              title=\"Convert this dataframe to an interactive table.\"\n",
              "              style=\"display:none;\">\n",
              "        \n",
              "  <svg xmlns=\"http://www.w3.org/2000/svg\" height=\"24px\"viewBox=\"0 0 24 24\"\n",
              "       width=\"24px\">\n",
              "    <path d=\"M0 0h24v24H0V0z\" fill=\"none\"/>\n",
              "    <path d=\"M18.56 5.44l.94 2.06.94-2.06 2.06-.94-2.06-.94-.94-2.06-.94 2.06-2.06.94zm-11 1L8.5 8.5l.94-2.06 2.06-.94-2.06-.94L8.5 2.5l-.94 2.06-2.06.94zm10 10l.94 2.06.94-2.06 2.06-.94-2.06-.94-.94-2.06-.94 2.06-2.06.94z\"/><path d=\"M17.41 7.96l-1.37-1.37c-.4-.4-.92-.59-1.43-.59-.52 0-1.04.2-1.43.59L10.3 9.45l-7.72 7.72c-.78.78-.78 2.05 0 2.83L4 21.41c.39.39.9.59 1.41.59.51 0 1.02-.2 1.41-.59l7.78-7.78 2.81-2.81c.8-.78.8-2.07 0-2.86zM5.41 20L4 18.59l7.72-7.72 1.47 1.35L5.41 20z\"/>\n",
              "  </svg>\n",
              "      </button>\n",
              "      \n",
              "  <style>\n",
              "    .colab-df-container {\n",
              "      display:flex;\n",
              "      flex-wrap:wrap;\n",
              "      gap: 12px;\n",
              "    }\n",
              "\n",
              "    .colab-df-convert {\n",
              "      background-color: #E8F0FE;\n",
              "      border: none;\n",
              "      border-radius: 50%;\n",
              "      cursor: pointer;\n",
              "      display: none;\n",
              "      fill: #1967D2;\n",
              "      height: 32px;\n",
              "      padding: 0 0 0 0;\n",
              "      width: 32px;\n",
              "    }\n",
              "\n",
              "    .colab-df-convert:hover {\n",
              "      background-color: #E2EBFA;\n",
              "      box-shadow: 0px 1px 2px rgba(60, 64, 67, 0.3), 0px 1px 3px 1px rgba(60, 64, 67, 0.15);\n",
              "      fill: #174EA6;\n",
              "    }\n",
              "\n",
              "    [theme=dark] .colab-df-convert {\n",
              "      background-color: #3B4455;\n",
              "      fill: #D2E3FC;\n",
              "    }\n",
              "\n",
              "    [theme=dark] .colab-df-convert:hover {\n",
              "      background-color: #434B5C;\n",
              "      box-shadow: 0px 1px 3px 1px rgba(0, 0, 0, 0.15);\n",
              "      filter: drop-shadow(0px 1px 2px rgba(0, 0, 0, 0.3));\n",
              "      fill: #FFFFFF;\n",
              "    }\n",
              "  </style>\n",
              "\n",
              "      <script>\n",
              "        const buttonEl =\n",
              "          document.querySelector('#df-f215c81c-64d6-466b-a45b-84c1e6b1a216 button.colab-df-convert');\n",
              "        buttonEl.style.display =\n",
              "          google.colab.kernel.accessAllowed ? 'block' : 'none';\n",
              "\n",
              "        async function convertToInteractive(key) {\n",
              "          const element = document.querySelector('#df-f215c81c-64d6-466b-a45b-84c1e6b1a216');\n",
              "          const dataTable =\n",
              "            await google.colab.kernel.invokeFunction('convertToInteractive',\n",
              "                                                     [key], {});\n",
              "          if (!dataTable) return;\n",
              "\n",
              "          const docLinkHtml = 'Like what you see? Visit the ' +\n",
              "            '<a target=\"_blank\" href=https://colab.research.google.com/notebooks/data_table.ipynb>data table notebook</a>'\n",
              "            + ' to learn more about interactive tables.';\n",
              "          element.innerHTML = '';\n",
              "          dataTable['output_type'] = 'display_data';\n",
              "          await google.colab.output.renderOutput(dataTable, element);\n",
              "          const docLink = document.createElement('div');\n",
              "          docLink.innerHTML = docLinkHtml;\n",
              "          element.appendChild(docLink);\n",
              "        }\n",
              "      </script>\n",
              "    </div>\n",
              "  </div>\n",
              "  "
            ]
          },
          "metadata": {},
          "execution_count": 1160
        }
      ]
    },
    {
      "cell_type": "markdown",
      "source": [
        "Las 12 funciones oscilan entre 179 y 217 valores faltantes, algunas que se pueden completar fácilmente, otras más difíciles como 'HomePlanet' y 'Destination', por tal motivo sus valores 'NaN' serán reemplazados por 'Unknown', esto con el fin de identificar, si los pasajeros transportados tienen en común su planeta de origen y/o destino. Por otro lado, la función \"Name\" podríamos eliminarla del conjunto de datos, ya que no aportaría valor alguno."
      ],
      "metadata": {
        "id": "CoIB_kUBzcE3"
      }
    },
    {
      "cell_type": "code",
      "source": [
        "train_df.columns.values"
      ],
      "metadata": {
        "colab": {
          "base_uri": "https://localhost:8080/"
        },
        "id": "VUahKAap4K7f",
        "outputId": "57415715-e782-40c1-9f54-b21ba4f2c9be"
      },
      "execution_count": 1161,
      "outputs": [
        {
          "output_type": "execute_result",
          "data": {
            "text/plain": [
              "array(['PassengerId', 'HomePlanet', 'CryoSleep', 'Cabin', 'Destination',\n",
              "       'Age', 'VIP', 'RoomService', 'FoodCourt', 'ShoppingMall', 'Spa',\n",
              "       'VRDeck', 'Name', 'Transported'], dtype=object)"
            ]
          },
          "metadata": {},
          "execution_count": 1161
        }
      ]
    },
    {
      "cell_type": "markdown",
      "source": [
        "Arriba puede ver las 13 características + la variable de destino (Transported). **¿Qué características podrían contribuir a una alta tasa de transportados a una dimensión alternativa?**\n",
        "\n",
        "Para nosotros tendría sentido todos, menos 'Name', por los demás, se correlacionaran con una alta tasa de transportados a una dimensión alternativa."
      ],
      "metadata": {
        "id": "WrnE5TRZ4NtG"
      }
    },
    {
      "cell_type": "markdown",
      "source": [
        "**1. Age:**"
      ],
      "metadata": {
        "id": "h8hVyWHtLjeG"
      }
    },
    {
      "cell_type": "code",
      "source": [
        "# Leyendas\n",
        "transported = 'transported'\n",
        "not_transported = 'not transported'\n",
        "\n",
        "# Datos de entretamiento\n",
        "age = train_df\n",
        "\n",
        "# Generar gráfica\n",
        "plt.hist(age[age['Transported']==1].Age.dropna(), bins = 16, alpha = 0.5, label = transported)\n",
        "plt.hist(age[age['Transported']==0].Age.dropna(), bins = 16, alpha = 0.5, label = not_transported)\n",
        "plt.legend(loc='upper right')\n",
        "plt.show()"
      ],
      "metadata": {
        "id": "zgGO5ygALj0u",
        "outputId": "20beed3a-6001-4e44-c4d2-6f7fd48a68a3",
        "colab": {
          "base_uri": "https://localhost:8080/",
          "height": 0
        }
      },
      "execution_count": 1162,
      "outputs": [
        {
          "output_type": "display_data",
          "data": {
            "text/plain": [
              "<Figure size 432x288 with 1 Axes>"
            ],
            "image/png": "[encoded data removed]"
          },
          "metadata": {
            "needs_background": "light"
          }
        }
      ]
    },
    {
      "cell_type": "markdown",
      "source": [
        "Puede ver que hay una alta probabilidad de ser transportado a una dimensión alternativa cuando tienen entre 0 y 5 años, el resto de las edades no hay un factor común el cual sean más atrayentes unas edades que otras para ser transportados.\n",
        "\n",
        "Dado que para **el rango 0-5 años, tienen mayores probabilidades de ser transportados a una dimensión alternativa** y como queremos que todas las características estén aproximadamente en la misma escala, lo más seguro es que para la función 'Edad' no se creen grupos de edad más adelante."
      ],
      "metadata": {
        "id": "L3nk9H1KVprG"
      }
    },
    {
      "cell_type": "markdown",
      "source": [
        "**2. VIP:**"
      ],
      "metadata": {
        "id": "poRuqx0FYyaG"
      }
    },
    {
      "cell_type": "code",
      "source": [
        "sns.barplot(x='VIP', y='Transported', data=train_df)"
      ],
      "metadata": {
        "id": "ylBtpDRCY213",
        "outputId": "039be866-5830-49ba-8cba-cb731c9cce2a",
        "colab": {
          "base_uri": "https://localhost:8080/",
          "height": 0
        }
      },
      "execution_count": 1163,
      "outputs": [
        {
          "output_type": "execute_result",
          "data": {
            "text/plain": [
              "<matplotlib.axes._subplots.AxesSubplot at 0x7f15eb56b550>"
            ]
          },
          "metadata": {},
          "execution_count": 1163
        },
        {
          "output_type": "display_data",
          "data": {
            "text/plain": [
              "<Figure size 432x288 with 1 Axes>"
            ],
            "image/png": "[encoded data removed]"
          },
          "metadata": {
            "needs_background": "light"
          }
        }
      ]
    },
    {
      "cell_type": "markdown",
      "source": [
        "**3. CryoSleep:**"
      ],
      "metadata": {
        "id": "-uwYNGXAupxf"
      }
    },
    {
      "cell_type": "markdown",
      "source": [
        "Aquí vemos que VIP está contribuyendo la posibilidad de un pasajero ser transportado a una dimensión alternativa, especialmente si esta persona no es VIP."
      ],
      "metadata": {
        "id": "hPtfzLnxtm3A"
      }
    },
    {
      "cell_type": "code",
      "source": [
        "sns.barplot(x='CryoSleep', y='Transported', data=train_df)"
      ],
      "metadata": {
        "id": "8VZTdwZ3ZEc2",
        "outputId": "3bdbe279-9fc2-44fd-b97d-be97dcc53866",
        "colab": {
          "base_uri": "https://localhost:8080/",
          "height": 0
        }
      },
      "execution_count": 1164,
      "outputs": [
        {
          "output_type": "execute_result",
          "data": {
            "text/plain": [
              "<matplotlib.axes._subplots.AxesSubplot at 0x7f15ead6ab20>"
            ]
          },
          "metadata": {},
          "execution_count": 1164
        },
        {
          "output_type": "display_data",
          "data": {
            "text/plain": [
              "<Figure size 432x288 with 1 Axes>"
            ],
            "image/png": "[encoded data removed]"
          },
          "metadata": {
            "needs_background": "light"
          }
        }
      ]
    },
    {
      "cell_type": "markdown",
      "source": [
        "Aquí vemos claramente que CryoSleep está contribuyendo la posibilidad de un pasajero ser transportado a una dimensión alternativa, especialmente si esta persona eligió ser puesto en animación suspendida durante la duración del viaje."
      ],
      "metadata": {
        "id": "t98JTUwQ3My_"
      }
    },
    {
      "cell_type": "code",
      "source": [
        "grid = sns.FacetGrid(train_df, col='Transported', row='CryoSleep', height=2.2, aspect=1.6)\n",
        "grid.map(plt.hist, 'Age', alpha=.5, bins=20)\n",
        "grid.add_legend();"
      ],
      "metadata": {
        "id": "5pYJ_S-w2_D2",
        "outputId": "d62189e8-1eac-41dc-d668-099ea871f72d",
        "colab": {
          "base_uri": "https://localhost:8080/",
          "height": 0
        }
      },
      "execution_count": 1165,
      "outputs": [
        {
          "output_type": "display_data",
          "data": {
            "text/plain": [
              "<Figure size 514.88x316.8 with 4 Axes>"
            ],
            "image/png": "[encoded data removed]"
          },
          "metadata": {
            "needs_background": "light"
          }
        }
      ]
    },
    {
      "cell_type": "markdown",
      "source": [
        "El gráfico anterior confirma la suposición sobre CryoSleep, pero también podemos detectar una alta probabilidad de que una persona que no sea CryoSleep, no sea transportada a una dimensión alternativa."
      ],
      "metadata": {
        "id": "1m-_g1hX3Lbv"
      }
    },
    {
      "cell_type": "markdown",
      "source": [
        "**4. HomePlanet:**"
      ],
      "metadata": {
        "id": "_fzdqC7GutEH"
      }
    },
    {
      "cell_type": "code",
      "source": [
        "grid = sns.FacetGrid(train_df, col='Transported', row='HomePlanet', height=2.2, aspect=1.6)\n",
        "grid.map(plt.hist, 'Age', alpha=.5, bins=20)\n",
        "grid.add_legend();"
      ],
      "metadata": {
        "id": "Jpmux6NhZ1VH",
        "outputId": "6496a26c-b239-489f-e9f5-21914cda8b62",
        "colab": {
          "base_uri": "https://localhost:8080/",
          "height": 0
        }
      },
      "execution_count": 1166,
      "outputs": [
        {
          "output_type": "display_data",
          "data": {
            "text/plain": [
              "<Figure size 514.88x475.2 with 6 Axes>"
            ],
            "image/png": "[encoded data removed]"
          },
          "metadata": {
            "needs_background": "light"
          }
        }
      ]
    },
    {
      "cell_type": "markdown",
      "source": [
        "El gráfico anterior confirma la suposición sobre el rango 0-5 años, pero también podemos detectar que casi todos los pasajeros provenientes del satélite Europa y planeta Marte en el rango de 0-10 años fueron transportados a una dimensión alternativa y en su gran mayoría los que nos fueron transportados son provenientes del planeta Tierra."
      ],
      "metadata": {
        "id": "2jqtTmvvund_"
      }
    },
    {
      "cell_type": "code",
      "source": [
        "grid = sns.FacetGrid(train_df, col='Transported', row='Destination', height=2.2, aspect=1.6)\n",
        "grid.map(plt.hist, 'Age', alpha=.5, bins=20)\n",
        "grid.add_legend();"
      ],
      "metadata": {
        "id": "Lze0VOwdZO22",
        "outputId": "27fe18ee-77f9-4597-c4f6-92d210495bf7",
        "colab": {
          "base_uri": "https://localhost:8080/",
          "height": 0
        }
      },
      "execution_count": 1167,
      "outputs": [
        {
          "output_type": "display_data",
          "data": {
            "text/plain": [
              "<Figure size 514.88x475.2 with 6 Axes>"
            ],
            "image/png": "[encoded data removed]"
          },
          "metadata": {
            "needs_background": "light"
          }
        }
      ]
    },
    {
      "cell_type": "markdown",
      "source": [
        "Podemos detectar que la gran mayoría de los pasajeros que fueron transportados a una dimensión alternativa tenían como destino al exoplaneta TRAPPIST-1e."
      ],
      "metadata": {
        "id": "0up6nsVk6zJ-"
      }
    },
    {
      "cell_type": "code",
      "source": [
        "# Datos de entretamiento\n",
        "groups = train_df.copy(deep=True)\n",
        "\n",
        "'''\n",
        "Adding 4 columns (IDGroup, NumberInGroup, GroupSize, 'IsGroup') from the input ID_Column\n",
        "'''\n",
        "# IDPrefix & NumberInGroup\n",
        "groups[['IDGroup', 'NumberInGroup']] = groups['PassengerId'].str.split('_', expand=True)\n",
        "groups[['IDGroup', 'NumberInGroup']] = groups[['IDGroup', 'NumberInGroup']].astype(int)\n",
        "\n",
        "#GroupSize & IsGroup\n",
        "group_sizes = pd.DataFrame(groups['IDGroup'].value_counts(dropna=False).sort_index())\n",
        "group_sizes.rename(columns={'IDGroup' : 'GroupSize'}, inplace=True)\n",
        "group_sizes['IDGroup'] = group_sizes.index\n",
        "\n",
        "groups['GroupSize'] = groups.merge(group_sizes, on = 'IDGroup', how='left')['GroupSize']\n",
        "\n",
        "groups['IsGroup'] = groups['GroupSize'] > 1\n",
        "groups['IsGroup'] = groups['IsGroup'].astype(int)\n",
        "\n",
        "# Generar gráfica\n",
        "axes = sns.factorplot('GroupSize','Transported', data=groups, aspect = 2.5)"
      ],
      "metadata": {
        "id": "CeKaev84d4Hm",
        "outputId": "4293d779-7671-4008-b0b9-950785b9531b",
        "colab": {
          "base_uri": "https://localhost:8080/",
          "height": 0
        }
      },
      "execution_count": 1168,
      "outputs": [
        {
          "output_type": "stream",
          "name": "stderr",
          "text": [
            "/usr/local/lib/python3.8/dist-packages/seaborn/categorical.py:3717: UserWarning: The `factorplot` function has been renamed to `catplot`. The original name will be removed in a future release. Please update your code. Note that the default `kind` in `factorplot` (`'point'`) has changed `'strip'` in `catplot`.\n",
            "  warnings.warn(msg)\n",
            "/usr/local/lib/python3.8/dist-packages/seaborn/_decorators.py:36: FutureWarning: Pass the following variables as keyword args: x, y. From version 0.12, the only valid positional argument will be `data`, and passing other arguments without an explicit keyword will result in an error or misinterpretation.\n",
            "  warnings.warn(\n"
          ]
        },
        {
          "output_type": "display_data",
          "data": {
            "text/plain": [
              "<Figure size 900x360 with 1 Axes>"
            ],
            "image/png": "[encoded data removed]"
          },
          "metadata": {
            "needs_background": "light"
          }
        }
      ]
    },
    {
      "cell_type": "markdown",
      "source": [
        "Aquí podemos ver que tenían una alta probabilidad de ser transportados a una dimensión alternativa los pasajeros que pertenecian a un grupo (salvo los casos de los grupos de 8 personas) a comparación del pasajero que venía solo."
      ],
      "metadata": {
        "id": "ru9AOOQH9XUW"
      }
    },
    {
      "cell_type": "markdown",
      "source": [
        "# **Preprocesamiento de datos**"
      ],
      "metadata": {
        "id": "Z349xjfK9ZCO"
      }
    },
    {
      "cell_type": "markdown",
      "source": [
        "## Datos Faltantes"
      ],
      "metadata": {
        "id": "0Kq9HmwWXmhd"
      }
    },
    {
      "cell_type": "markdown",
      "source": [
        "### Cabin:\n",
        "A los pasajeros que no tienen valor en la columna 'Cabin' son filas random, es decir, los 199 registros no son consecutivos, a estos, se les asignará el valor de la cabina del pasajero siguiente del dataframe."
      ],
      "metadata": {
        "id": "nwSmIO3jJJ51"
      }
    },
    {
      "cell_type": "code",
      "source": [
        "# Datos de entrenamiento y de pruebas\n",
        "data = [train_df, test_df]\n",
        "\n",
        "for dataset in data:\n",
        "  # Se asigna el valor válido de la siguiente fila\n",
        "  dataset['Cabin'] = dataset['Cabin'].fillna(method='bfill')"
      ],
      "metadata": {
        "id": "cu2oAt64X5ed"
      },
      "execution_count": 1169,
      "outputs": []
    },
    {
      "cell_type": "markdown",
      "source": [
        "### HomePlanet y Destination:\n",
        "Dado que las funciones HomePlanet y Destination solo tienen 3 valores únicos y para no aumentar la distancia del valor más común, se les asignará el valor 'Desconocido' para que no interfiera en el resultado de los modelos de aprendizaje automático."
      ],
      "metadata": {
        "id": "-B1LCRyDdb59"
      }
    },
    {
      "cell_type": "code",
      "source": [
        "train_df[['HomePlanet','Destination']].describe()"
      ],
      "metadata": {
        "colab": {
          "base_uri": "https://localhost:8080/",
          "height": 0
        },
        "id": "u0LTBM3veMoF",
        "outputId": "05640f18-a833-4865-fca3-9079dc3370f3"
      },
      "execution_count": 1170,
      "outputs": [
        {
          "output_type": "execute_result",
          "data": {
            "text/plain": [
              "       HomePlanet  Destination\n",
              "count        8492         8511\n",
              "unique          3            3\n",
              "top         Earth  TRAPPIST-1e\n",
              "freq         4602         5915"
            ],
            "text/html": [
              "\n",
              "  <div id=\"df-fd2a3c5c-92e8-429e-a065-54d96365f530\">\n",
              "    <div class=\"colab-df-container\">\n",
              "      <div>\n",
              "<style scoped>\n",
              "    .dataframe tbody tr th:only-of-type {\n",
              "        vertical-align: middle;\n",
              "    }\n",
              "\n",
              "    .dataframe tbody tr th {\n",
              "        vertical-align: top;\n",
              "    }\n",
              "\n",
              "    .dataframe thead th {\n",
              "        text-align: right;\n",
              "    }\n",
              "</style>\n",
              "<table border=\"1\" class=\"dataframe\">\n",
              "  <thead>\n",
              "    <tr style=\"text-align: right;\">\n",
              "      <th></th>\n",
              "      <th>HomePlanet</th>\n",
              "      <th>Destination</th>\n",
              "    </tr>\n",
              "  </thead>\n",
              "  <tbody>\n",
              "    <tr>\n",
              "      <th>count</th>\n",
              "      <td>8492</td>\n",
              "      <td>8511</td>\n",
              "    </tr>\n",
              "    <tr>\n",
              "      <th>unique</th>\n",
              "      <td>3</td>\n",
              "      <td>3</td>\n",
              "    </tr>\n",
              "    <tr>\n",
              "      <th>top</th>\n",
              "      <td>Earth</td>\n",
              "      <td>TRAPPIST-1e</td>\n",
              "    </tr>\n",
              "    <tr>\n",
              "      <th>freq</th>\n",
              "      <td>4602</td>\n",
              "      <td>5915</td>\n",
              "    </tr>\n",
              "  </tbody>\n",
              "</table>\n",
              "</div>\n",
              "      <button class=\"colab-df-convert\" onclick=\"convertToInteractive('df-fd2a3c5c-92e8-429e-a065-54d96365f530')\"\n",
              "              title=\"Convert this dataframe to an interactive table.\"\n",
              "              style=\"display:none;\">\n",
              "        \n",
              "  <svg xmlns=\"http://www.w3.org/2000/svg\" height=\"24px\"viewBox=\"0 0 24 24\"\n",
              "       width=\"24px\">\n",
              "    <path d=\"M0 0h24v24H0V0z\" fill=\"none\"/>\n",
              "    <path d=\"M18.56 5.44l.94 2.06.94-2.06 2.06-.94-2.06-.94-.94-2.06-.94 2.06-2.06.94zm-11 1L8.5 8.5l.94-2.06 2.06-.94-2.06-.94L8.5 2.5l-.94 2.06-2.06.94zm10 10l.94 2.06.94-2.06 2.06-.94-2.06-.94-.94-2.06-.94 2.06-2.06.94z\"/><path d=\"M17.41 7.96l-1.37-1.37c-.4-.4-.92-.59-1.43-.59-.52 0-1.04.2-1.43.59L10.3 9.45l-7.72 7.72c-.78.78-.78 2.05 0 2.83L4 21.41c.39.39.9.59 1.41.59.51 0 1.02-.2 1.41-.59l7.78-7.78 2.81-2.81c.8-.78.8-2.07 0-2.86zM5.41 20L4 18.59l7.72-7.72 1.47 1.35L5.41 20z\"/>\n",
              "  </svg>\n",
              "      </button>\n",
              "      \n",
              "  <style>\n",
              "    .colab-df-container {\n",
              "      display:flex;\n",
              "      flex-wrap:wrap;\n",
              "      gap: 12px;\n",
              "    }\n",
              "\n",
              "    .colab-df-convert {\n",
              "      background-color: #E8F0FE;\n",
              "      border: none;\n",
              "      border-radius: 50%;\n",
              "      cursor: pointer;\n",
              "      display: none;\n",
              "      fill: #1967D2;\n",
              "      height: 32px;\n",
              "      padding: 0 0 0 0;\n",
              "      width: 32px;\n",
              "    }\n",
              "\n",
              "    .colab-df-convert:hover {\n",
              "      background-color: #E2EBFA;\n",
              "      box-shadow: 0px 1px 2px rgba(60, 64, 67, 0.3), 0px 1px 3px 1px rgba(60, 64, 67, 0.15);\n",
              "      fill: #174EA6;\n",
              "    }\n",
              "\n",
              "    [theme=dark] .colab-df-convert {\n",
              "      background-color: #3B4455;\n",
              "      fill: #D2E3FC;\n",
              "    }\n",
              "\n",
              "    [theme=dark] .colab-df-convert:hover {\n",
              "      background-color: #434B5C;\n",
              "      box-shadow: 0px 1px 3px 1px rgba(0, 0, 0, 0.15);\n",
              "      filter: drop-shadow(0px 1px 2px rgba(0, 0, 0, 0.3));\n",
              "      fill: #FFFFFF;\n",
              "    }\n",
              "  </style>\n",
              "\n",
              "      <script>\n",
              "        const buttonEl =\n",
              "          document.querySelector('#df-fd2a3c5c-92e8-429e-a065-54d96365f530 button.colab-df-convert');\n",
              "        buttonEl.style.display =\n",
              "          google.colab.kernel.accessAllowed ? 'block' : 'none';\n",
              "\n",
              "        async function convertToInteractive(key) {\n",
              "          const element = document.querySelector('#df-fd2a3c5c-92e8-429e-a065-54d96365f530');\n",
              "          const dataTable =\n",
              "            await google.colab.kernel.invokeFunction('convertToInteractive',\n",
              "                                                     [key], {});\n",
              "          if (!dataTable) return;\n",
              "\n",
              "          const docLinkHtml = 'Like what you see? Visit the ' +\n",
              "            '<a target=\"_blank\" href=https://colab.research.google.com/notebooks/data_table.ipynb>data table notebook</a>'\n",
              "            + ' to learn more about interactive tables.';\n",
              "          element.innerHTML = '';\n",
              "          dataTable['output_type'] = 'display_data';\n",
              "          await google.colab.output.renderOutput(dataTable, element);\n",
              "          const docLink = document.createElement('div');\n",
              "          docLink.innerHTML = docLinkHtml;\n",
              "          element.appendChild(docLink);\n",
              "        }\n",
              "      </script>\n",
              "    </div>\n",
              "  </div>\n",
              "  "
            ]
          },
          "metadata": {},
          "execution_count": 1170
        }
      ]
    },
    {
      "cell_type": "code",
      "source": [
        "value = 'Unknown'\n",
        "data = [train_df, test_df]\n",
        "\n",
        "for dataset in data:\n",
        "    dataset['HomePlanet'] = dataset['HomePlanet'].fillna(value)\n",
        "    dataset['Destination'] = dataset['Destination'].fillna(value)"
      ],
      "metadata": {
        "id": "UM7H6tN9dazs"
      },
      "execution_count": 1171,
      "outputs": []
    },
    {
      "cell_type": "markdown",
      "source": [
        "### CryoSleep y VIP:\n",
        "Dado que las funciones CryoSleep y VIP son datos booleanos, los completaremos con que no eligió ser puesto en animación suspendida durante la duración del viaje ni que pagó por servicio VIP especial durante el viaje."
      ],
      "metadata": {
        "id": "bR6K69nggQVb"
      }
    },
    {
      "cell_type": "code",
      "source": [
        "train_df[['CryoSleep','VIP']].describe()"
      ],
      "metadata": {
        "colab": {
          "base_uri": "https://localhost:8080/",
          "height": 0
        },
        "id": "jBKdZWxagdmb",
        "outputId": "c364ae34-c536-4083-f629-de7048ede670"
      },
      "execution_count": 1172,
      "outputs": [
        {
          "output_type": "execute_result",
          "data": {
            "text/plain": [
              "       CryoSleep    VIP\n",
              "count       8476   8490\n",
              "unique         2      2\n",
              "top        False  False\n",
              "freq        5439   8291"
            ],
            "text/html": [
              "\n",
              "  <div id=\"df-58d4e399-5045-4240-8715-2a1ba06666b9\">\n",
              "    <div class=\"colab-df-container\">\n",
              "      <div>\n",
              "<style scoped>\n",
              "    .dataframe tbody tr th:only-of-type {\n",
              "        vertical-align: middle;\n",
              "    }\n",
              "\n",
              "    .dataframe tbody tr th {\n",
              "        vertical-align: top;\n",
              "    }\n",
              "\n",
              "    .dataframe thead th {\n",
              "        text-align: right;\n",
              "    }\n",
              "</style>\n",
              "<table border=\"1\" class=\"dataframe\">\n",
              "  <thead>\n",
              "    <tr style=\"text-align: right;\">\n",
              "      <th></th>\n",
              "      <th>CryoSleep</th>\n",
              "      <th>VIP</th>\n",
              "    </tr>\n",
              "  </thead>\n",
              "  <tbody>\n",
              "    <tr>\n",
              "      <th>count</th>\n",
              "      <td>8476</td>\n",
              "      <td>8490</td>\n",
              "    </tr>\n",
              "    <tr>\n",
              "      <th>unique</th>\n",
              "      <td>2</td>\n",
              "      <td>2</td>\n",
              "    </tr>\n",
              "    <tr>\n",
              "      <th>top</th>\n",
              "      <td>False</td>\n",
              "      <td>False</td>\n",
              "    </tr>\n",
              "    <tr>\n",
              "      <th>freq</th>\n",
              "      <td>5439</td>\n",
              "      <td>8291</td>\n",
              "    </tr>\n",
              "  </tbody>\n",
              "</table>\n",
              "</div>\n",
              "      <button class=\"colab-df-convert\" onclick=\"convertToInteractive('df-58d4e399-5045-4240-8715-2a1ba06666b9')\"\n",
              "              title=\"Convert this dataframe to an interactive table.\"\n",
              "              style=\"display:none;\">\n",
              "        \n",
              "  <svg xmlns=\"http://www.w3.org/2000/svg\" height=\"24px\"viewBox=\"0 0 24 24\"\n",
              "       width=\"24px\">\n",
              "    <path d=\"M0 0h24v24H0V0z\" fill=\"none\"/>\n",
              "    <path d=\"M18.56 5.44l.94 2.06.94-2.06 2.06-.94-2.06-.94-.94-2.06-.94 2.06-2.06.94zm-11 1L8.5 8.5l.94-2.06 2.06-.94-2.06-.94L8.5 2.5l-.94 2.06-2.06.94zm10 10l.94 2.06.94-2.06 2.06-.94-2.06-.94-.94-2.06-.94 2.06-2.06.94z\"/><path d=\"M17.41 7.96l-1.37-1.37c-.4-.4-.92-.59-1.43-.59-.52 0-1.04.2-1.43.59L10.3 9.45l-7.72 7.72c-.78.78-.78 2.05 0 2.83L4 21.41c.39.39.9.59 1.41.59.51 0 1.02-.2 1.41-.59l7.78-7.78 2.81-2.81c.8-.78.8-2.07 0-2.86zM5.41 20L4 18.59l7.72-7.72 1.47 1.35L5.41 20z\"/>\n",
              "  </svg>\n",
              "      </button>\n",
              "      \n",
              "  <style>\n",
              "    .colab-df-container {\n",
              "      display:flex;\n",
              "      flex-wrap:wrap;\n",
              "      gap: 12px;\n",
              "    }\n",
              "\n",
              "    .colab-df-convert {\n",
              "      background-color: #E8F0FE;\n",
              "      border: none;\n",
              "      border-radius: 50%;\n",
              "      cursor: pointer;\n",
              "      display: none;\n",
              "      fill: #1967D2;\n",
              "      height: 32px;\n",
              "      padding: 0 0 0 0;\n",
              "      width: 32px;\n",
              "    }\n",
              "\n",
              "    .colab-df-convert:hover {\n",
              "      background-color: #E2EBFA;\n",
              "      box-shadow: 0px 1px 2px rgba(60, 64, 67, 0.3), 0px 1px 3px 1px rgba(60, 64, 67, 0.15);\n",
              "      fill: #174EA6;\n",
              "    }\n",
              "\n",
              "    [theme=dark] .colab-df-convert {\n",
              "      background-color: #3B4455;\n",
              "      fill: #D2E3FC;\n",
              "    }\n",
              "\n",
              "    [theme=dark] .colab-df-convert:hover {\n",
              "      background-color: #434B5C;\n",
              "      box-shadow: 0px 1px 3px 1px rgba(0, 0, 0, 0.15);\n",
              "      filter: drop-shadow(0px 1px 2px rgba(0, 0, 0, 0.3));\n",
              "      fill: #FFFFFF;\n",
              "    }\n",
              "  </style>\n",
              "\n",
              "      <script>\n",
              "        const buttonEl =\n",
              "          document.querySelector('#df-58d4e399-5045-4240-8715-2a1ba06666b9 button.colab-df-convert');\n",
              "        buttonEl.style.display =\n",
              "          google.colab.kernel.accessAllowed ? 'block' : 'none';\n",
              "\n",
              "        async function convertToInteractive(key) {\n",
              "          const element = document.querySelector('#df-58d4e399-5045-4240-8715-2a1ba06666b9');\n",
              "          const dataTable =\n",
              "            await google.colab.kernel.invokeFunction('convertToInteractive',\n",
              "                                                     [key], {});\n",
              "          if (!dataTable) return;\n",
              "\n",
              "          const docLinkHtml = 'Like what you see? Visit the ' +\n",
              "            '<a target=\"_blank\" href=https://colab.research.google.com/notebooks/data_table.ipynb>data table notebook</a>'\n",
              "            + ' to learn more about interactive tables.';\n",
              "          element.innerHTML = '';\n",
              "          dataTable['output_type'] = 'display_data';\n",
              "          await google.colab.output.renderOutput(dataTable, element);\n",
              "          const docLink = document.createElement('div');\n",
              "          docLink.innerHTML = docLinkHtml;\n",
              "          element.appendChild(docLink);\n",
              "        }\n",
              "      </script>\n",
              "    </div>\n",
              "  </div>\n",
              "  "
            ]
          },
          "metadata": {},
          "execution_count": 1172
        }
      ]
    },
    {
      "cell_type": "code",
      "source": [
        "common_value = False\n",
        "data = [train_df, test_df]\n",
        "\n",
        "for dataset in data:\n",
        "    dataset['CryoSleep'] = dataset['CryoSleep'].fillna(common_value)\n",
        "    dataset['VIP'] = dataset['VIP'].fillna(common_value)"
      ],
      "metadata": {
        "id": "6VnQkMEsghI1"
      },
      "execution_count": 1173,
      "outputs": []
    },
    {
      "cell_type": "markdown",
      "source": [
        "### RoomService, FoodCourt, ShoppingMall, Spa y VRDeck:\n",
        "Dado que las funciones RoomService, FoodCourt, ShoppingMall, Spa y VRDeck son montos que el pasajero ha facturado en cada uno de los servicios de lujo, los completaremos con 0."
      ],
      "metadata": {
        "id": "Ef3QxLyYg-E0"
      }
    },
    {
      "cell_type": "code",
      "source": [
        "zero = 0\n",
        "data = [train_df, test_df]\n",
        "\n",
        "for dataset in data:\n",
        "    dataset['RoomService'] = dataset['RoomService'].fillna(zero)\n",
        "    dataset['FoodCourt'] = dataset['FoodCourt'].fillna(zero)\n",
        "    dataset['ShoppingMall'] = dataset['ShoppingMall'].fillna(zero)\n",
        "    dataset['Spa'] = dataset['Spa'].fillna(zero)\n",
        "    dataset['VRDeck'] = dataset['VRDeck'].fillna(zero)"
      ],
      "metadata": {
        "id": "TrjP4bNkhXlU"
      },
      "execution_count": 1174,
      "outputs": []
    },
    {
      "cell_type": "markdown",
      "source": [
        "### Name:\n",
        "Dado que el Name no lo usaremos para los modelos de aprendizaje automático, lo eliminaremos del dataframe."
      ],
      "metadata": {
        "id": "wrRrq1AHhwXF"
      }
    },
    {
      "cell_type": "code",
      "source": [
        "data = [train_df, test_df]\n",
        "\n",
        "for dataset in data:\n",
        "  dataset.drop(columns = 'Name', inplace=True)"
      ],
      "metadata": {
        "id": "4KbyaXEyh8ZV"
      },
      "execution_count": 1175,
      "outputs": []
    },
    {
      "cell_type": "markdown",
      "source": [
        "### Age:\n",
        "\n",
        "Ahora podemos abordar el problema con los valores faltantes de las características de 'Edad'. Se crea una matriz que contenga números aleatorios, que se calculan en función del valor de la edad media con respecto a la desviación estándar y is_null."
      ],
      "metadata": {
        "id": "x-h7qjTriFtc"
      }
    },
    {
      "cell_type": "code",
      "source": [
        "data = [train_df, test_df]\n",
        "\n",
        "for dataset in data:\n",
        "    mean = train_df[\"Age\"].mean()\n",
        "    std = test_df[\"Age\"].std()\n",
        "    is_null = dataset[\"Age\"].isnull().sum()\n",
        "    # Números aleatorios entre la media, desviación estándar y is_null\n",
        "    rand_age = np.random.randint(mean - std, mean + std, size = is_null)\n",
        "    # Llenamos los valores nulo en la columna Age con valores aleatorios generados\n",
        "    age_slice = dataset[\"Age\"].copy()\n",
        "    age_slice[np.isnan(age_slice)] = rand_age\n",
        "    dataset[\"Age\"] = age_slice\n",
        "    dataset[\"Age\"] = train_df[\"Age\"].astype(int)"
      ],
      "metadata": {
        "id": "SAG1Eh3RiLCj"
      },
      "execution_count": 1176,
      "outputs": []
    },
    {
      "cell_type": "markdown",
      "source": [
        "## Creación de nuevas características\n",
        "\n",
        "Agregar 7 características nuevas al conjunto de datos, que se calcula a partir de otras características."
      ],
      "metadata": {
        "id": "_DUH_PWPC5sm"
      }
    },
    {
      "cell_type": "markdown",
      "source": [
        "### 1. IDGroup, NumberInGroup, GroupSize y 'IsGroup'"
      ],
      "metadata": {
        "id": "M1A_BERVDvMv"
      }
    },
    {
      "cell_type": "code",
      "source": [
        "# Datos de entrenamiento y de pruebas\n",
        "data = [train_df, test_df]\n",
        "\n",
        "for dataset in data:\n",
        "  '''\n",
        "  Se añaden 4 columnas (IDGroup, NumberInGroup, GroupSize, 'IsGroup') de la columna 'PassengerId'\n",
        "  '''\n",
        "  # IDGroup & NumberInGroup\n",
        "  dataset[['IDGroup', 'NumberInGroup']] = dataset['PassengerId'].str.split('_', expand=True)\n",
        "  dataset[['IDGroup', 'NumberInGroup']] = dataset[['IDGroup', 'NumberInGroup']].astype(int)\n",
        "\n",
        "  group_sizes = pd.DataFrame(dataset['IDGroup'].value_counts(dropna=False).sort_index())\n",
        "  group_sizes.rename(columns={'IDGroup' : 'GroupSize'}, inplace=True)\n",
        "  group_sizes['IDGroup'] = group_sizes.index\n",
        "  \n",
        "  # GroupSize & IsGroup\n",
        "  dataset['GroupSize'] = dataset.merge(group_sizes, on = 'IDGroup', how='left')['GroupSize']\n",
        "  dataset['IsGroup'] = dataset['GroupSize'] > 1\n",
        "  dataset['IsGroup'] = dataset['IsGroup'].astype(int)"
      ],
      "metadata": {
        "id": "iEudYuTqDzv-"
      },
      "execution_count": 1177,
      "outputs": []
    },
    {
      "cell_type": "markdown",
      "source": [
        "### 2. CabinDeck, CabinNumber, CabinSide"
      ],
      "metadata": {
        "id": "9qLoLOJ-Fwpe"
      }
    },
    {
      "cell_type": "code",
      "source": [
        "# Datos de entrenamiento y de pruebas\n",
        "data = [train_df, test_df]\n",
        "\n",
        "for dataset in data:\n",
        "  '''\n",
        "  Divide el texto de descripción de 'Cabin' en 3 características diferentes,\n",
        "  rellenando los valores de NaN donde sea necesario.\n",
        "  '''\n",
        "  # Dividir la columna Cabin en 3 nuevas\n",
        "  dataset[['CabinDeck','CabinNumber','CabinSide']] = dataset['Cabin'].str.split('/', expand=True)\n",
        "  \n",
        "  # Conviertiendo el tipo de dato\n",
        "  dataset[['CabinDeck', 'CabinSide']] = dataset[['CabinDeck','CabinSide']].astype(str)\n",
        "  dataset['CabinNumber'] = dataset['CabinNumber'].astype(int)\n",
        "  \n",
        "  # Se elimina la columna Cabin ya que no nos es útil para los modelos de aprendizaje automático\n",
        "  dataset.drop(columns = 'Cabin', inplace=True)"
      ],
      "metadata": {
        "id": "zVoIPlvmFxyO"
      },
      "execution_count": 1178,
      "outputs": []
    },
    {
      "cell_type": "markdown",
      "source": [
        "## Funciones de conversión\n",
        "\n",
        "Primero, eliminar 'PassengerId' y 'IDGroup' del conjunto de train, porque no contribuye a la probabilidad de un pasajero de ser transportado a una dimensión alternativa. No se eliminará 'PassengerId' del conjunto de prueba, ya que se requiere allí para el envío."
      ],
      "metadata": {
        "id": "SmCCWSdXkBu1"
      }
    },
    {
      "cell_type": "code",
      "source": [
        "train_df = train_df.drop(['PassengerId'], axis=1)\n",
        "train_df = train_df.drop(['IDGroup'], axis=1)\n",
        "test_df = test_df.drop(['IDGroup'], axis=1)"
      ],
      "metadata": {
        "id": "8EiRsExenUj1"
      },
      "execution_count": 1179,
      "outputs": []
    },
    {
      "cell_type": "code",
      "source": [
        "train_df.info()"
      ],
      "metadata": {
        "colab": {
          "base_uri": "https://localhost:8080/"
        },
        "id": "I-oadd65kOut",
        "outputId": "7d7c9865-3612-4c96-b2bd-09da0e7f625f"
      },
      "execution_count": 1180,
      "outputs": [
        {
          "output_type": "stream",
          "name": "stdout",
          "text": [
            "<class 'pandas.core.frame.DataFrame'>\n",
            "RangeIndex: 8693 entries, 0 to 8692\n",
            "Data columns (total 17 columns):\n",
            " #   Column         Non-Null Count  Dtype  \n",
            "---  ------         --------------  -----  \n",
            " 0   HomePlanet     8693 non-null   object \n",
            " 1   CryoSleep      8693 non-null   bool   \n",
            " 2   Destination    8693 non-null   object \n",
            " 3   Age            8693 non-null   int64  \n",
            " 4   VIP            8693 non-null   bool   \n",
            " 5   RoomService    8693 non-null   float64\n",
            " 6   FoodCourt      8693 non-null   float64\n",
            " 7   ShoppingMall   8693 non-null   float64\n",
            " 8   Spa            8693 non-null   float64\n",
            " 9   VRDeck         8693 non-null   float64\n",
            " 10  Transported    8693 non-null   bool   \n",
            " 11  NumberInGroup  8693 non-null   int64  \n",
            " 12  GroupSize      8693 non-null   int64  \n",
            " 13  IsGroup        8693 non-null   int64  \n",
            " 14  CabinDeck      8693 non-null   object \n",
            " 15  CabinNumber    8693 non-null   int64  \n",
            " 16  CabinSide      8693 non-null   object \n",
            "dtypes: bool(3), float64(5), int64(5), object(4)\n",
            "memory usage: 976.4+ KB\n"
          ]
        }
      ]
    },
    {
      "cell_type": "markdown",
      "source": [
        "### HomePlanet:\n",
        "\n",
        "Convertimos la función 'HomePlanet' en numérico."
      ],
      "metadata": {
        "id": "43lNbh85oa7j"
      }
    },
    {
      "cell_type": "code",
      "source": [
        "print(train_df['HomePlanet'].unique())"
      ],
      "metadata": {
        "colab": {
          "base_uri": "https://localhost:8080/"
        },
        "id": "xNLIUedSov9N",
        "outputId": "488980e4-f9cf-4065-b4c9-41334f7514a4"
      },
      "execution_count": 1181,
      "outputs": [
        {
          "output_type": "stream",
          "name": "stdout",
          "text": [
            "['Europa' 'Earth' 'Mars' 'Unknown']\n"
          ]
        }
      ]
    },
    {
      "cell_type": "code",
      "source": [
        "origin = {\"Europa\": 0, \"Earth\": 1, \"Mars\": 2, \"Unknown\": 3}\n",
        "data = [train_df, test_df]\n",
        "\n",
        "for dataset in data:\n",
        "    dataset['HomePlanet'] = dataset['HomePlanet'].map(origin)"
      ],
      "metadata": {
        "id": "-8V4-HIsoid0"
      },
      "execution_count": 1182,
      "outputs": []
    },
    {
      "cell_type": "markdown",
      "source": [
        "### CryoSleep y VIP:\n",
        "\n",
        "Convertimos las funciones 'CryoSleep' y 'VIP' de booleano a numérico."
      ],
      "metadata": {
        "id": "aInvqvxEznlt"
      }
    },
    {
      "cell_type": "code",
      "source": [
        "boolean_value = {False: 0, True: 1}\n",
        "data = [train_df, test_df]\n",
        "\n",
        "for dataset in data:\n",
        "    dataset['CryoSleep'] = dataset['CryoSleep'].map(boolean_value)\n",
        "    dataset['VIP'] = dataset['VIP'].map(boolean_value)"
      ],
      "metadata": {
        "id": "NAslXS1czxat"
      },
      "execution_count": 1183,
      "outputs": []
    },
    {
      "cell_type": "markdown",
      "source": [
        "### Destination:\n",
        "\n",
        "Convertimos la función 'Destination' en numérico."
      ],
      "metadata": {
        "id": "GST0Qi3rpnrD"
      }
    },
    {
      "cell_type": "code",
      "source": [
        "print(train_df['Destination'].unique())"
      ],
      "metadata": {
        "colab": {
          "base_uri": "https://localhost:8080/"
        },
        "id": "1QyelmNDpq-1",
        "outputId": "f7d0aa81-d72c-4c76-e6aa-acd81db96c92"
      },
      "execution_count": 1184,
      "outputs": [
        {
          "output_type": "stream",
          "name": "stdout",
          "text": [
            "['TRAPPIST-1e' 'PSO J318.5-22' '55 Cancri e' 'Unknown']\n"
          ]
        }
      ]
    },
    {
      "cell_type": "code",
      "source": [
        "destination = {\"TRAPPIST-1e\": 0, \"PSO J318.5-22\": 1, \"55 Cancri e\": 2, \"Unknown\": 3}\n",
        "data = [train_df, test_df]\n",
        "\n",
        "for dataset in data:\n",
        "    dataset['Destination'] = dataset['Destination'].map(destination)"
      ],
      "metadata": {
        "id": "rCx-oRuJpro7"
      },
      "execution_count": 1185,
      "outputs": []
    },
    {
      "cell_type": "markdown",
      "source": [
        "### RoomService, FoodCourt, ShoppingMall, Spa, VRDeck:\n",
        "\n",
        "Convirtiendo 'RoomService', 'FoodCourt', 'ShoppingMall', 'Spa', 'VRDeck' de float a int64, utilizando la función \"astype()\" que proporciona pandas:"
      ],
      "metadata": {
        "id": "jvsLJ2WG53zG"
      }
    },
    {
      "cell_type": "code",
      "source": [
        "data = [train_df, test_df]\n",
        "\n",
        "for dataset in data:\n",
        "    dataset['RoomService'] = dataset['RoomService'].astype(int)\n",
        "    dataset['FoodCourt'] = dataset['FoodCourt'].astype(int)\n",
        "    dataset['ShoppingMall'] = dataset['ShoppingMall'].astype(int)\n",
        "    dataset['Spa'] = dataset['Spa'].astype(int)\n",
        "    dataset['VRDeck'] = dataset['VRDeck'].astype(int)"
      ],
      "metadata": {
        "id": "esuzGxTx55Tf"
      },
      "execution_count": 1186,
      "outputs": []
    },
    {
      "cell_type": "markdown",
      "source": [
        "### CabinDeck:\n",
        "\n",
        "Convertimos la función 'CabinDeck' en numérico."
      ],
      "metadata": {
        "id": "LOhMIEEpyuHt"
      }
    },
    {
      "cell_type": "code",
      "source": [
        "print(train_df['CabinDeck'].unique())"
      ],
      "metadata": {
        "colab": {
          "base_uri": "https://localhost:8080/"
        },
        "id": "iAjruKBJyw6d",
        "outputId": "f0b00276-99dc-4c3a-9997-01e75b9c3cad"
      },
      "execution_count": 1187,
      "outputs": [
        {
          "output_type": "stream",
          "name": "stdout",
          "text": [
            "['B' 'F' 'A' 'G' 'E' 'D' 'C' 'T']\n"
          ]
        }
      ]
    },
    {
      "cell_type": "code",
      "source": [
        "cabin_side = {\"A\": 0, \"B\": 1, \"C\": 2, \"D\": 3, \"E\": 4, \"F\": 5, \"G\": 6, \"T\": 7}\n",
        "data = [train_df, test_df]\n",
        "\n",
        "for dataset in data:\n",
        "    dataset['CabinDeck'] = dataset['CabinDeck'].map(cabin_side)"
      ],
      "metadata": {
        "id": "Wcy5HzEHzB3l"
      },
      "execution_count": 1188,
      "outputs": []
    },
    {
      "cell_type": "markdown",
      "source": [
        "### CabinSide:\n",
        "\n",
        "Convertimos la función 'CabinSide' en numérico."
      ],
      "metadata": {
        "id": "7aOjZs6krAJj"
      }
    },
    {
      "cell_type": "code",
      "source": [
        "print(train_df['CabinSide'].unique())"
      ],
      "metadata": {
        "colab": {
          "base_uri": "https://localhost:8080/"
        },
        "id": "Vvj_03QjrClj",
        "outputId": "6bb0e835-f05b-48c5-cd62-cbfe58c9843b"
      },
      "execution_count": 1189,
      "outputs": [
        {
          "output_type": "stream",
          "name": "stdout",
          "text": [
            "['P' 'S']\n"
          ]
        }
      ]
    },
    {
      "cell_type": "code",
      "source": [
        "cabin_side = {\"S\": 0, \"P\": 1}\n",
        "data = [train_df, test_df]\n",
        "\n",
        "for dataset in data:\n",
        "    dataset['CabinSide'] = dataset['CabinSide'].map(cabin_side)"
      ],
      "metadata": {
        "id": "0UhAT6Y9rEll"
      },
      "execution_count": 1190,
      "outputs": []
    },
    {
      "cell_type": "markdown",
      "source": [
        "## Creación de categorías\n",
        "\n",
        "Ahora crearemos categorías dentro de las siguientes características:\n",
        "\n"
      ],
      "metadata": {
        "id": "nXzXKZFYi4ot"
      }
    },
    {
      "cell_type": "markdown",
      "source": [
        "### Age:\n",
        "Categorizaremos la función 'Age' en grupos equitativos."
      ],
      "metadata": {
        "id": "nxAnc5id0llF"
      }
    },
    {
      "cell_type": "code",
      "source": [
        "data = [train_df, test_df]\n",
        "for dataset in data:\n",
        "    dataset['Age'] = dataset['Age'].astype(int)\n",
        "    dataset.loc[ dataset['Age'] <= 14, 'Age'] = 0\n",
        "    dataset.loc[(dataset['Age'] > 14) & (dataset['Age'] <= 19), 'Age'] = 1\n",
        "    dataset.loc[(dataset['Age'] > 19) & (dataset['Age'] <= 23), 'Age'] = 2\n",
        "    dataset.loc[(dataset['Age'] > 23) & (dataset['Age'] <= 28), 'Age'] = 3\n",
        "    dataset.loc[(dataset['Age'] > 28) & (dataset['Age'] <= 34), 'Age'] = 4\n",
        "    dataset.loc[(dataset['Age'] > 34) & (dataset['Age'] <= 43), 'Age'] = 5\n",
        "    dataset.loc[ dataset['Age'] > 43, 'Age'] = 6"
      ],
      "metadata": {
        "id": "unLmU1qF01Z-"
      },
      "execution_count": 1191,
      "outputs": []
    },
    {
      "cell_type": "code",
      "source": [
        "# Veamos cómo se distribuye\n",
        "train_df['Age'].value_counts()"
      ],
      "metadata": {
        "colab": {
          "base_uri": "https://localhost:8080/"
        },
        "id": "pX9j3Ol60-ZV",
        "outputId": "b321f549-84ae-4af8-ac73-844971982e4b"
      },
      "execution_count": 1192,
      "outputs": [
        {
          "output_type": "execute_result",
          "data": {
            "text/plain": [
              "3    1392\n",
              "5    1381\n",
              "6    1355\n",
              "2    1204\n",
              "4    1174\n",
              "1    1098\n",
              "0    1089\n",
              "Name: Age, dtype: int64"
            ]
          },
          "metadata": {},
          "execution_count": 1192
        }
      ]
    },
    {
      "cell_type": "markdown",
      "source": [
        "### CabinNumber:\n",
        "Para la función 'CabinNumber', debemos hacer lo mismo que con la función 'Age'. Pero no es tan fácil, porque si dividimos el rango de los valores del número de las cabinas en unas pocas categorías igualmente grandes, el 80% de los valores caerían en las 2 primeras categorías. Afortunadamente, podemos usar la función sklearn \"qcut()\", que podemos usar para ver cómo podemos formar las categorías."
      ],
      "metadata": {
        "id": "RuyeGGQa6z7G"
      }
    },
    {
      "cell_type": "code",
      "source": [
        "data = [train_df, test_df]\n",
        "\n",
        "for dataset in data:\n",
        "    dataset['CabinNumber'] = pd.qcut(dataset['CabinNumber'], 9, labels=False)"
      ],
      "metadata": {
        "id": "pJSVhwfD9sNd"
      },
      "execution_count": 1193,
      "outputs": []
    },
    {
      "cell_type": "code",
      "source": [
        "# Veamos cómo se distribuye\n",
        "train_df['CabinNumber'].value_counts()"
      ],
      "metadata": {
        "colab": {
          "base_uri": "https://localhost:8080/"
        },
        "id": "ERowx2Ng8qhO",
        "outputId": "508e225f-d1e3-431f-e729-6f43575bf535"
      },
      "execution_count": 1194,
      "outputs": [
        {
          "output_type": "execute_result",
          "data": {
            "text/plain": [
              "1    971\n",
              "2    968\n",
              "0    967\n",
              "5    967\n",
              "6    966\n",
              "7    966\n",
              "8    965\n",
              "3    962\n",
              "4    961\n",
              "Name: CabinNumber, dtype: int64"
            ]
          },
          "metadata": {},
          "execution_count": 1194
        }
      ]
    },
    {
      "cell_type": "markdown",
      "source": [
        "### RoomService, FoodCourt, ShoppingMall, Spa, VRDeck:\n",
        "Categorizaremos la función 'RoomService', 'FoodCourt, 'ShoppingMall, 'Spa y 'VRDeck' en 2 grupos cada uno, los pasajeros que no han facturado en cada uno de los servicios de lujo, y los que si."
      ],
      "metadata": {
        "id": "lNpnRIXrAaFf"
      }
    },
    {
      "cell_type": "code",
      "source": [
        "data = [train_df, test_df]\n",
        "for dataset in data:\n",
        "    dataset.loc[ dataset['RoomService'] > 0, 'RoomService'] = 1\n",
        "    dataset.loc[ dataset['FoodCourt'] > 0, 'FoodCourt'] = 1\n",
        "    dataset.loc[ dataset['ShoppingMall'] > 0, 'ShoppingMall'] = 1\n",
        "    dataset.loc[ dataset['Spa'] > 0, 'Spa'] = 1\n",
        "    dataset.loc[ dataset['VRDeck'] > 0, 'VRDeck'] = 1"
      ],
      "metadata": {
        "id": "qDvpnYQvAaz9"
      },
      "execution_count": 1195,
      "outputs": []
    },
    {
      "cell_type": "markdown",
      "source": [
        "Veamos cómo se distribuyeron"
      ],
      "metadata": {
        "id": "tlLKFsxGBrb-"
      }
    },
    {
      "cell_type": "code",
      "source": [
        "train_df['RoomService'].value_counts()"
      ],
      "metadata": {
        "colab": {
          "base_uri": "https://localhost:8080/"
        },
        "id": "jGsDTC6TBL6u",
        "outputId": "48647707-d34e-478a-c4be-bab3ff84a08a"
      },
      "execution_count": 1196,
      "outputs": [
        {
          "output_type": "execute_result",
          "data": {
            "text/plain": [
              "0    5758\n",
              "1    2935\n",
              "Name: RoomService, dtype: int64"
            ]
          },
          "metadata": {},
          "execution_count": 1196
        }
      ]
    },
    {
      "cell_type": "code",
      "source": [
        "train_df['FoodCourt'].value_counts()"
      ],
      "metadata": {
        "colab": {
          "base_uri": "https://localhost:8080/"
        },
        "id": "4CoKzALaBWLO",
        "outputId": "bb3732f8-a736-4876-a2c4-f857a7b3f42f"
      },
      "execution_count": 1197,
      "outputs": [
        {
          "output_type": "execute_result",
          "data": {
            "text/plain": [
              "0    5639\n",
              "1    3054\n",
              "Name: FoodCourt, dtype: int64"
            ]
          },
          "metadata": {},
          "execution_count": 1197
        }
      ]
    },
    {
      "cell_type": "code",
      "source": [
        "train_df['ShoppingMall'].value_counts()"
      ],
      "metadata": {
        "colab": {
          "base_uri": "https://localhost:8080/"
        },
        "id": "wa0nw-GZBWil",
        "outputId": "06a1c13e-2260-4ac1-cf4b-f68f6b215e50"
      },
      "execution_count": 1198,
      "outputs": [
        {
          "output_type": "execute_result",
          "data": {
            "text/plain": [
              "0    5795\n",
              "1    2898\n",
              "Name: ShoppingMall, dtype: int64"
            ]
          },
          "metadata": {},
          "execution_count": 1198
        }
      ]
    },
    {
      "cell_type": "code",
      "source": [
        "train_df['Spa'].value_counts()"
      ],
      "metadata": {
        "colab": {
          "base_uri": "https://localhost:8080/"
        },
        "id": "QJ3Ef3vRBW8l",
        "outputId": "2e8512e0-4bab-4c76-d184-8e41159eb247"
      },
      "execution_count": 1199,
      "outputs": [
        {
          "output_type": "execute_result",
          "data": {
            "text/plain": [
              "0    5507\n",
              "1    3186\n",
              "Name: Spa, dtype: int64"
            ]
          },
          "metadata": {},
          "execution_count": 1199
        }
      ]
    },
    {
      "cell_type": "code",
      "source": [
        "train_df['VRDeck'].value_counts()"
      ],
      "metadata": {
        "colab": {
          "base_uri": "https://localhost:8080/"
        },
        "id": "UCHzyATbBXK9",
        "outputId": "2796a150-ac7f-4008-8976-add0d8613a8a"
      },
      "execution_count": 1200,
      "outputs": [
        {
          "output_type": "execute_result",
          "data": {
            "text/plain": [
              "0    5683\n",
              "1    3010\n",
              "Name: VRDeck, dtype: int64"
            ]
          },
          "metadata": {},
          "execution_count": 1200
        }
      ]
    },
    {
      "cell_type": "markdown",
      "source": [
        "# Construcción de modelos de aprendizaje automático"
      ],
      "metadata": {
        "id": "Q8SgPnwAg4Uv"
      }
    },
    {
      "cell_type": "code",
      "source": [
        "Y_train = train_df[\"Transported\"]\n",
        "X_train = train_df.drop(\"Transported\", axis=1)\n",
        "X_test  = test_df.drop(\"PassengerId\", axis=1).copy()"
      ],
      "metadata": {
        "id": "UjqeNABQDEec"
      },
      "execution_count": 1201,
      "outputs": []
    },
    {
      "cell_type": "code",
      "source": [
        "# stochastic gradient descent (SGD) learning\n",
        "sgd = linear_model.SGDClassifier(max_iter=5, tol=None)\n",
        "sgd.fit(X_train, Y_train)\n",
        "Y_pred = sgd.predict(X_test)\n",
        "\n",
        "sgd.score(X_train, Y_train)\n",
        "\n",
        "acc_sgd = round(sgd.score(X_train, Y_train) * 100, 2)\n",
        "\n",
        "print(round(acc_sgd,2,), \"%\")"
      ],
      "metadata": {
        "id": "QXwmzupMDwB0",
        "outputId": "e2681eca-637b-425f-bea7-739ce15c11af",
        "colab": {
          "base_uri": "https://localhost:8080/"
        }
      },
      "execution_count": 1202,
      "outputs": [
        {
          "output_type": "stream",
          "name": "stdout",
          "text": [
            "72.1 %\n"
          ]
        }
      ]
    },
    {
      "cell_type": "code",
      "source": [
        "# Random Forest\n",
        "random_forest = RandomForestClassifier(n_estimators=100)\n",
        "random_forest.fit(X_train, Y_train)\n",
        "\n",
        "Y_prediction = random_forest.predict(X_test)\n",
        "\n",
        "random_forest.score(X_train, Y_train)\n",
        "acc_random_forest = round(random_forest.score(X_train, Y_train) * 100, 2)\n",
        "print(round(acc_random_forest,2,), \"%\")"
      ],
      "metadata": {
        "id": "zrMEouTuER2t",
        "outputId": "bf9f9236-a2ee-4232-c3c3-cbf596d5767a",
        "colab": {
          "base_uri": "https://localhost:8080/"
        }
      },
      "execution_count": 1203,
      "outputs": [
        {
          "output_type": "stream",
          "name": "stdout",
          "text": [
            "95.88 %\n"
          ]
        }
      ]
    },
    {
      "cell_type": "code",
      "source": [
        "# Logistic Regression\n",
        "logreg = LogisticRegression()\n",
        "logreg.fit(X_train, Y_train)\n",
        "\n",
        "Y_pred = logreg.predict(X_test)\n",
        "\n",
        "acc_log = round(logreg.score(X_train, Y_train) * 100, 2)\n",
        "print(round(acc_log,2,), \"%\")"
      ],
      "metadata": {
        "id": "FHs-OJZnEfOF",
        "outputId": "224cf759-7646-4596-c565-620720b45179",
        "colab": {
          "base_uri": "https://localhost:8080/"
        }
      },
      "execution_count": 1204,
      "outputs": [
        {
          "output_type": "stream",
          "name": "stdout",
          "text": [
            "73.8 %\n"
          ]
        }
      ]
    },
    {
      "cell_type": "code",
      "source": [
        "# KNN\n",
        "knn = KNeighborsClassifier(n_neighbors = 3)\n",
        "knn.fit(X_train, Y_train)\n",
        "\n",
        "Y_pred = knn.predict(X_test)\n",
        "\n",
        "acc_knn = round(knn.score(X_train, Y_train) * 100, 2)\n",
        "print(round(acc_knn,2,), \"%\")"
      ],
      "metadata": {
        "id": "XpEWDClAEte_",
        "outputId": "1b0a5c0b-0536-4640-aba0-3be5f408b9a9",
        "colab": {
          "base_uri": "https://localhost:8080/"
        }
      },
      "execution_count": 1205,
      "outputs": [
        {
          "output_type": "stream",
          "name": "stdout",
          "text": [
            "83.27 %\n"
          ]
        }
      ]
    },
    {
      "cell_type": "code",
      "source": [
        "# Gaussian Naive Bayes\n",
        "gaussian = GaussianNB()\n",
        "gaussian.fit(X_train, Y_train)\n",
        "\n",
        "Y_pred = gaussian.predict(X_test)\n",
        "\n",
        "acc_gaussian = round(gaussian.score(X_train, Y_train) * 100, 2)\n",
        "print(round(acc_gaussian,2,), \"%\")"
      ],
      "metadata": {
        "id": "m_LrBC6sE74-",
        "outputId": "41a214ae-abbd-4ac2-c515-4164b9cc9b60",
        "colab": {
          "base_uri": "https://localhost:8080/"
        }
      },
      "execution_count": 1206,
      "outputs": [
        {
          "output_type": "stream",
          "name": "stdout",
          "text": [
            "73.31 %\n"
          ]
        }
      ]
    },
    {
      "cell_type": "code",
      "source": [
        "# Perceptron\n",
        "perceptron = Perceptron(max_iter=5)\n",
        "perceptron.fit(X_train, Y_train)\n",
        "\n",
        "Y_pred = perceptron.predict(X_test)\n",
        "\n",
        "acc_perceptron = round(perceptron.score(X_train, Y_train) * 100, 2)\n",
        "print(round(acc_perceptron,2,), \"%\")"
      ],
      "metadata": {
        "id": "zQGfs1LAFDDV",
        "outputId": "24b4dd29-c812-4c14-a989-e564492b3de0",
        "colab": {
          "base_uri": "https://localhost:8080/"
        }
      },
      "execution_count": 1207,
      "outputs": [
        {
          "output_type": "stream",
          "name": "stdout",
          "text": [
            "71.2 %\n"
          ]
        },
        {
          "output_type": "stream",
          "name": "stderr",
          "text": [
            "/usr/local/lib/python3.8/dist-packages/sklearn/linear_model/_stochastic_gradient.py:696: ConvergenceWarning: Maximum number of iteration reached before convergence. Consider increasing max_iter to improve the fit.\n",
            "  warnings.warn(\n"
          ]
        }
      ]
    },
    {
      "cell_type": "code",
      "source": [
        "# Linear SVC\n",
        "linear_svc = LinearSVC()\n",
        "linear_svc.fit(X_train, Y_train)\n",
        "\n",
        "Y_pred = linear_svc.predict(X_test)\n",
        "\n",
        "acc_linear_svc = round(linear_svc.score(X_train, Y_train) * 100, 2)\n",
        "print(round(acc_linear_svc,2,), \"%\")"
      ],
      "metadata": {
        "id": "u2sOcLAOFKPu",
        "outputId": "cdf687ad-e289-4299-b7f0-18d654dc5b7e",
        "colab": {
          "base_uri": "https://localhost:8080/"
        }
      },
      "execution_count": 1208,
      "outputs": [
        {
          "output_type": "stream",
          "name": "stdout",
          "text": [
            "74.22 %\n"
          ]
        },
        {
          "output_type": "stream",
          "name": "stderr",
          "text": [
            "/usr/local/lib/python3.8/dist-packages/sklearn/svm/_base.py:1206: ConvergenceWarning: Liblinear failed to converge, increase the number of iterations.\n",
            "  warnings.warn(\n"
          ]
        }
      ]
    },
    {
      "cell_type": "code",
      "source": [
        "# Decision Tree\n",
        "decision_tree = DecisionTreeClassifier()\n",
        "decision_tree.fit(X_train, Y_train)\n",
        "\n",
        "Y_pred = decision_tree.predict(X_test)\n",
        "\n",
        "acc_decision_tree = round(decision_tree.score(X_train, Y_train) * 100, 2)\n",
        "print(round(acc_decision_tree,2,), \"%\")"
      ],
      "metadata": {
        "id": "-G7pzo4oFTFN",
        "outputId": "2d040118-1838-45be-f9e8-1f24b0092142",
        "colab": {
          "base_uri": "https://localhost:8080/"
        }
      },
      "execution_count": 1209,
      "outputs": [
        {
          "output_type": "stream",
          "name": "stdout",
          "text": [
            "95.88 %\n"
          ]
        }
      ]
    },
    {
      "cell_type": "markdown",
      "source": [
        "##  Cual es el mejor modelo ?"
      ],
      "metadata": {
        "id": "Yf50O5qYEI5M"
      }
    },
    {
      "cell_type": "code",
      "source": [
        "results = pd.DataFrame({\n",
        "    'Model': ['Support Vector Machines', 'KNN', 'Logistic Regression', \n",
        "              'Random Forest', 'Naive Bayes', 'Perceptron', \n",
        "              'Stochastic Gradient Decent',  'Decision Tree'],\n",
        "    'Score': [acc_linear_svc, acc_knn, acc_log, acc_random_forest, acc_gaussian,\n",
        "              acc_perceptron, acc_sgd, acc_decision_tree]})\n",
        "result_df = results.sort_values(by='Score', ascending=False)\n",
        "result_df = result_df.set_index('Score')\n",
        "result_df.head(9)"
      ],
      "metadata": {
        "id": "IRsG4xqFEGs1",
        "outputId": "b1bf47e5-b845-4d33-c05c-ce6a54f67f5d",
        "colab": {
          "base_uri": "https://localhost:8080/",
          "height": 332
        }
      },
      "execution_count": 1210,
      "outputs": [
        {
          "output_type": "execute_result",
          "data": {
            "text/plain": [
              "                            Model\n",
              "Score                            \n",
              "95.88               Random Forest\n",
              "95.88               Decision Tree\n",
              "83.27                         KNN\n",
              "74.22     Support Vector Machines\n",
              "73.80         Logistic Regression\n",
              "73.31                 Naive Bayes\n",
              "72.10  Stochastic Gradient Decent\n",
              "71.20                  Perceptron"
            ],
            "text/html": [
              "\n",
              "  <div id=\"df-4cfff807-4b98-4081-ad77-19c778b37220\">\n",
              "    <div class=\"colab-df-container\">\n",
              "      <div>\n",
              "<style scoped>\n",
              "    .dataframe tbody tr th:only-of-type {\n",
              "        vertical-align: middle;\n",
              "    }\n",
              "\n",
              "    .dataframe tbody tr th {\n",
              "        vertical-align: top;\n",
              "    }\n",
              "\n",
              "    .dataframe thead th {\n",
              "        text-align: right;\n",
              "    }\n",
              "</style>\n",
              "<table border=\"1\" class=\"dataframe\">\n",
              "  <thead>\n",
              "    <tr style=\"text-align: right;\">\n",
              "      <th></th>\n",
              "      <th>Model</th>\n",
              "    </tr>\n",
              "    <tr>\n",
              "      <th>Score</th>\n",
              "      <th></th>\n",
              "    </tr>\n",
              "  </thead>\n",
              "  <tbody>\n",
              "    <tr>\n",
              "      <th>95.88</th>\n",
              "      <td>Random Forest</td>\n",
              "    </tr>\n",
              "    <tr>\n",
              "      <th>95.88</th>\n",
              "      <td>Decision Tree</td>\n",
              "    </tr>\n",
              "    <tr>\n",
              "      <th>83.27</th>\n",
              "      <td>KNN</td>\n",
              "    </tr>\n",
              "    <tr>\n",
              "      <th>74.22</th>\n",
              "      <td>Support Vector Machines</td>\n",
              "    </tr>\n",
              "    <tr>\n",
              "      <th>73.80</th>\n",
              "      <td>Logistic Regression</td>\n",
              "    </tr>\n",
              "    <tr>\n",
              "      <th>73.31</th>\n",
              "      <td>Naive Bayes</td>\n",
              "    </tr>\n",
              "    <tr>\n",
              "      <th>72.10</th>\n",
              "      <td>Stochastic Gradient Decent</td>\n",
              "    </tr>\n",
              "    <tr>\n",
              "      <th>71.20</th>\n",
              "      <td>Perceptron</td>\n",
              "    </tr>\n",
              "  </tbody>\n",
              "</table>\n",
              "</div>\n",
              "      <button class=\"colab-df-convert\" onclick=\"convertToInteractive('df-4cfff807-4b98-4081-ad77-19c778b37220')\"\n",
              "              title=\"Convert this dataframe to an interactive table.\"\n",
              "              style=\"display:none;\">\n",
              "        \n",
              "  <svg xmlns=\"http://www.w3.org/2000/svg\" height=\"24px\"viewBox=\"0 0 24 24\"\n",
              "       width=\"24px\">\n",
              "    <path d=\"M0 0h24v24H0V0z\" fill=\"none\"/>\n",
              "    <path d=\"M18.56 5.44l.94 2.06.94-2.06 2.06-.94-2.06-.94-.94-2.06-.94 2.06-2.06.94zm-11 1L8.5 8.5l.94-2.06 2.06-.94-2.06-.94L8.5 2.5l-.94 2.06-2.06.94zm10 10l.94 2.06.94-2.06 2.06-.94-2.06-.94-.94-2.06-.94 2.06-2.06.94z\"/><path d=\"M17.41 7.96l-1.37-1.37c-.4-.4-.92-.59-1.43-.59-.52 0-1.04.2-1.43.59L10.3 9.45l-7.72 7.72c-.78.78-.78 2.05 0 2.83L4 21.41c.39.39.9.59 1.41.59.51 0 1.02-.2 1.41-.59l7.78-7.78 2.81-2.81c.8-.78.8-2.07 0-2.86zM5.41 20L4 18.59l7.72-7.72 1.47 1.35L5.41 20z\"/>\n",
              "  </svg>\n",
              "      </button>\n",
              "      \n",
              "  <style>\n",
              "    .colab-df-container {\n",
              "      display:flex;\n",
              "      flex-wrap:wrap;\n",
              "      gap: 12px;\n",
              "    }\n",
              "\n",
              "    .colab-df-convert {\n",
              "      background-color: #E8F0FE;\n",
              "      border: none;\n",
              "      border-radius: 50%;\n",
              "      cursor: pointer;\n",
              "      display: none;\n",
              "      fill: #1967D2;\n",
              "      height: 32px;\n",
              "      padding: 0 0 0 0;\n",
              "      width: 32px;\n",
              "    }\n",
              "\n",
              "    .colab-df-convert:hover {\n",
              "      background-color: #E2EBFA;\n",
              "      box-shadow: 0px 1px 2px rgba(60, 64, 67, 0.3), 0px 1px 3px 1px rgba(60, 64, 67, 0.15);\n",
              "      fill: #174EA6;\n",
              "    }\n",
              "\n",
              "    [theme=dark] .colab-df-convert {\n",
              "      background-color: #3B4455;\n",
              "      fill: #D2E3FC;\n",
              "    }\n",
              "\n",
              "    [theme=dark] .colab-df-convert:hover {\n",
              "      background-color: #434B5C;\n",
              "      box-shadow: 0px 1px 3px 1px rgba(0, 0, 0, 0.15);\n",
              "      filter: drop-shadow(0px 1px 2px rgba(0, 0, 0, 0.3));\n",
              "      fill: #FFFFFF;\n",
              "    }\n",
              "  </style>\n",
              "\n",
              "      <script>\n",
              "        const buttonEl =\n",
              "          document.querySelector('#df-4cfff807-4b98-4081-ad77-19c778b37220 button.colab-df-convert');\n",
              "        buttonEl.style.display =\n",
              "          google.colab.kernel.accessAllowed ? 'block' : 'none';\n",
              "\n",
              "        async function convertToInteractive(key) {\n",
              "          const element = document.querySelector('#df-4cfff807-4b98-4081-ad77-19c778b37220');\n",
              "          const dataTable =\n",
              "            await google.colab.kernel.invokeFunction('convertToInteractive',\n",
              "                                                     [key], {});\n",
              "          if (!dataTable) return;\n",
              "\n",
              "          const docLinkHtml = 'Like what you see? Visit the ' +\n",
              "            '<a target=\"_blank\" href=https://colab.research.google.com/notebooks/data_table.ipynb>data table notebook</a>'\n",
              "            + ' to learn more about interactive tables.';\n",
              "          element.innerHTML = '';\n",
              "          dataTable['output_type'] = 'display_data';\n",
              "          await google.colab.output.renderOutput(dataTable, element);\n",
              "          const docLink = document.createElement('div');\n",
              "          docLink.innerHTML = docLinkHtml;\n",
              "          element.appendChild(docLink);\n",
              "        }\n",
              "      </script>\n",
              "    </div>\n",
              "  </div>\n",
              "  "
            ]
          },
          "metadata": {},
          "execution_count": 1210
        }
      ]
    },
    {
      "cell_type": "markdown",
      "source": [
        "Como podemos ver, los clasificadores Decision Tree y Random Forest son los mejores con el mismo score, sin embargo, el clasificador Decision Tree hizo su ejecución en menos de 1 segundo, a diferencia del Random Forest que se alcanza a demorar hasta los 2 segundos."
      ],
      "metadata": {
        "id": "riD2U85fEN6U"
      }
    }
  ]
}